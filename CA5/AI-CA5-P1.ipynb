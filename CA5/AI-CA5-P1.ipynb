{
  "cells": [
    {
      "cell_type": "markdown",
      "metadata": {
        "id": "z2GBNjbCt1u2"
      },
      "source": [
        "![University of Tehran](https://github.com/daniyalmaroufi/AI_Course/blob/main/CA5/img/UT.png?raw=1)\n",
        "#   <font color='red'><center>AI CA 5 - Phase 1<center></font> \n",
        "## <center>Dr. Fadaei<center>\n",
        "### <center>Daniyal Maroufi<center>\n",
        "### <center>810098039<center>\n"
      ]
    },
    {
      "cell_type": "markdown",
      "metadata": {
        "id": "POnLeqrKt1u5"
      },
      "source": [
        "## Aim\n",
        "\n",
        "This assignment aims to implement a neural networks API from scratch and use it to train a model for classifying handwritten Persian numbers.\n"
      ]
    },
    {
      "cell_type": "markdown",
      "metadata": {
        "id": "KNm88pUqt1u6"
      },
      "source": [
        "# Dataset\n",
        "\n",
        "The dataset consists of 102353 handwritten Persian numbers of digits 0 to 9.\n",
        "\n",
        "![Digits_Sample](https://github.com/daniyalmaroufi/AI_Course/blob/main/CA5/img/Digits_Sample.gif?raw=1)"
      ]
    },
    {
      "cell_type": "markdown",
      "metadata": {
        "id": "W8J_WRkpt1u7"
      },
      "source": [
        "# Part 1 - Preprocessing"
      ]
    },
    {
      "cell_type": "code",
      "execution_count": 93,
      "metadata": {
        "id": "bb5R-7yet1u7"
      },
      "outputs": [],
      "source": [
        "import copy\n",
        "import random\n",
        "import pickle\n",
        "from collections import defaultdict\n",
        "import numpy as np\n",
        "import matplotlib.pyplot as plt\n",
        "import cv2\n",
        "from sklearn.utils import shuffle\n",
        "from sklearn.model_selection import train_test_split"
      ]
    },
    {
      "cell_type": "code",
      "execution_count": 4,
      "metadata": {
        "id": "Dl4a2HY2t1u9"
      },
      "outputs": [],
      "source": [
        "with open('data.pkl','rb') as f:\n",
        "    data=pickle.load(f)\n",
        "with open('labels.pkl','rb') as f:\n",
        "    labels=pickle.load(f)\n"
      ]
    },
    {
      "cell_type": "code",
      "execution_count": 5,
      "metadata": {
        "id": "9E83SKP0t1u-"
      },
      "outputs": [],
      "source": [
        "# https://github.com/amir-saniyan/HodaDatasetReader/blob/master/HodaDatasetReader.py\n",
        "def resize_image(src_image, dst_image_height=25, dst_image_width=25):\n",
        "    src_image_height = src_image.shape[0]\n",
        "    src_image_width = src_image.shape[1]\n",
        "\n",
        "    if src_image_height > dst_image_height or src_image_width > dst_image_width:\n",
        "        height_scale = dst_image_height / src_image_height\n",
        "        width_scale = dst_image_width / src_image_width\n",
        "        scale = min(height_scale, width_scale)\n",
        "        img = cv2.resize(src=src_image, dsize=(0, 0), fx=scale, fy=scale, interpolation=cv2.INTER_CUBIC)\n",
        "    else:\n",
        "        img = src_image\n",
        "\n",
        "    img_height = img.shape[0]\n",
        "    img_width = img.shape[1]\n",
        "\n",
        "    dst_image = np.zeros(shape=[dst_image_height, dst_image_width], dtype=np.uint8)\n",
        "\n",
        "    y_offset = (dst_image_height - img_height) // 2\n",
        "    x_offset = (dst_image_width - img_width) // 2\n",
        "\n",
        "    dst_image[y_offset:y_offset+img_height, x_offset:x_offset+img_width] = img\n",
        "\n",
        "    return dst_image"
      ]
    },
    {
      "cell_type": "code",
      "execution_count": 6,
      "metadata": {
        "id": "nc-bgZEit1u_"
      },
      "outputs": [],
      "source": [
        "n_data=len(data)"
      ]
    },
    {
      "cell_type": "code",
      "execution_count": null,
      "metadata": {
        "id": "7f-s5baNt1u_",
        "outputId": "133e4069-1b14-4acd-9088-e19ba08acd67"
      },
      "outputs": [
        {
          "data": {
            "image/png": "[encoded data removed]",
            "text/plain": [
              "<Figure size 432x288 with 1 Axes>"
            ]
          },
          "metadata": {
            "needs_background": "light"
          },
          "output_type": "display_data"
        }
      ],
      "source": [
        "img_idx=random.randint(0,n_data)\n",
        "img=resize_image(data[img_idx])\n",
        "plt.imshow(img)\n",
        "plt.show()"
      ]
    },
    {
      "cell_type": "code",
      "execution_count": 7,
      "metadata": {
        "id": "b3jguSGHt1vA"
      },
      "outputs": [],
      "source": [
        "for i in range(n_data):\n",
        "    data[i]=resize_image(data[i]).flatten()\n"
      ]
    },
    {
      "cell_type": "code",
      "execution_count": 8,
      "metadata": {
        "colab": {
          "base_uri": "https://localhost:8080/"
        },
        "id": "G4-rf62Ht1vB",
        "outputId": "fd811984-1536-4b79-ac6a-16a5fdcdee88"
      },
      "outputs": [
        {
          "name": "stdout",
          "output_type": "stream",
          "text": [
            "The value of each pixel is between 0 and 255\n"
          ]
        }
      ],
      "source": [
        "print('The value of each pixel is between',np.min(data[i]),'and',np.max(data[i]))"
      ]
    },
    {
      "cell_type": "code",
      "execution_count": 9,
      "metadata": {
        "colab": {
          "base_uri": "https://localhost:8080/",
          "height": 416
        },
        "id": "-Y05nsPst1vB",
        "outputId": "b3d55d20-622b-48af-8c11-002388ec9c95"
      },
      "outputs": [
        {
          "data": {
            "image/png": "[encoded data removed]",
            "text/plain": [
              "<Figure size 1080x504 with 10 Axes>"
            ]
          },
          "metadata": {
            "needs_background": "light"
          },
          "output_type": "display_data"
        }
      ],
      "source": [
        "plt.figure(figsize=(15,7))\n",
        "for class_idx in range(10):\n",
        "    for i in range(n_data):\n",
        "        if labels[i]==class_idx:\n",
        "            plt.subplot(2,5,class_idx+1)\n",
        "            plt.imshow(data[i].reshape(25,25))\n",
        "            plt.title('class: '+str(class_idx))\n",
        "            break\n",
        "\n",
        "plt.show()"
      ]
    },
    {
      "cell_type": "code",
      "execution_count": 10,
      "metadata": {
        "id": "LscTFqRMt1vC"
      },
      "outputs": [],
      "source": [
        "x_train,x_test,y_train,y_test=train_test_split(data,labels,test_size=0.2)"
      ]
    },
    {
      "cell_type": "code",
      "execution_count": 11,
      "metadata": {
        "id": "4lNvB9Y6t1vC"
      },
      "outputs": [],
      "source": [
        "train_classes_samples_count=defaultdict(lambda: 0)\n",
        "test_classes_samples_count=defaultdict(lambda: 0)\n",
        "\n",
        "for class_idx in y_train:\n",
        "    train_classes_samples_count[class_idx]+=1\n",
        "\n",
        "for class_idx in y_test:\n",
        "    test_classes_samples_count[class_idx]+=1\n"
      ]
    },
    {
      "cell_type": "code",
      "execution_count": 12,
      "metadata": {
        "colab": {
          "base_uri": "https://localhost:8080/",
          "height": 336
        },
        "id": "FEbA7s0wt1vD",
        "outputId": "8cc8d354-8df6-4cab-9bf9-724466f9089e"
      },
      "outputs": [
        {
          "data": {
            "image/png": "[encoded data removed]",
            "text/plain": [
              "<Figure size 1080x360 with 1 Axes>"
            ]
          },
          "metadata": {
            "needs_background": "light"
          },
          "output_type": "display_data"
        }
      ],
      "source": [
        "plt.figure(figsize=(15,5))\n",
        "plt.bar(train_classes_samples_count.keys(),train_classes_samples_count.values())\n",
        "plt.xticks([i for i in range(10)])\n",
        "plt.title('Train Set')\n",
        "plt.show()"
      ]
    },
    {
      "cell_type": "code",
      "execution_count": 13,
      "metadata": {
        "colab": {
          "base_uri": "https://localhost:8080/",
          "height": 336
        },
        "id": "IvRTXe99t1vD",
        "outputId": "29652d40-90b4-455d-9a84-3cb6c8c0fe3c"
      },
      "outputs": [
        {
          "data": {
            "image/png": "[encoded data removed]",
            "text/plain": [
              "<Figure size 1080x360 with 1 Axes>"
            ]
          },
          "metadata": {
            "needs_background": "light"
          },
          "output_type": "display_data"
        }
      ],
      "source": [
        "plt.figure(figsize=(15,5))\n",
        "plt.bar(test_classes_samples_count.keys(),test_classes_samples_count.values())\n",
        "plt.xticks([i for i in range(10)])\n",
        "plt.title('Test Set')\n",
        "plt.show()"
      ]
    },
    {
      "cell_type": "markdown",
      "metadata": {
        "id": "7KFkSu8_t1vE"
      },
      "source": [
        "## Scaling\n",
        "The rescaling of inputs tries to keep the range of weights in a small range. Theoretically, it is not necessary to rescale the inputs because an appropriate redefinition of the weights can compensate for it. Practically it is important because the weights might occupy a very large range of values.\n",
        "\n",
        "$x_{scaled}=\\dfrac{x}{255}$"
      ]
    },
    {
      "cell_type": "code",
      "execution_count": 14,
      "metadata": {
        "id": "_MISTggTt1vF"
      },
      "outputs": [],
      "source": [
        "for i in range(len(x_train)):\n",
        "    x_train[i]=x_train[i]/255\n",
        "\n",
        "for i in range(len(x_test)):\n",
        "    x_test[i]=x_test[i]/255\n"
      ]
    },
    {
      "cell_type": "markdown",
      "metadata": {
        "id": "BwaPq7zNt1vF"
      },
      "source": [
        "# Part 2 - Implementation"
      ]
    },
    {
      "cell_type": "markdown",
      "metadata": {
        "id": "wDnOuklGt1vF"
      },
      "source": [
        "## Dataloader"
      ]
    },
    {
      "cell_type": "code",
      "execution_count": 15,
      "metadata": {
        "id": "qRVToZokt1vG"
      },
      "outputs": [],
      "source": [
        "class Dataloader:\n",
        "    '''\n",
        "    This class prepares the dataset for the neural network.\n",
        "    '''\n",
        "    \n",
        "    def __init__(self, data, labels, n_classes, batch_size=None, shuffle=False):\n",
        "        '''\n",
        "        This is the constructor. It gets dataset information and initializes the \n",
        "        Dataloader class fields.\n",
        "            Parameters:\n",
        "                data: features your dataset in pandas.Dataframe format.\n",
        "                labels: labels of your dataset in pandas.Dataframe format.\n",
        "                n_classes: number of classes you have in your dataset.\n",
        "                batch_size: the number of samples that will be propagated through the network.\n",
        "                shuffle: boolean value indicating whether or not the dataset should be shuffled\n",
        "        '''\n",
        "\n",
        "        assert len(data)==len(labels)\n",
        "        self.__n_classes = n_classes\n",
        "        self.__batch_size = batch_size\n",
        "        self.__shuffle = shuffle\n",
        "        self.__data = data\n",
        "        self.__onehot_labels = self.__onehot(labels, self.__n_classes)\n",
        "    \n",
        "    def __onehot(self, labels, n_classes):\n",
        "        '''\n",
        "        This private method gets labels and provides one_hot vectors of labels.\n",
        "        For categorical variables where no such ordinal relationship exists,\n",
        "        the integer encoding is not enough.\n",
        "        In this case, a one-hot encoding can be applied to the integer representation.\n",
        "        This is where the integer encoded variable is removed, and a new binary variable is\n",
        "        added for each unique integer value.\n",
        "        example:\n",
        "            red,    green,    blue\n",
        "            1,      0,        0\n",
        "            0,      1,        0\n",
        "            0,      0,        1\n",
        "                Parameters:\n",
        "                        label: lables of your dataset in pandas.Dataframe format.\n",
        "                        n_classes: number of classes you have in your dataset.\n",
        "                \n",
        "                Returns:\n",
        "                    onehot_vectors: onehot vectors of the labels\n",
        "        '''\n",
        "        onehot_vectors_list = []\n",
        "        for i in range(len(labels)):\n",
        "            onehot_vectors_i = np.zeros(n_classes)\n",
        "            classNum = labels[i]\n",
        "            onehot_vectors_i[classNum] = 1\n",
        "            onehot_vectors_list.append(onehot_vectors_i)\n",
        "        onehot_vectors = np.array(onehot_vectors_list)\n",
        "        return onehot_vectors\n",
        "    \n",
        "    def __shuffle_dataset(self):\n",
        "        '''\n",
        "        This private method shuffles your dataset.\n",
        "        It uses data and onehot_labels to shuffle them\n",
        "        symmetrical.\n",
        "        '''\n",
        "        self.__data, self.__onehot_labels = shuffle(self.__data, self.__onehot_labels, random_state=0)\n",
        "    \n",
        "    def __iter__(self):\n",
        "        '''\n",
        "        The __iter__() function returns an iterator for the\n",
        "        given object (array, set, tuple, etc., or custom objects).\n",
        "        This will return your dataset in the batch_size given. This should\n",
        "        be used to provide data for the neural network.\n",
        "        '''\n",
        "\n",
        "        if self.__shuffle:\n",
        "            self.__shuffle_dataset()\n",
        "            \n",
        "        if self.__batch_size==None:\n",
        "            yield (np.matrix(self.__data), np.matrix(self.__onehot_labels))\n",
        "            return\n",
        "            \n",
        "        for idx in range(0, len(self.__data), self.__batch_size):\n",
        "            yield (np.matrix(self.__data[idx:idx+self.__batch_size]), \n",
        "                   np.matrix(self.__onehot_labels[idx:idx+self.__batch_size]))\n"
      ]
    },
    {
      "cell_type": "markdown",
      "metadata": {
        "id": "W66en2_Dt1vG"
      },
      "source": [
        "## Activation Functions"
      ]
    },
    {
      "cell_type": "code",
      "execution_count": 16,
      "metadata": {
        "id": "Ui4-HG7mt1vG"
      },
      "outputs": [],
      "source": [
        "class Identical:\n",
        "    '''\n",
        "    This is the Identical activation function. This activation function just\n",
        "    return the value it gets.\n",
        "    '''\n",
        "    \n",
        "    def __init__(self):\n",
        "        '''\n",
        "        This is the constructor. It does not have any fields\n",
        "        as a result, there is no need to do anything in the constructor.\n",
        "        '''\n",
        "        pass\n",
        "    \n",
        "    def __val(self, matrix):\n",
        "        '''\n",
        "        This private method gets a matrix and uses the activity function on that.\n",
        "        As this is an identical activity function, it just \n",
        "        returns np.matrix of the input.\n",
        "        \n",
        "            Parameters:\n",
        "                matrix: np.matrix of values\n",
        "            Returns:\n",
        "                identical_value: np.matrix of input with float datatypes\n",
        "        '''\n",
        "        identical_value = np.matrix(matrix, dtype=float)\n",
        "        return identical_value\n",
        "\n",
        "    def derivative(self, matrix):\n",
        "        '''\n",
        "        This method returns the derivation of the input.\n",
        "        As the derivation of x is one, this method returns\n",
        "        a matrix of one with the shape of the input matrix.\n",
        "        \n",
        "            Parameters:\n",
        "                matrix: np.matrix of values\n",
        "            Returns:\n",
        "                identical_derivative: np.matrix of ones with matrix shape\n",
        "        '''\n",
        "        temp = np.matrix(matrix, dtype=float)\n",
        "        identical_derivative = np.matrix(np.full(np.shape(temp), 1.))\n",
        "        return identical_derivative\n",
        "    \n",
        "    def __call__(self, matrix):\n",
        "        '''\n",
        "        __call__ is a special function in Python that, when implemented inside a class,\n",
        "        gives its instances (objects) the ability to behave like a function.\n",
        "        Here we return the _value method output.\n",
        "            \n",
        "            Parameters:\n",
        "                matrix: np.matrix of values\n",
        "            Returns:\n",
        "                __val(matrix): __val return value for the input matrix\n",
        "        '''\n",
        "        return self.__val(matrix)\n",
        "    \n",
        "\n",
        "class Relu:\n",
        "    '''\n",
        "    This is the Relu activation function. \n",
        "    The rectified linear activation function or ReLU for short\n",
        "    is a piecewise linear function that will output the input directly\n",
        "    if it is positive, otherwise, it will output zero.\n",
        "    '''\n",
        "    \n",
        "    def __init__(self):\n",
        "        '''\n",
        "        This is the constructor. It does not have any fields\n",
        "        as a result, there is no need to do anything in the constructor.\n",
        "        '''\n",
        "        pass\n",
        "    \n",
        "    def __val(self, matrix):\n",
        "        '''\n",
        "        This private method gets a matrix and uses the activity function on that.\n",
        "        It will set 0 in the matrix if the value is less than 0 else, it returns the value itself.\n",
        "        \n",
        "            Parameters:\n",
        "                matrix: np.matrix of values\n",
        "            Returns:\n",
        "                relu_value: np.matrix of relu activation function result\n",
        "        '''\n",
        "        relu_value = np.array(matrix, dtype=float)\n",
        "        relu_value = np.maximum(relu_value, 0)\n",
        "        return relu_value\n",
        "\n",
        "    def derivative(self, matrix):\n",
        "        '''\n",
        "        Returns the derivation value of relu function on input matrix.\n",
        "        \n",
        "            Parameters:\n",
        "                matrix: np.matrix of values\n",
        "            Returns:\n",
        "                relu_derivative: np.matrix of relu activation function derivation result\n",
        "        '''\n",
        "        relu_derivative = np.array(matrix, dtype=float)\n",
        "        relu_derivative = np.where(relu_derivative > 0, 1, 0)\n",
        "        return relu_derivative\n",
        "    \n",
        "    def __call__(self, matrix):\n",
        "        '''\n",
        "        __call__ is a special function in Python that, when implemented inside a class,\n",
        "        gives its instances (objects) the ability to behave like a function.\n",
        "        Here we return the _relu method output.\n",
        "            \n",
        "            Parameters:\n",
        "                matrix: np.matrix of values\n",
        "            Returns:\n",
        "                __relu(matrix): __relu return value for the input matrix\n",
        "        '''\n",
        "        return self.__val(matrix)\n",
        "\n",
        "    \n",
        "class LeakyRelu:\n",
        "    '''\n",
        "    This is the Leaky Relu activation function. \n",
        "    Leaky Rectified Linear Unit, or Leaky ReLU,\n",
        "    is a type of activation function based on a ReLU,\n",
        "    but it has a small slope for negative values instead\n",
        "    of a flat slope.\n",
        "    '''\n",
        "    \n",
        "    def __init__(self, negative_slope=0.01):\n",
        "        '''\n",
        "        This is the constructor.\n",
        "        It sets negative_slope field.\n",
        "            Parameters:\n",
        "                negative_slope: slope for negative input values\n",
        "        '''\n",
        "        self.negative_slope = 0.01\n",
        "    \n",
        "    def __val(self, matrix):\n",
        "        '''\n",
        "        This private method gets a matrix and uses the activity function on that.\n",
        "        It will set negative_slope*value in the matrix if the value is less than 0, else it\n",
        "        returns the value itself.\n",
        "        \n",
        "            Parameters:\n",
        "                matrix: np.matrix of values\n",
        "            Returns:\n",
        "                relu_value: np.matrix of relu activation function result\n",
        "        '''\n",
        "        leacky_relu_value = np.array(matrix, dtype=float)\n",
        "        leacky_relu_value = np.where(leacky_relu_value > 0, leacky_relu_value, leacky_relu_value* 0.01)     \n",
        "        return leacky_relu_value\n",
        "\n",
        "    def derivative(self, matrix):\n",
        "        '''\n",
        "        Returns the derivation value of leaky relu function on input matrix.\n",
        "        \n",
        "            Parameters:\n",
        "                matrix: np.matrix of values\n",
        "            Returns:\n",
        "                leacky_relu_derivative: np.matrix of leaky relu activation function derivation result\n",
        "        '''\n",
        "        leacky_relu_derivative = np.array(matrix, dtype=float)\n",
        "        leacky_relu_derivative = np.where(leacky_relu_derivative > 0, 1, self.negative_slope)\n",
        "        return leacky_relu_derivative\n",
        "    \n",
        "    def __call__(self, matrix):\n",
        "        '''\n",
        "        __call__ is a special function in Python that, when implemented inside a class,\n",
        "        gives its instances (objects) the ability to behave like a function.\n",
        "        Here we return the _val method output.\n",
        "            \n",
        "            Parameters:\n",
        "                matrix: np.matrix of values\n",
        "            Returns:\n",
        "                __val(matrix): __val return value for the input matrix\n",
        "        '''\n",
        "        return self.__val(matrix)\n",
        "\n",
        "    \n",
        "class Sigmoid:\n",
        "    '''\n",
        "    A sigmoid function is a mathematical function having a\n",
        "    characteristic \"S\"-shaped curve or sigmoid curve.\n",
        "    It return S(x)=1/(1+e^-x)\n",
        "    '''\n",
        "    \n",
        "    def __init__(self): pass\n",
        "\n",
        "    def __val(self, matrix):\n",
        "        '''\n",
        "        Returns 1/(1+e^-x) of values\n",
        "        \n",
        "            Parameters:\n",
        "                matrix: np.matrix of values\n",
        "            Returns:\n",
        "                sigmoid_value: np.matrix of relu activation function result\n",
        "        '''\n",
        "        sigmoid_value = np.array(matrix, dtype=float)\n",
        "        sigmoid_value = 1/(1+np.exp(-sigmoid_value))\n",
        "        return sigmoid_value\n",
        "\n",
        "    def derivative(self, matrix):\n",
        "        '''\n",
        "        Returns the derivation value of sigmoid function on input matrix.\n",
        "        \n",
        "            Parameters:\n",
        "                matrix: np.matrix of values\n",
        "            Returns:\n",
        "                sigmoid_derivative: np.matrix of sigmoid activation function derivation result\n",
        "        '''\n",
        "        sigmoid_derivative = np.array(matrix, dtype=float)\n",
        "        sigmoid_derivative = (1/(1+np.exp(-sigmoid_derivative)))*(1-(1/(1+np.exp(-sigmoid_derivative))))\n",
        "        return sigmoid_derivative\n",
        "    \n",
        "    def __call__(self, matrix):\n",
        "        '''\n",
        "        __call__ is a special function in Python that, when implemented inside a class,\n",
        "        gives its instances (objects) the ability to behave like a function.\n",
        "        Here we return the _val method output.\n",
        "            \n",
        "            Parameters:\n",
        "                matrix: np.matrix of values\n",
        "            Returns:\n",
        "                __val(matrix): __val return value for the input matrix\n",
        "        '''\n",
        "        return self.__val(matrix)\n",
        "\n",
        "\n",
        "class Softmax:\n",
        "    '''\n",
        "    The softmax function, also known as softargmax  or normalized\n",
        "    exponential function is a generalization of the logistic\n",
        "    function to multiple dimensions. It is used in multinomial logistic\n",
        "    regression and is often used as the last activation function of a neural\n",
        "    network to normalize the output of a network to a probability distribution\n",
        "    over predicted output classes, based on Luce's choice axiom.\n",
        "    Softmax return (e^x_i / (Σe^x_j for j = 1, ..., J))\n",
        "    '''\n",
        "        \n",
        "    def __init__(self):\n",
        "        '''\n",
        "        This is the constructor. It does not have any fields\n",
        "        as a result, there is no need to do anything in the constructor.\n",
        "        '''\n",
        "        pass\n",
        "\n",
        "    def __val(self, matrix):\n",
        "        '''\n",
        "        This private method gets a matrix and uses the softmax on that.\n",
        "        Softmax return (e^x_i / (Σe^x_j for j = 1, ..., J))\n",
        "        \n",
        "            Parameters:\n",
        "                matrix: np.matrix of values\n",
        "            Returns:\n",
        "                relu_value: np.matrix of relu activation function result\n",
        "        '''\n",
        "        softmax_value = np.array(matrix, dtype=float)\n",
        "        for i in range(softmax_value.shape[0]):\n",
        "          max = np.max(softmax_value[i])\n",
        "          num = np.exp(np.subtract(softmax_value[i], max))\n",
        "          den = np.sum(num)\n",
        "          softmax_value[i] = np.divide(num, den)\n",
        "        return np.clip(softmax_value,1e-37,1)\n",
        "    \n",
        "    def __call__(self, matrix):\n",
        "        '''\n",
        "        __call__ is a special function in Python that, when implemented inside a class,\n",
        "        gives its instances (objects) the ability to behave like a function.\n",
        "        Here we return the _val method output.\n",
        "            \n",
        "            Parameters:\n",
        "                matrix: np.matrix of values\n",
        "            Returns:\n",
        "                __val(matrix): __val return value for the input matrix\n",
        "        '''\n",
        "        return self.__val(matrix)\n",
        "    \n",
        "class Tanh:\n",
        "    def __init__(self):\n",
        "        '''\n",
        "        This is the constructor. It does not have any fields\n",
        "        as a result, there is no need to do anything in the constructor.\n",
        "        '''\n",
        "        pass\n",
        "\n",
        "    def __val(self, matrix):\n",
        "        '''\n",
        "        This private method gets a matrix and uses the activity function on that.\n",
        "        It performs Tanh on the values.\n",
        "        \n",
        "            Parameters:\n",
        "                matrix: np.matrix of values\n",
        "            Returns:\n",
        "                tanh_value: np.matrix of Tanh activation function result\n",
        "        '''\n",
        "        tanh_value = np.array(matrix, dtype=float)\n",
        "        tanh_value = np.tanh(tanh_value)\n",
        "        return tanh_value\n",
        "\n",
        "    def derivative(self, matrix):\n",
        "        '''\n",
        "        Returns the derivation value of Tanh function on input matrix.\n",
        "        \n",
        "            Parameters:\n",
        "                matrix: np.matrix of values\n",
        "            Returns:\n",
        "                sigmoid_derivative: np.matrix of Tanh activation function derivation result\n",
        "        '''\n",
        "        tanh_derivative = np.array(matrix, dtype=float)\n",
        "        tanh_derivative = (1-(np.tanh(tanh_derivative))*(np.tanh(tanh_derivative)))\n",
        "        return tanh_derivative\n",
        "    \n",
        "    def __call__(self, matrix):\n",
        "        '''\n",
        "        __call__ is a special function in Python that, when implemented inside a class,\n",
        "        gives its instances (objects) the ability to behave like a function.\n",
        "        Here we return the _val method output.\n",
        "            \n",
        "            Parameters:\n",
        "                matrix: np.matrix of values\n",
        "            Returns:\n",
        "                __val(matrix): __val return value for the input matrix\n",
        "        '''\n",
        "        return self.__val(matrix)"
      ]
    },
    {
      "cell_type": "markdown",
      "metadata": {
        "id": "K_04Atint1vR"
      },
      "source": [
        "## Loss Function"
      ]
    },
    {
      "cell_type": "code",
      "execution_count": 17,
      "metadata": {
        "id": "4UUPkcUwt1vT"
      },
      "outputs": [],
      "source": [
        "class CrossEntropy:\n",
        "    '''\n",
        "    Cross-entropy is a measure of the difference between two probability\n",
        "    distributions for a given random variable or set of events. You might\n",
        "    recall that information quantifies the number of bits required to encode\n",
        "    and transmit an event.\n",
        "    The above image can help you.\n",
        "    '''\n",
        "    \n",
        "    def __init__(self):\n",
        "        '''\n",
        "        This is the constructor. It does not have any fields\n",
        "        as a result, there is no need to do anything in the constructor.\n",
        "        '''\n",
        "        pass\n",
        "\n",
        "    def __val(self, true_val, expected_val):\n",
        "        '''\n",
        "        L(y^, y) = - Σ (y^(k)log (y^)^(k)) for k in K\n",
        "        Parameters:\n",
        "            true_val: calculated values (generated by neural network)\n",
        "            expected_val: real values in dataset\n",
        "        Returns:\n",
        "            cross_entropy_value: cross entropy of inputs\n",
        "        '''\n",
        "        assert np.shape(true_val)==np.shape(expected_val)\n",
        "        cross_entropy_value = -1*np.sum(np.multiply(expected_val, np.log10(true_val)))\n",
        "        return cross_entropy_value\n",
        "        \n",
        "    def derivative(self, true_val, expected_val):\n",
        "        '''\n",
        "        Returns derivation of cross entropy.\n",
        "            Parameters:\n",
        "                true_val: calculated values (generated by neural network)\n",
        "                expected_val: real values in dataset\n",
        "            Returns:\n",
        "                cross_entropy_derivative: cross entropy derivation of inputs\n",
        "        '''\n",
        "        assert np.shape(true_val)==np.shape(expected_val)\n",
        "        cross_entropy_derivative = true_val - expected_val\n",
        "        return cross_entropy_derivative\n",
        "    \n",
        "    def __call__(self, true_val, expected_val):\n",
        "        '''\n",
        "        __call__ is a special function in Python that, when implemented inside a class,\n",
        "        gives its instances (objects) the ability to behave like a function.\n",
        "        Here we return the _val method output.\n",
        "            \n",
        "            Parameters:\n",
        "                true_val: calculated values (generated by neural network)\n",
        "                expected_val: real values in dataset\n",
        "            Returns:\n",
        "                __val(matrix): __val return value for the input matrix\n",
        "        '''\n",
        "        return self.__val(true_val, expected_val)"
      ]
    },
    {
      "cell_type": "markdown",
      "metadata": {
        "id": "oMKsAr5Kt1vT"
      },
      "source": [
        "## Layer"
      ]
    },
    {
      "cell_type": "code",
      "execution_count": 18,
      "metadata": {
        "id": "6Mk7GxsKt1vT"
      },
      "outputs": [],
      "source": [
        "class Layer:\n",
        "    '''\n",
        "    The layer class is used to define neural network layers.\n",
        "    It stores all needed information for each layer, such as neurons count,\n",
        "    weight matrix, bias, the output after applying the activation function, etc.\n",
        "    '''\n",
        "\n",
        "    DEFAULT_LOW, DEFAULT_HIGH, DEFAULT_MEAN, DEFAULT_VAR = 0, 0.05, 0., 1.\n",
        "  \n",
        "    def __init__(self, input_size, output_size, activation=Identical(), initial_weight='uniform', \n",
        "                 **initializing_parameters):\n",
        "        '''\n",
        "        Parameters:\n",
        "            input_size: the size of the input of this layer.\n",
        "            output_size: the size of the output after this layer.\n",
        "            activation: the activation function. It can be initialized to either of the previously defined activation classes.\n",
        "                               default is an Identical activation function.\n",
        "            initial_weight: either normal or uniform. It defines the method for weight initialization.\n",
        "        '''\n",
        "        \n",
        "        assert type(initial_weight)==str, 'Undefined activation function!'\n",
        "        \n",
        "        self.__weight_initializer_dict = {'uniform':self.__uniform_weight, 'normal':self.__normal_weight}\n",
        "        \n",
        "        assert initial_weight in self.__weight_initializer_dict, 'Undefined weight initialization function!'\n",
        "\n",
        "\n",
        "        self.__n_neurons = output_size\n",
        "        weight_initializer = self.__weight_initializer_dict[initial_weight]\n",
        "        self.__weight = weight_initializer(input_size, self.__n_neurons, **initializing_parameters)\n",
        "        self.__bias = weight_initializer(1, self.__n_neurons, **initializing_parameters)\n",
        "        self.__activation = activation\n",
        "        \n",
        "        self.__last_input = None\n",
        "        self.__last_activation_input = None\n",
        "        self.__last_activation_output = None\n",
        "        self.__last_activation_derivative = None\n",
        "        \n",
        "    def forward(self, layer_input):\n",
        "        '''\n",
        "        It calculates the output of this layer for the layer_input argument.\n",
        "        This method also stores __last_input, __last_activation_input, and __last_activation_derivative\n",
        "        for future use in backpropagation.\n",
        "        Parameters:\n",
        "            layer_input: 2d np.matrix representing the input matrix of this layer.\n",
        "        Returns:\n",
        "            Final output of this layer after applying the activation function.\n",
        "        '''\n",
        "        assert np.ndim(layer_input)==2\n",
        "        assert np.size(self.__weight,0) == np.size(layer_input,1)\n",
        "\n",
        "        self.__last_input = layer_input\n",
        "        self.__last_activation_input = np.dot(layer_input, self.__weight) + self.__bias\n",
        "        self.__last_activation_output = self.__activation(self.__last_activation_input)\n",
        "        self.__last_activation_derivative = self.__activation.derivative(self.__last_activation_output)\n",
        "\n",
        "        return self.__last_activation_output\n",
        "    \n",
        "    def update_weights(self, backprop_tensor, lr):\n",
        "        '''\n",
        "        It updates Layer weights according to the backpropagation matrix and learning rate.\n",
        "        This method updates bias values as well.\n",
        "        Parameters:\n",
        "            backprop_tensor: 2d np.matrix passed from the next layer containing gradient values.\n",
        "            lr: learning rate\n",
        "        Returns:\n",
        "            backprop_tensor to be used by the previous layer.\n",
        "        '''\n",
        "        assert np.ndim(backprop_tensor)==2\n",
        "        assert np.size(backprop_tensor,0) == np.size(self.__last_activation_derivative,0)\n",
        "        assert np.size(backprop_tensor,1) == self.__n_neurons\n",
        "\n",
        "        self.__weight -= lr * np.dot(np.transpose(self.__last_input), \n",
        "                                np.array(backprop_tensor)*\n",
        "                                np.array(self.__last_activation_derivative))\n",
        "        self.__bias -= lr * np.array(backprop_tensor) * np.array(self.__last_activation_derivative)\n",
        "        backprop_tensor = np.dot(np.array(backprop_tensor)*np.array(self.__last_activation_derivative), np.transpose(self.__weight))\n",
        "\n",
        "        return backprop_tensor\n",
        "\n",
        "    def __uniform_weight(self, dim1, dim2, **initializing_parameters):\n",
        "        '''\n",
        "        Initializes weights as a uniform distribution between low and high values.\n",
        "        It uses default low and high values unless low or high are passed in initializing_parameters.\n",
        "        Parameters:\n",
        "            dim1: the size of the first dimension of weights.\n",
        "            dim2: the size of the second dimension of weights.\n",
        "            initializing_parameters: other initializing parameters; it can include custom low or high values.\n",
        "        Returns:\n",
        "            np.matrix with size (dim1, dim2) initialized using uniformly distributed values.\n",
        "        '''\n",
        "        low, high = self.DEFAULT_LOW, self.DEFAULT_HIGH\n",
        "        if 'low' in initializing_parameters.keys(): low = initializing_parameters['low']\n",
        "        if 'high' in initializing_parameters.keys(): high = initializing_parameters['high']\n",
        "\n",
        "        weights = np.random.uniform(low=low, high=high, size=(dim1, dim2))\n",
        "\n",
        "        return weights\n",
        "\n",
        "    def __normal_weight(self, dim1, dim2, **initializing_parameters):\n",
        "        '''\n",
        "        Initializes weights as a normal distribution with mean and var values.\n",
        "        It uses default mean and variance values unless mean or var are passed in initializing_parameters.\n",
        "        Parameters:\n",
        "            dim1: the size of the first dimension of weights.\n",
        "            dim2: the size of the second dimension of weights.\n",
        "            initializing_parameters: other initializing parameters; it can include custom mean or var values.\n",
        "        Returns:\n",
        "            np.matrix with size (dim1, dim2) initialized using normaly distributed values.\n",
        "        ''' \n",
        "        mean, var = self.DEFAULT_MEAN, self.DEFAULT_VAR\n",
        "        if 'mean' in initializing_parameters.keys(): mean = initializing_parameters['mean']\n",
        "        if 'var' in initializing_parameters.keys(): var = initializing_parameters['var']\n",
        "\n",
        "        weights = np.random.normal(loc=mean, scale=var, size=(dim1, dim2))\n",
        "\n",
        "        return weights\n",
        "    \n",
        "    @property\n",
        "    def n_neurons(self): return self.__n_neurons\n",
        "    @n_neurons.setter\n",
        "    def n_neurons(self, num_neurons):\n",
        "        self.__n_neurons = num_neurons\n",
        "    \n",
        "    @property\n",
        "    def weight(self): return self.__weight\n",
        "    @weight.setter\n",
        "    def weight(self, weight_new): \n",
        "        self.__weight = weight_new\n",
        "    \n",
        "    @property\n",
        "    def bias(self): return self.__bias\n",
        "    @bias.setter\n",
        "    def bias(self, bias_new): \n",
        "        self.__bias = bias_new\n",
        "    \n",
        "    @property\n",
        "    def activation(self): return self.__activation\n",
        "    @activation.setter\n",
        "    def activation(self, activation_new): \n",
        "        self.__activation = activation_new\n"
      ]
    },
    {
      "cell_type": "markdown",
      "metadata": {
        "id": "TKBAGbrvt1vU"
      },
      "source": [
        "## Feed Forward Neural Network"
      ]
    },
    {
      "cell_type": "code",
      "execution_count": 19,
      "metadata": {
        "id": "k24fACf0t1vU"
      },
      "outputs": [],
      "source": [
        "class FeedForwardNN:\n",
        "    '''\n",
        "    This class is used in order to implement custom feed-forward neural networks.\n",
        "    The FeedForwardNN class stores a list of layers that determines all network layers.\n",
        "    It also consists of the learning rate and loss function.\n",
        "    '''\n",
        "    def __init__(self, input_shape):\n",
        "        '''\n",
        "        Parameters:\n",
        "            input_shape: the size of the first input to our neural network.\n",
        "        '''\n",
        "        \n",
        "        self.__input_shape = input_shape\n",
        "        self.__output_shape = None\n",
        "        \n",
        "        self.__layers_list = []\n",
        "        \n",
        "        self.__lr = None\n",
        "        self.__loss = None\n",
        "\n",
        "        \n",
        "    def add_layer(self, n_neurons, activation=Relu(), initial_weight='uniform', **initializing_parameters):\n",
        "        '''\n",
        "         This method adds a new custom layer to the layers_list.\n",
        "         Parameters:\n",
        "             n_neurons: number of neurons in this layer\n",
        "             activation: the activation function of this layer, default is Relu\n",
        "             initial_weight: either a uniform or normal, default is uniform\n",
        "             initializing_parameters: other initializing parameters such as low, high, mean, var, etc\n",
        "        '''\n",
        "         \n",
        "        assert type(n_neurons)==int, \"Invalid number of neurons for the layer!\"\n",
        "        assert n_neurons>0, \"Invalid number of neurons for the layer!\"\n",
        "        \n",
        "        n_prev_neurons = self.__input_shape if len(self.__layers_list)==0 else self.__layers_list[-1].n_neurons\n",
        "        new_layer = Layer(n_prev_neurons, n_neurons, activation, initial_weight, **initializing_parameters)\n",
        "        self.__layers_list.append(new_layer)\n",
        "        self.__output_shape = self.__layers_list[-1].n_neurons \n",
        "      \n",
        "    \n",
        "    def set_training_param(self, loss=CrossEntropy(), lr=1e-3):\n",
        "        '''\n",
        "        This method is used to set training parameters.\n",
        "        Parameters:\n",
        "            loss: loss function, default is CrossEntropy\n",
        "            lr: learning rate, default is 1e-3\n",
        "        '''\n",
        "        assert self.__layers_list, \"Uncomplete model!\"\n",
        "        self.__loss = loss\n",
        "        self.__lr = lr\n",
        "    \n",
        "    \n",
        "    def forward(self, network_input):\n",
        "        '''\n",
        "        This method calculates the output of the complete neural network for a passed input.\n",
        "        Parameters:\n",
        "            network_input: input of the neural network\n",
        "        Returns:\n",
        "            network_output: output of the neural network after forwarding the network_input\n",
        "        '''\n",
        "        assert type(self.__output_shape) != None, \"Model is not compiled!\"\n",
        "\n",
        "        outputOfLayer = network_input\n",
        "\n",
        "        for layer in self.__layers_list:\n",
        "            outputOfLayer = layer.forward(outputOfLayer)\n",
        "\n",
        "        softmax = Softmax()\n",
        "\n",
        "        network_output = softmax(outputOfLayer)\n",
        "\n",
        "        return network_output\n",
        "\n",
        "\n",
        "    def fit(self, epochs, trainloader, testloader=None, print_results=True):\n",
        "        '''\n",
        "        This method trains the neural network using specified parameters.\n",
        "        It runs the __train private method epoch times and fills the log dictionary.\n",
        "        Parameters:\n",
        "            epochs: number of epochs to run\n",
        "            trainloader: DataLoader for train data\n",
        "            testloader: DataLoader for test data\n",
        "            print_results: whether or not to print the results\n",
        "        Returns:\n",
        "            log: complete log of the training process as a dictionary consisting of\n",
        "            train_accuracy, train_loss, test_accuracy, test_loss\n",
        "        '''\n",
        "        \n",
        "        assert type(self.__output_shape) != None, \"Model is not compiled!\"\n",
        "        assert type(self.__lr) != None and type(self.__loss) != None, \"Training paramenters are not set!\"\n",
        "\n",
        "        log = {\"train_accuracy\":[], \"train_loss\":[], \"test_accuracy\":[], \"test_loss\":[]}\n",
        "\n",
        "        for epoch in range(1, epochs+1):\n",
        "\n",
        "            if print_results: \n",
        "                print('Epoch {}:'.format(epoch)) \n",
        "\n",
        "            average_accuracy, average_loss = self.__train(trainloader)\n",
        "            log['train_accuracy'].append(average_accuracy)\n",
        "            log['train_loss'].append(average_loss)\n",
        "            if print_results:\n",
        "                print('\\tTrain: Average Accuracy: {}\\tAverage Loss: {}'.format(average_accuracy, average_loss))\n",
        "\n",
        "            if type(testloader) != type(None):\n",
        "                average_accuracy, average_loss = self.__test(testloader)\n",
        "                log['test_accuracy'].append(average_accuracy)\n",
        "                log['test_loss'].append(average_loss)\n",
        "                if print_results:\n",
        "                    print('\\tTest: Average Accuracy: {}\\tAverage Loss: {}'.format(average_accuracy, average_loss))\n",
        "\n",
        "        return log\n",
        "\n",
        "\n",
        "    def __train(self, trainloader):\n",
        "        '''\n",
        "        Trains the neural network for one epoch.\n",
        "        Parameters:\n",
        "            trainloader: A DataLoader consisting of train data\n",
        "        Returns:\n",
        "            batch_accuracy, batch_loss: mean of all batch_accuracies, batch_losses\n",
        "        '''\n",
        "        bach_accuracies, batch_losses = [], []\n",
        "        for x_train, y_train in trainloader:\n",
        "            batch_accuracy, batch_loss = self.__train_on_batch(x_train, y_train)\n",
        "            bach_accuracies.append(batch_accuracy)\n",
        "            batch_losses.append(batch_loss)\n",
        "        return np.mean(bach_accuracies), np.mean(batch_losses)\n",
        "\n",
        "\n",
        "    def __test(self, testloader):\n",
        "        '''\n",
        "        Test the neural network using a testloader.\n",
        "        Parameters:\n",
        "            testloader: A DataLoader of test data\n",
        "        Returns:\n",
        "            batch_accuracy, batch_loss: mean of all batch_accuracies, batch_losses\n",
        "        '''\n",
        "        bach_accuracies, batch_losses = [], []\n",
        "        for x_test, y_test in testloader:\n",
        "            batch_accuracy, batch_loss = self.__test_on_batch(x_test, y_test)\n",
        "            bach_accuracies.append(batch_accuracy)\n",
        "            batch_losses.append(batch_loss)\n",
        "        return np.mean(bach_accuracies), np.mean(batch_losses)\n",
        "\n",
        "\n",
        "    def __train_on_batch(self, x_batch, y_batch):\n",
        "        '''\n",
        "        Trains the neural network for one batch of train data.\n",
        "        Parameters:\n",
        "            x_batch: one batch data\n",
        "            y_batch: labels for one batch\n",
        "        Returns:\n",
        "            (batch_accuracy, batch_average_loss)\n",
        "        '''\n",
        "\n",
        "        layers = copy.deepcopy(self.__layers_list)\n",
        "        batch_size = len(x_batch)\n",
        "        weight = []\n",
        "\n",
        "        for x,y in zip(x_batch, y_batch):\n",
        "            predicted_out = self.forward(x)\n",
        "            if(len(weight) != 0):\n",
        "                for i in range(len(self.__layers_list)):\n",
        "                    self.__layers_list[i].weight = weight[i]\n",
        "                    self.__layers_list[i].bias = bias[i]\n",
        "            self.__update_weights(predicted_out, y)\n",
        "\n",
        "            weight = []\n",
        "            bias = []\n",
        "            for layer in self.__layers_list:\n",
        "                weight.append(layer.weight)\n",
        "                bias.append(layer.bias)\n",
        "\n",
        "            batch_size -= 1\n",
        "            if(batch_size != 0):\n",
        "                self.__layers_list = copy.deepcopy(layers)\n",
        "\n",
        "        predicted_out_list = []\n",
        "        for i in range(len(y_batch)):\n",
        "            predicted_out_list.append(self.forward(x_batch[i]))\n",
        "\n",
        "        batch_accuracy = self.__compute_accuracy(predicted_out_list, y_batch)\n",
        "        batch_average_loss = 0\n",
        "\n",
        "        for i in range(len(y_batch)):\n",
        "            batch_average_loss = self.__loss(predicted_out_list[i], y_batch[i])\n",
        "        batch_average_loss = batch_average_loss/(len(y_batch))\n",
        "\n",
        "        return (batch_accuracy, batch_average_loss)\n",
        "        \n",
        "        \n",
        "    def __test_on_batch(self, x_batch, y_batch):\n",
        "        '''\n",
        "        Tests the neural network for one batch of test data.\n",
        "        Parameters:\n",
        "            x_batch: one batch data\n",
        "            y_batch: labels for one batch\n",
        "        Returns:\n",
        "            (batch_accuracy, batch_average_loss)\n",
        "        '''\n",
        "\n",
        "        predicted_out_list = []\n",
        "        for i in range(len(y_batch)):\n",
        "            predicted_out_list.append(self.forward(x_batch[i]))\n",
        "        batch_accuracy = self.__compute_accuracy(predicted_out_list, y_batch)\n",
        "\n",
        "        batch_average_loss_list = []\n",
        "        for i in range(len(y_batch)):\n",
        "            batch_average_loss_list.append(self.__loss(predicted_out_list[i], y_batch[i]))\n",
        "        batch_average_loss=np.sum(batch_average_loss_list)/len(y_batch)\n",
        "\n",
        "        return (batch_accuracy, batch_average_loss)\n",
        "\n",
        "\n",
        "    def __get_labels(self, outputs):\n",
        "        '''\n",
        "        Parameters:\n",
        "            outputs: output of the neural network\n",
        "        Returns:\n",
        "            labels: labels generated from the outputs of the neural network\n",
        "        '''\n",
        "\n",
        "        labels = np.zeros(len(outputs))\n",
        "        for i in range(len(outputs)):\n",
        "            labels[i] = np.argmax(outputs[i])\n",
        "\n",
        "        return labels\n",
        "\n",
        "\n",
        "    def __compute_accuracy(self, output, expected_output):\n",
        "        '''\n",
        "        Computes accuracy by comparing output and expected_output.\n",
        "        Parameters:\n",
        "            output: actual output of the neural network\n",
        "            expected_output: expected output\n",
        "        Returns:\n",
        "            accuracy\n",
        "        '''\n",
        "        accuracy = 0\n",
        "        for i in range(len(output)):\n",
        "            if(np.argmax(output[i]) == np.argmax(expected_output[i])):\n",
        "                accuracy += 1\n",
        "        accuracy = accuracy/len(output)\n",
        "        return accuracy\n",
        "\n",
        "\n",
        "    def __update_weights(self, output, y_train):\n",
        "        '''\n",
        "        Updates weights of all layers according to neural network output and labels.\n",
        "        Parameters:\n",
        "            output: output of the neural network\n",
        "            y_train: y labels for one batch of train data\n",
        "        Returns:\n",
        "            None\n",
        "        '''\n",
        "\n",
        "        backprop_tensor = self.__loss.derivative(output, y_train)\n",
        "        for layer_i_idx in range(len(self.__layers_list)-1, -1, -1):\n",
        "            backprop_tensor = self.__layers_list[layer_i_idx].update_weights(backprop_tensor, self.__lr)   \n",
        "\n",
        "        return"
      ]
    },
    {
      "cell_type": "markdown",
      "metadata": {},
      "source": [
        "# Part 3 - Using on the Dataset"
      ]
    },
    {
      "cell_type": "markdown",
      "metadata": {
        "id": "C3T6b5Tht1vV"
      },
      "source": [
        "## Training Sample Code"
      ]
    },
    {
      "cell_type": "code",
      "execution_count": 20,
      "metadata": {
        "colab": {
          "base_uri": "https://localhost:8080/"
        },
        "id": "GeQqWPLqt1vV",
        "outputId": "741d82e3-26b9-4785-b687-42fd143d2f6f",
        "scrolled": false
      },
      "outputs": [
        {
          "name": "stdout",
          "output_type": "stream",
          "text": [
            "Epoch 1:\n",
            "\tTrain: Average Accuracy: 0.9015294060179758\tAverage Loss: 0.004618265355026226\n",
            "\tTest: Average Accuracy: 0.9471000339673914\tAverage Loss: 0.08464395042131909\n",
            "Epoch 2:\n",
            "\tTrain: Average Accuracy: 0.9675830402500977\tAverage Loss: 0.0016842536548152727\n",
            "\tTest: Average Accuracy: 0.9524222995923914\tAverage Loss: 0.07681634420021126\n",
            "Epoch 3:\n",
            "\tTrain: Average Accuracy: 0.9728985932004689\tAverage Loss: 0.0014747180963425534\n",
            "\tTest: Average Accuracy: 0.9544242527173914\tAverage Loss: 0.07248837400722166\n",
            "Epoch 4:\n",
            "\tTrain: Average Accuracy: 0.9756340367330989\tAverage Loss: 0.0013633139673824037\n",
            "\tTest: Average Accuracy: 0.9560844089673914\tAverage Loss: 0.07034364866304572\n",
            "Epoch 5:\n",
            "\tTrain: Average Accuracy: 0.9781008206330598\tAverage Loss: 0.0012728035218599904\n",
            "\tTest: Average Accuracy: 0.9571097995923914\tAverage Loss: 0.06927756059647068\n",
            "Epoch 6:\n",
            "\tTrain: Average Accuracy: 0.979944802657288\tAverage Loss: 0.0011728404495762808\n",
            "\tTest: Average Accuracy: 0.9573539402173914\tAverage Loss: 0.06961496557980065\n",
            "Epoch 7:\n",
            "\tTrain: Average Accuracy: 0.9811537710042986\tAverage Loss: 0.0011439653157618124\n",
            "\tTest: Average Accuracy: 0.9567191745923914\tAverage Loss: 0.070354679623355\n",
            "Epoch 8:\n",
            "\tTrain: Average Accuracy: 0.9816300312622118\tAverage Loss: 0.0010923896006414721\n",
            "\tTest: Average Accuracy: 0.9552543308423914\tAverage Loss: 0.0734402760930647\n",
            "Epoch 9:\n",
            "\tTrain: Average Accuracy: 0.9809183274716686\tAverage Loss: 0.0010707217902258335\n",
            "\tTest: Average Accuracy: 0.9525199558423914\tAverage Loss: 0.0802176854558406\n",
            "Epoch 10:\n",
            "\tTrain: Average Accuracy: 0.9791354044548652\tAverage Loss: 0.0011110430323797106\n",
            "\tTest: Average Accuracy: 0.9494437839673914\tAverage Loss: 0.08969518204942772\n",
            "Epoch 11:\n",
            "\tTrain: Average Accuracy: 0.9774379640484565\tAverage Loss: 0.0012423687625580154\n",
            "\tTest: Average Accuracy: 0.9481742527173914\tAverage Loss: 0.0986839800548808\n",
            "Epoch 12:\n",
            "\tTrain: Average Accuracy: 0.9734691285658461\tAverage Loss: 0.0016279042785851136\n",
            "\tTest: Average Accuracy: 0.9470023777173914\tAverage Loss: 0.10932840106778255\n",
            "Epoch 13:\n",
            "\tTrain: Average Accuracy: 0.9662153184837827\tAverage Loss: 0.0020580624462871082\n",
            "\tTest: Average Accuracy: 0.9518363620923914\tAverage Loss: 0.109126364213511\n",
            "Epoch 14:\n",
            "\tTrain: Average Accuracy: 0.9642526377491207\tAverage Loss: 0.002165723004813028\n",
            "\tTest: Average Accuracy: 0.9565238620923914\tAverage Loss: 0.10161397900766796\n",
            "Epoch 15:\n",
            "\tTrain: Average Accuracy: 0.9576094177413053\tAverage Loss: 0.0024970477212947345\n",
            "\tTest: Average Accuracy: 0.9579398777173914\tAverage Loss: 0.1014727163510695\n"
          ]
        }
      ],
      "source": [
        "# Sample code for building and training a model\n",
        "\n",
        "INPUT_SHAPE = 25*25\n",
        "LEARNING_RATE = 0.001\n",
        "EPOCHS = 15\n",
        "TRAINLOADER = Dataloader(x_train,y_train,n_classes=10,batch_size=32)\n",
        "TESTLOADER = Dataloader(x_test,y_test,n_classes=10,batch_size=32)\n",
        "\n",
        "network = FeedForwardNN(INPUT_SHAPE)\n",
        "network.add_layer(n_neurons=16, input_shape=INPUT_SHAPE, activation=LeakyRelu(), weight_initializer='uniform')\n",
        "network.add_layer(n_neurons=10, activation=LeakyRelu(), weight_initializer='uniform')\n",
        "network.set_training_param(loss=CrossEntropy(), lr=LEARNING_RATE)\n",
        "\n",
        "log = network.fit(EPOCHS, TRAINLOADER, TESTLOADER)\n"
      ]
    },
    {
      "cell_type": "code",
      "execution_count": 100,
      "metadata": {},
      "outputs": [
        {
          "data": {
            "text/plain": [
              "{'test_accuracy': [0.9471000339673914,\n",
              "  0.9524222995923914,\n",
              "  0.9544242527173914,\n",
              "  0.9560844089673914,\n",
              "  0.9571097995923914,\n",
              "  0.9573539402173914,\n",
              "  0.9567191745923914,\n",
              "  0.9552543308423914,\n",
              "  0.9525199558423914,\n",
              "  0.9494437839673914,\n",
              "  0.9481742527173914,\n",
              "  0.9470023777173914,\n",
              "  0.9518363620923914,\n",
              "  0.9565238620923914,\n",
              "  0.9579398777173914],\n",
              " 'test_loss': [0.08464395042131909,\n",
              "  0.07681634420021126,\n",
              "  0.07248837400722166,\n",
              "  0.07034364866304572,\n",
              "  0.06927756059647068,\n",
              "  0.06961496557980065,\n",
              "  0.070354679623355,\n",
              "  0.0734402760930647,\n",
              "  0.0802176854558406,\n",
              "  0.08969518204942772,\n",
              "  0.0986839800548808,\n",
              "  0.10932840106778255,\n",
              "  0.109126364213511,\n",
              "  0.10161397900766796,\n",
              "  0.1014727163510695],\n",
              " 'train_accuracy': [0.9015294060179758,\n",
              "  0.9675830402500977,\n",
              "  0.9728985932004689,\n",
              "  0.9756340367330989,\n",
              "  0.9781008206330598,\n",
              "  0.979944802657288,\n",
              "  0.9811537710042986,\n",
              "  0.9816300312622118,\n",
              "  0.9809183274716686,\n",
              "  0.9791354044548652,\n",
              "  0.9774379640484565,\n",
              "  0.9734691285658461,\n",
              "  0.9662153184837827,\n",
              "  0.9642526377491207,\n",
              "  0.9576094177413053],\n",
              " 'train_loss': [0.004618265355026226,\n",
              "  0.0016842536548152727,\n",
              "  0.0014747180963425534,\n",
              "  0.0013633139673824037,\n",
              "  0.0012728035218599904,\n",
              "  0.0011728404495762808,\n",
              "  0.0011439653157618124,\n",
              "  0.0010923896006414721,\n",
              "  0.0010707217902258335,\n",
              "  0.0011110430323797106,\n",
              "  0.0012423687625580154,\n",
              "  0.0016279042785851136,\n",
              "  0.0020580624462871082,\n",
              "  0.002165723004813028,\n",
              "  0.0024970477212947345]}"
            ]
          },
          "execution_count": 100,
          "metadata": {},
          "output_type": "execute_result"
        }
      ],
      "source": [
        "log"
      ]
    },
    {
      "cell_type": "code",
      "execution_count": 109,
      "metadata": {},
      "outputs": [],
      "source": [
        "def plot_log(log,plot_loss=True):\n",
        "    if plot_loss:\n",
        "        plt.figure(figsize=(15,5))\n",
        "        plt.subplot(1,2,1)\n",
        "    plt.plot(log['train_accuracy'],label='train_accuracy')\n",
        "    plt.plot(log['test_accuracy'],label='test_accuracy')\n",
        "    plt.legend()\n",
        "    plt.xlabel('Epochs')\n",
        "\n",
        "    if plot_loss:\n",
        "        plt.subplot(1,2,2)\n",
        "        plt.plot(log['train_loss'],label='train_loss')\n",
        "        plt.plot(log['test_loss'],label='test_loss')\n",
        "        plt.legend()\n",
        "        plt.xlabel('Epochs')\n",
        "    plt.show()\n"
      ]
    },
    {
      "cell_type": "code",
      "execution_count": 110,
      "metadata": {},
      "outputs": [
        {
          "data": {
            "image/png": "[encoded data removed]",
            "text/plain": [
              "<Figure size 1080x360 with 2 Axes>"
            ]
          },
          "metadata": {
            "needs_background": "light"
          },
          "output_type": "display_data"
        }
      ],
      "source": [
        "plot_log(log)"
      ]
    },
    {
      "cell_type": "markdown",
      "metadata": {},
      "source": [
        "## Zero Initialization of Weights\n",
        "\n",
        "Initializing the weights with zero or any other constant value causes neurons to perform the same calculation in each iteration and produces the same outputs. Also, the derivatives will remain the same for every w in W[layer]. As a result, neurons will learn the same features in each iteration. This problem is known as a network failing to break the symmetry. And not only zero, but any constant initialization will also produce a poor result."
      ]
    },
    {
      "cell_type": "markdown",
      "metadata": {
        "id": "UHZ3MAVkw2Qe"
      },
      "source": [
        "## Learning Rate"
      ]
    },
    {
      "cell_type": "code",
      "execution_count": 23,
      "metadata": {
        "colab": {
          "base_uri": "https://localhost:8080/"
        },
        "id": "0C7nhNV4t1vV",
        "outputId": "fb69f0f0-1c0c-411e-b374-44df8ee38f49"
      },
      "outputs": [
        {
          "name": "stdout",
          "output_type": "stream",
          "text": [
            "Epoch 1:\n"
          ]
        },
        {
          "name": "stderr",
          "output_type": "stream",
          "text": [
            "/usr/local/lib/python3.7/dist-packages/ipykernel_launcher.py:253: RuntimeWarning: invalid value encountered in subtract\n"
          ]
        },
        {
          "name": "stdout",
          "output_type": "stream",
          "text": [
            "\tTrain: Average Accuracy: 0.10222840953497458\tAverage Loss: nan\n",
            "\tTest: Average Accuracy: 0.09818274456521739\tAverage Loss: nan\n",
            "Epoch 2:\n",
            "\tTrain: Average Accuracy: 0.09843053927315357\tAverage Loss: nan\n",
            "\tTest: Average Accuracy: 0.09818274456521739\tAverage Loss: nan\n",
            "Epoch 3:\n",
            "\tTrain: Average Accuracy: 0.09843053927315357\tAverage Loss: nan\n",
            "\tTest: Average Accuracy: 0.09818274456521739\tAverage Loss: nan\n",
            "Epoch 4:\n",
            "\tTrain: Average Accuracy: 0.09843053927315357\tAverage Loss: nan\n",
            "\tTest: Average Accuracy: 0.09818274456521739\tAverage Loss: nan\n",
            "Epoch 5:\n",
            "\tTrain: Average Accuracy: 0.09843053927315357\tAverage Loss: nan\n",
            "\tTest: Average Accuracy: 0.09818274456521739\tAverage Loss: nan\n",
            "Epoch 6:\n",
            "\tTrain: Average Accuracy: 0.09843053927315357\tAverage Loss: nan\n",
            "\tTest: Average Accuracy: 0.09818274456521739\tAverage Loss: nan\n",
            "Epoch 7:\n",
            "\tTrain: Average Accuracy: 0.09843053927315357\tAverage Loss: nan\n",
            "\tTest: Average Accuracy: 0.09818274456521739\tAverage Loss: nan\n",
            "Epoch 8:\n",
            "\tTrain: Average Accuracy: 0.09843053927315357\tAverage Loss: nan\n",
            "\tTest: Average Accuracy: 0.09818274456521739\tAverage Loss: nan\n",
            "Epoch 9:\n",
            "\tTrain: Average Accuracy: 0.09843053927315357\tAverage Loss: nan\n",
            "\tTest: Average Accuracy: 0.09818274456521739\tAverage Loss: nan\n",
            "Epoch 10:\n",
            "\tTrain: Average Accuracy: 0.09843053927315357\tAverage Loss: nan\n",
            "\tTest: Average Accuracy: 0.09818274456521739\tAverage Loss: nan\n",
            "Epoch 11:\n",
            "\tTrain: Average Accuracy: 0.09843053927315357\tAverage Loss: nan\n",
            "\tTest: Average Accuracy: 0.09818274456521739\tAverage Loss: nan\n",
            "Epoch 12:\n",
            "\tTrain: Average Accuracy: 0.09843053927315357\tAverage Loss: nan\n",
            "\tTest: Average Accuracy: 0.09818274456521739\tAverage Loss: nan\n",
            "Epoch 13:\n",
            "\tTrain: Average Accuracy: 0.09843053927315357\tAverage Loss: nan\n",
            "\tTest: Average Accuracy: 0.09818274456521739\tAverage Loss: nan\n",
            "Epoch 14:\n",
            "\tTrain: Average Accuracy: 0.09843053927315357\tAverage Loss: nan\n",
            "\tTest: Average Accuracy: 0.09818274456521739\tAverage Loss: nan\n",
            "Epoch 15:\n",
            "\tTrain: Average Accuracy: 0.09843053927315357\tAverage Loss: nan\n",
            "\tTest: Average Accuracy: 0.09818274456521739\tAverage Loss: nan\n"
          ]
        },
        {
          "data": {
            "text/plain": [
              "{'test_accuracy': [0.09818274456521739,\n",
              "  0.09818274456521739,\n",
              "  0.09818274456521739,\n",
              "  0.09818274456521739,\n",
              "  0.09818274456521739,\n",
              "  0.09818274456521739,\n",
              "  0.09818274456521739,\n",
              "  0.09818274456521739,\n",
              "  0.09818274456521739,\n",
              "  0.09818274456521739,\n",
              "  0.09818274456521739,\n",
              "  0.09818274456521739,\n",
              "  0.09818274456521739,\n",
              "  0.09818274456521739,\n",
              "  0.09818274456521739],\n",
              " 'test_loss': [nan,\n",
              "  nan,\n",
              "  nan,\n",
              "  nan,\n",
              "  nan,\n",
              "  nan,\n",
              "  nan,\n",
              "  nan,\n",
              "  nan,\n",
              "  nan,\n",
              "  nan,\n",
              "  nan,\n",
              "  nan,\n",
              "  nan,\n",
              "  nan],\n",
              " 'train_accuracy': [0.10222840953497458,\n",
              "  0.09843053927315357,\n",
              "  0.09843053927315357,\n",
              "  0.09843053927315357,\n",
              "  0.09843053927315357,\n",
              "  0.09843053927315357,\n",
              "  0.09843053927315357,\n",
              "  0.09843053927315357,\n",
              "  0.09843053927315357,\n",
              "  0.09843053927315357,\n",
              "  0.09843053927315357,\n",
              "  0.09843053927315357,\n",
              "  0.09843053927315357,\n",
              "  0.09843053927315357,\n",
              "  0.09843053927315357],\n",
              " 'train_loss': [nan,\n",
              "  nan,\n",
              "  nan,\n",
              "  nan,\n",
              "  nan,\n",
              "  nan,\n",
              "  nan,\n",
              "  nan,\n",
              "  nan,\n",
              "  nan,\n",
              "  nan,\n",
              "  nan,\n",
              "  nan,\n",
              "  nan,\n",
              "  nan]}"
            ]
          },
          "execution_count": 23,
          "metadata": {},
          "output_type": "execute_result"
        }
      ],
      "source": [
        "# LR*10\n",
        "\n",
        "INPUT_SHAPE = 25*25\n",
        "LEARNING_RATE = 0.001*10\n",
        "EPOCHS = 15\n",
        "TRAINLOADER = Dataloader(x_train,y_train,n_classes=10,batch_size=32)\n",
        "TESTLOADER = Dataloader(x_test,y_test,n_classes=10,batch_size=32)\n",
        "\n",
        "network = FeedForwardNN(INPUT_SHAPE)\n",
        "network.add_layer(n_neurons=16, input_shape=INPUT_SHAPE, activation=LeakyRelu(), weight_initializer='uniform')\n",
        "network.add_layer(n_neurons=10, activation=LeakyRelu(), weight_initializer='uniform')\n",
        "network.set_training_param(loss=CrossEntropy(), lr=LEARNING_RATE)\n",
        "\n",
        "log = network.fit(EPOCHS, TRAINLOADER, TESTLOADER)\n",
        "\n",
        "log"
      ]
    },
    {
      "cell_type": "code",
      "execution_count": 112,
      "metadata": {},
      "outputs": [
        {
          "data": {
            "image/png": "[encoded data removed]",
            "text/plain": [
              "<Figure size 432x288 with 1 Axes>"
            ]
          },
          "metadata": {
            "needs_background": "light"
          },
          "output_type": "display_data"
        }
      ],
      "source": [
        "plot_log(log,False)"
      ]
    },
    {
      "cell_type": "code",
      "execution_count": 24,
      "metadata": {
        "colab": {
          "base_uri": "https://localhost:8080/"
        },
        "id": "3vtlva9Hw8HN",
        "outputId": "c649af04-12d0-4e80-be7f-48baedcf655f"
      },
      "outputs": [
        {
          "name": "stdout",
          "output_type": "stream",
          "text": [
            "Epoch 1:\n",
            "\tTrain: Average Accuracy: 0.4957595740523642\tAverage Loss: 0.02161878665069148\n",
            "\tTest: Average Accuracy: 0.8158118206521738\tAverage Loss: 0.30973634807690864\n",
            "Epoch 2:\n",
            "\tTrain: Average Accuracy: 0.8671517194216491\tAverage Loss: 0.006554543417139076\n",
            "\tTest: Average Accuracy: 0.8966796875\tAverage Loss: 0.16126918790438055\n",
            "Epoch 3:\n",
            "\tTrain: Average Accuracy: 0.9107390582258695\tAverage Loss: 0.004195551526242632\n",
            "\tTest: Average Accuracy: 0.9203910495923914\tAverage Loss: 0.12381433242720097\n",
            "Epoch 4:\n",
            "\tTrain: Average Accuracy: 0.927176143024619\tAverage Loss: 0.0033914920337804943\n",
            "\tTest: Average Accuracy: 0.9313285495923914\tAverage Loss: 0.10762471182790585\n",
            "Epoch 5:\n",
            "\tTrain: Average Accuracy: 0.935602286049238\tAverage Loss: 0.0029920866067424407\n",
            "\tTest: Average Accuracy: 0.9381156589673914\tAverage Loss: 0.09845925295512788\n",
            "Epoch 6:\n",
            "\tTrain: Average Accuracy: 0.940780089878859\tAverage Loss: 0.0027494497330684017\n",
            "\tTest: Average Accuracy: 0.9422660495923914\tAverage Loss: 0.09247989090445478\n",
            "Epoch 7:\n",
            "\tTrain: Average Accuracy: 0.9443459359124659\tAverage Loss: 0.0025860158646496345\n",
            "\tTest: Average Accuracy: 0.9459281589673914\tAverage Loss: 0.08824564660942803\n",
            "Epoch 8:\n",
            "\tTrain: Average Accuracy: 0.9468806174286831\tAverage Loss: 0.0024692880881935254\n",
            "\tTest: Average Accuracy: 0.9480765964673914\tAverage Loss: 0.08510737602568674\n",
            "Epoch 9:\n",
            "\tTrain: Average Accuracy: 0.9490421062915202\tAverage Loss: 0.002382007793273277\n",
            "\tTest: Average Accuracy: 0.9492484714673914\tAverage Loss: 0.08266683456896376\n",
            "Epoch 10:\n",
            "\tTrain: Average Accuracy: 0.9509837827276281\tAverage Loss: 0.0023142763490233975\n",
            "\tTest: Average Accuracy: 0.9504691745923914\tAverage Loss: 0.08070963287299456\n",
            "Epoch 11:\n",
            "\tTrain: Average Accuracy: 0.9519607268464244\tAverage Loss: 0.0022598182214503665\n",
            "\tTest: Average Accuracy: 0.9519340183423914\tAverage Loss: 0.07908246532808709\n",
            "Epoch 12:\n",
            "\tTrain: Average Accuracy: 0.9533074443141852\tAverage Loss: 0.0022149940979477377\n",
            "\tTest: Average Accuracy: 0.9528617527173914\tAverage Loss: 0.07770241501171886\n",
            "Epoch 13:\n",
            "\tTrain: Average Accuracy: 0.9541989058225869\tAverage Loss: 0.00217729921257035\n",
            "\tTest: Average Accuracy: 0.9540336277173914\tAverage Loss: 0.0765057366191876\n",
            "Epoch 14:\n",
            "\tTrain: Average Accuracy: 0.9550659437280188\tAverage Loss: 0.002144344949946697\n",
            "\tTest: Average Accuracy: 0.9547172214673914\tAverage Loss: 0.07546240533235389\n",
            "Epoch 15:\n",
            "\tTrain: Average Accuracy: 0.9559574052364205\tAverage Loss: 0.0021157935552337088\n",
            "\tTest: Average Accuracy: 0.9557426120923914\tAverage Loss: 0.07453364228956916\n"
          ]
        },
        {
          "data": {
            "text/plain": [
              "{'test_accuracy': [0.8158118206521738,\n",
              "  0.8966796875,\n",
              "  0.9203910495923914,\n",
              "  0.9313285495923914,\n",
              "  0.9381156589673914,\n",
              "  0.9422660495923914,\n",
              "  0.9459281589673914,\n",
              "  0.9480765964673914,\n",
              "  0.9492484714673914,\n",
              "  0.9504691745923914,\n",
              "  0.9519340183423914,\n",
              "  0.9528617527173914,\n",
              "  0.9540336277173914,\n",
              "  0.9547172214673914,\n",
              "  0.9557426120923914],\n",
              " 'test_loss': [0.30973634807690864,\n",
              "  0.16126918790438055,\n",
              "  0.12381433242720097,\n",
              "  0.10762471182790585,\n",
              "  0.09845925295512788,\n",
              "  0.09247989090445478,\n",
              "  0.08824564660942803,\n",
              "  0.08510737602568674,\n",
              "  0.08266683456896376,\n",
              "  0.08070963287299456,\n",
              "  0.07908246532808709,\n",
              "  0.07770241501171886,\n",
              "  0.0765057366191876,\n",
              "  0.07546240533235389,\n",
              "  0.07453364228956916],\n",
              " 'train_accuracy': [0.4957595740523642,\n",
              "  0.8671517194216491,\n",
              "  0.9107390582258695,\n",
              "  0.927176143024619,\n",
              "  0.935602286049238,\n",
              "  0.940780089878859,\n",
              "  0.9443459359124659,\n",
              "  0.9468806174286831,\n",
              "  0.9490421062915202,\n",
              "  0.9509837827276281,\n",
              "  0.9519607268464244,\n",
              "  0.9533074443141852,\n",
              "  0.9541989058225869,\n",
              "  0.9550659437280188,\n",
              "  0.9559574052364205],\n",
              " 'train_loss': [0.02161878665069148,\n",
              "  0.006554543417139076,\n",
              "  0.004195551526242632,\n",
              "  0.0033914920337804943,\n",
              "  0.0029920866067424407,\n",
              "  0.0027494497330684017,\n",
              "  0.0025860158646496345,\n",
              "  0.0024692880881935254,\n",
              "  0.002382007793273277,\n",
              "  0.0023142763490233975,\n",
              "  0.0022598182214503665,\n",
              "  0.0022149940979477377,\n",
              "  0.00217729921257035,\n",
              "  0.002144344949946697,\n",
              "  0.0021157935552337088]}"
            ]
          },
          "execution_count": 24,
          "metadata": {},
          "output_type": "execute_result"
        }
      ],
      "source": [
        "# LR*0.1\n",
        "\n",
        "INPUT_SHAPE = 25*25\n",
        "LEARNING_RATE = 0.001*0.1\n",
        "EPOCHS = 15\n",
        "TRAINLOADER = Dataloader(x_train,y_train,n_classes=10,batch_size=32)\n",
        "TESTLOADER = Dataloader(x_test,y_test,n_classes=10,batch_size=32)\n",
        "\n",
        "network = FeedForwardNN(INPUT_SHAPE)\n",
        "network.add_layer(n_neurons=16, input_shape=INPUT_SHAPE, activation=LeakyRelu(), weight_initializer='uniform')\n",
        "network.add_layer(n_neurons=10, activation=LeakyRelu(), weight_initializer='uniform')\n",
        "network.set_training_param(loss=CrossEntropy(), lr=LEARNING_RATE)\n",
        "\n",
        "log = network.fit(EPOCHS, TRAINLOADER, TESTLOADER)\n",
        "\n",
        "log"
      ]
    },
    {
      "cell_type": "code",
      "execution_count": 114,
      "metadata": {},
      "outputs": [
        {
          "data": {
            "image/png": "[encoded data removed]",
            "text/plain": [
              "<Figure size 1080x360 with 2 Axes>"
            ]
          },
          "metadata": {
            "needs_background": "light"
          },
          "output_type": "display_data"
        }
      ],
      "source": [
        "plot_log(log)"
      ]
    },
    {
      "cell_type": "markdown",
      "metadata": {},
      "source": [
        "A large learning rate allows the model to learn faster, at the cost of arriving at a suboptimal final set of weights.\n",
        "A small learning rate may allow the model to learn a more optimal or globally optimal set of weights but may take significantly longer to train (and may not converge). Also, for small values of the learning rate, vanishing gradients may occur.\n",
        "\n",
        "For the rest of the assignment, we use the learning rate of 0.001 as it has better performance."
      ]
    },
    {
      "cell_type": "markdown",
      "metadata": {
        "id": "zO5zVt0axMDq"
      },
      "source": [
        "## Activation Function"
      ]
    },
    {
      "cell_type": "code",
      "execution_count": 25,
      "metadata": {
        "colab": {
          "base_uri": "https://localhost:8080/"
        },
        "id": "OGt130GwxNvb",
        "outputId": "6540f076-46fd-4070-d554-1d1e8f6cd3a8"
      },
      "outputs": [
        {
          "name": "stdout",
          "output_type": "stream",
          "text": [
            "Epoch 1:\n",
            "\tTrain: Average Accuracy: 0.10612397420867525\tAverage Loss: 0.031245352592791088\n",
            "\tTest: Average Accuracy: 0.10230341372282607\tAverage Loss: 0.9989786597094044\n",
            "Epoch 2:\n",
            "\tTrain: Average Accuracy: 0.1289146150840172\tAverage Loss: 0.031063862053016655\n",
            "\tTest: Average Accuracy: 0.20067085597826084\tAverage Loss: 0.9798926864622184\n",
            "Epoch 3:\n",
            "\tTrain: Average Accuracy: 0.36987397420867524\tAverage Loss: 0.029493302515914883\n",
            "\tTest: Average Accuracy: 0.4737156080163043\tAverage Loss: 0.9035429740594072\n",
            "Epoch 4:\n",
            "\tTrain: Average Accuracy: 0.4884574052364205\tAverage Loss: 0.027294821729530072\n",
            "\tTest: Average Accuracy: 0.5060780400815217\tAverage Loss: 0.8518749440997159\n",
            "Epoch 5:\n",
            "\tTrain: Average Accuracy: 0.5293058812035952\tAverage Loss: 0.02617536415798657\n",
            "\tTest: Average Accuracy: 0.5482655400815217\tAverage Loss: 0.8258389950234338\n",
            "Epoch 6:\n",
            "\tTrain: Average Accuracy: 0.5473026572880032\tAverage Loss: 0.025600261565395837\n",
            "\tTest: Average Accuracy: 0.5500233525815217\tAverage Loss: 0.8139799531252297\n",
            "Epoch 7:\n",
            "\tTrain: Average Accuracy: 0.5531853262993357\tAverage Loss: 0.025332706827058588\n",
            "\tTest: Average Accuracy: 0.5599057404891304\tAverage Loss: 0.8069388167868213\n",
            "Epoch 8:\n",
            "\tTrain: Average Accuracy: 0.5565435717076983\tAverage Loss: 0.025151547779013114\n",
            "\tTest: Average Accuracy: 0.5592412533967391\tAverage Loss: 0.8022017816197066\n",
            "Epoch 9:\n"
          ]
        },
        {
          "name": "stderr",
          "output_type": "stream",
          "text": [
            "/usr/local/lib/python3.7/dist-packages/ipykernel_launcher.py:192: RuntimeWarning: overflow encountered in exp\n"
          ]
        },
        {
          "name": "stdout",
          "output_type": "stream",
          "text": [
            "\tTrain: Average Accuracy: 0.5514756740914419\tAverage Loss: 0.025041465036363772\n",
            "\tTest: Average Accuracy: 0.5512822690217392\tAverage Loss: 0.7988965436628568\n",
            "Epoch 10:\n",
            "\tTrain: Average Accuracy: 0.5444450957405237\tAverage Loss: 0.02497823092408164\n",
            "\tTest: Average Accuracy: 0.5451108186141305\tAverage Loss: 0.7967693569424099\n",
            "Epoch 11:\n",
            "\tTrain: Average Accuracy: 0.539194021101993\tAverage Loss: 0.024907033422799933\n",
            "\tTest: Average Accuracy: 0.5398862092391304\tAverage Loss: 0.7953044816807524\n",
            "Epoch 12:\n",
            "\tTrain: Average Accuracy: 0.5353595154357171\tAverage Loss: 0.0248668545149981\n",
            "\tTest: Average Accuracy: 0.5347592561141304\tAverage Loss: 0.7942485979017444\n",
            "Epoch 13:\n",
            "\tTrain: Average Accuracy: 0.5311552364204767\tAverage Loss: 0.02485008211556772\n",
            "\tTest: Average Accuracy: 0.5337338654891305\tAverage Loss: 0.7934355391441288\n",
            "Epoch 14:\n",
            "\tTrain: Average Accuracy: 0.5307033997655334\tAverage Loss: 0.024826301177651788\n",
            "\tTest: Average Accuracy: 0.5313901154891305\tAverage Loss: 0.7928229067089306\n",
            "Epoch 15:\n",
            "\tTrain: Average Accuracy: 0.5307312426729192\tAverage Loss: 0.024814977875886268\n",
            "\tTest: Average Accuracy: 0.5307065217391305\tAverage Loss: 0.7922763045094989\n"
          ]
        },
        {
          "data": {
            "text/plain": [
              "{'test_accuracy': [0.10230341372282607,\n",
              "  0.20067085597826084,\n",
              "  0.4737156080163043,\n",
              "  0.5060780400815217,\n",
              "  0.5482655400815217,\n",
              "  0.5500233525815217,\n",
              "  0.5599057404891304,\n",
              "  0.5592412533967391,\n",
              "  0.5512822690217392,\n",
              "  0.5451108186141305,\n",
              "  0.5398862092391304,\n",
              "  0.5347592561141304,\n",
              "  0.5337338654891305,\n",
              "  0.5313901154891305,\n",
              "  0.5307065217391305],\n",
              " 'test_loss': [0.9989786597094044,\n",
              "  0.9798926864622184,\n",
              "  0.9035429740594072,\n",
              "  0.8518749440997159,\n",
              "  0.8258389950234338,\n",
              "  0.8139799531252297,\n",
              "  0.8069388167868213,\n",
              "  0.8022017816197066,\n",
              "  0.7988965436628568,\n",
              "  0.7967693569424099,\n",
              "  0.7953044816807524,\n",
              "  0.7942485979017444,\n",
              "  0.7934355391441288,\n",
              "  0.7928229067089306,\n",
              "  0.7922763045094989],\n",
              " 'train_accuracy': [0.10612397420867525,\n",
              "  0.1289146150840172,\n",
              "  0.36987397420867524,\n",
              "  0.4884574052364205,\n",
              "  0.5293058812035952,\n",
              "  0.5473026572880032,\n",
              "  0.5531853262993357,\n",
              "  0.5565435717076983,\n",
              "  0.5514756740914419,\n",
              "  0.5444450957405237,\n",
              "  0.539194021101993,\n",
              "  0.5353595154357171,\n",
              "  0.5311552364204767,\n",
              "  0.5307033997655334,\n",
              "  0.5307312426729192],\n",
              " 'train_loss': [0.031245352592791088,\n",
              "  0.031063862053016655,\n",
              "  0.029493302515914883,\n",
              "  0.027294821729530072,\n",
              "  0.02617536415798657,\n",
              "  0.025600261565395837,\n",
              "  0.025332706827058588,\n",
              "  0.025151547779013114,\n",
              "  0.025041465036363772,\n",
              "  0.02497823092408164,\n",
              "  0.024907033422799933,\n",
              "  0.0248668545149981,\n",
              "  0.02485008211556772,\n",
              "  0.024826301177651788,\n",
              "  0.024814977875886268]}"
            ]
          },
          "execution_count": 25,
          "metadata": {},
          "output_type": "execute_result"
        }
      ],
      "source": [
        "# Sigmoid\n",
        "\n",
        "INPUT_SHAPE = 25*25\n",
        "LEARNING_RATE = 0.001\n",
        "EPOCHS = 15\n",
        "TRAINLOADER = Dataloader(x_train,y_train,n_classes=10,batch_size=32)\n",
        "TESTLOADER = Dataloader(x_test,y_test,n_classes=10,batch_size=32)\n",
        "\n",
        "network = FeedForwardNN(INPUT_SHAPE)\n",
        "network.add_layer(n_neurons=16, input_shape=INPUT_SHAPE, activation=Sigmoid(), weight_initializer='uniform')\n",
        "network.add_layer(n_neurons=10, activation=Sigmoid(), weight_initializer='uniform')\n",
        "network.set_training_param(loss=CrossEntropy(), lr=LEARNING_RATE)\n",
        "\n",
        "log = network.fit(EPOCHS, TRAINLOADER, TESTLOADER)\n",
        "\n",
        "log"
      ]
    },
    {
      "cell_type": "code",
      "execution_count": 116,
      "metadata": {},
      "outputs": [
        {
          "data": {
            "image/png": "[encoded data removed]",
            "text/plain": [
              "<Figure size 1080x360 with 2 Axes>"
            ]
          },
          "metadata": {
            "needs_background": "light"
          },
          "output_type": "display_data"
        }
      ],
      "source": [
        "plot_log(log)"
      ]
    },
    {
      "cell_type": "code",
      "execution_count": 26,
      "metadata": {
        "colab": {
          "base_uri": "https://localhost:8080/"
        },
        "id": "vsESeQ8E1Jht",
        "outputId": "4a575a8c-2a58-446e-8ab2-e0f8cd882324"
      },
      "outputs": [
        {
          "name": "stdout",
          "output_type": "stream",
          "text": [
            "Epoch 1:\n",
            "\tTrain: Average Accuracy: 0.4205680930050801\tAverage Loss: 0.024740797462276937\n",
            "\tTest: Average Accuracy: 0.7667098335597826\tAverage Loss: 0.5224905533661445\n",
            "Epoch 2:\n",
            "\tTrain: Average Accuracy: 0.7625107463853067\tAverage Loss: 0.015965168867513844\n",
            "\tTest: Average Accuracy: 0.7401091202445652\tAverage Loss: 0.5231223889082643\n",
            "Epoch 3:\n",
            "\tTrain: Average Accuracy: 0.7187368112543963\tAverage Loss: 0.01677293867003784\n",
            "\tTest: Average Accuracy: 0.7028638756793478\tAverage Loss: 0.5496463669124286\n",
            "Epoch 4:\n",
            "\tTrain: Average Accuracy: 0.687650937866354\tAverage Loss: 0.017415589288869087\n",
            "\tTest: Average Accuracy: 0.6798658288043479\tAverage Loss: 0.5642721006765851\n",
            "Epoch 5:\n",
            "\tTrain: Average Accuracy: 0.6701270027354436\tAverage Loss: 0.01792323083053728\n",
            "\tTest: Average Accuracy: 0.6664380944293479\tAverage Loss: 0.5788570992363621\n",
            "Epoch 6:\n",
            "\tTrain: Average Accuracy: 0.6588432981633451\tAverage Loss: 0.0183322110450051\n",
            "\tTest: Average Accuracy: 0.6604322350543479\tAverage Loss: 0.591178013890252\n",
            "Epoch 7:\n",
            "\tTrain: Average Accuracy: 0.6212797967956233\tAverage Loss: 0.018587155310218435\n",
            "\tTest: Average Accuracy: 0.6128545346467391\tAverage Loss: 0.597569166965752\n",
            "Epoch 8:\n",
            "\tTrain: Average Accuracy: 0.558361176240719\tAverage Loss: 0.018794554315808273\n",
            "\tTest: Average Accuracy: 0.5292034646739131\tAverage Loss: 0.6038613074147043\n",
            "Epoch 9:\n",
            "\tTrain: Average Accuracy: 0.5225928096912856\tAverage Loss: 0.01893720013398823\n",
            "\tTest: Average Accuracy: 0.5154636548913043\tAverage Loss: 0.6103307245985201\n",
            "Epoch 10:\n",
            "\tTrain: Average Accuracy: 0.5037187377881985\tAverage Loss: 0.01913744508525693\n",
            "\tTest: Average Accuracy: 0.4732570482336957\tAverage Loss: 0.6176564696509297\n",
            "Epoch 11:\n",
            "\tTrain: Average Accuracy: 0.4743127198124268\tAverage Loss: 0.019352475224256482\n",
            "\tTest: Average Accuracy: 0.4714992357336957\tAverage Loss: 0.6236502425553748\n",
            "Epoch 12:\n",
            "\tTrain: Average Accuracy: 0.47964048456428293\tAverage Loss: 0.019441725951184898\n",
            "\tTest: Average Accuracy: 0.5424740998641304\tAverage Loss: 0.6262068005573769\n",
            "Epoch 13:\n",
            "\tTrain: Average Accuracy: 0.5409437280187573\tAverage Loss: 0.019424886143755756\n",
            "\tTest: Average Accuracy: 0.5336850373641304\tAverage Loss: 0.6266083050503658\n",
            "Epoch 14:\n",
            "\tTrain: Average Accuracy: 0.5291471277842907\tAverage Loss: 0.019572776842856958\n",
            "\tTest: Average Accuracy: 0.5229916779891305\tAverage Loss: 0.6295000120829086\n",
            "Epoch 15:\n",
            "\tTrain: Average Accuracy: 0.5213437866354045\tAverage Loss: 0.019399051433497277\n",
            "\tTest: Average Accuracy: 0.5154233186141305\tAverage Loss: 0.6215480320213741\n"
          ]
        },
        {
          "data": {
            "text/plain": [
              "{'test_accuracy': [0.7667098335597826,\n",
              "  0.7401091202445652,\n",
              "  0.7028638756793478,\n",
              "  0.6798658288043479,\n",
              "  0.6664380944293479,\n",
              "  0.6604322350543479,\n",
              "  0.6128545346467391,\n",
              "  0.5292034646739131,\n",
              "  0.5154636548913043,\n",
              "  0.4732570482336957,\n",
              "  0.4714992357336957,\n",
              "  0.5424740998641304,\n",
              "  0.5336850373641304,\n",
              "  0.5229916779891305,\n",
              "  0.5154233186141305],\n",
              " 'test_loss': [0.5224905533661445,\n",
              "  0.5231223889082643,\n",
              "  0.5496463669124286,\n",
              "  0.5642721006765851,\n",
              "  0.5788570992363621,\n",
              "  0.591178013890252,\n",
              "  0.597569166965752,\n",
              "  0.6038613074147043,\n",
              "  0.6103307245985201,\n",
              "  0.6176564696509297,\n",
              "  0.6236502425553748,\n",
              "  0.6262068005573769,\n",
              "  0.6266083050503658,\n",
              "  0.6295000120829086,\n",
              "  0.6215480320213741],\n",
              " 'train_accuracy': [0.4205680930050801,\n",
              "  0.7625107463853067,\n",
              "  0.7187368112543963,\n",
              "  0.687650937866354,\n",
              "  0.6701270027354436,\n",
              "  0.6588432981633451,\n",
              "  0.6212797967956233,\n",
              "  0.558361176240719,\n",
              "  0.5225928096912856,\n",
              "  0.5037187377881985,\n",
              "  0.4743127198124268,\n",
              "  0.47964048456428293,\n",
              "  0.5409437280187573,\n",
              "  0.5291471277842907,\n",
              "  0.5213437866354045],\n",
              " 'train_loss': [0.024740797462276937,\n",
              "  0.015965168867513844,\n",
              "  0.01677293867003784,\n",
              "  0.017415589288869087,\n",
              "  0.01792323083053728,\n",
              "  0.0183322110450051,\n",
              "  0.018587155310218435,\n",
              "  0.018794554315808273,\n",
              "  0.01893720013398823,\n",
              "  0.01913744508525693,\n",
              "  0.019352475224256482,\n",
              "  0.019441725951184898,\n",
              "  0.019424886143755756,\n",
              "  0.019572776842856958,\n",
              "  0.019399051433497277]}"
            ]
          },
          "execution_count": 26,
          "metadata": {},
          "output_type": "execute_result"
        }
      ],
      "source": [
        "# Tanh\n",
        "\n",
        "INPUT_SHAPE = 25*25\n",
        "LEARNING_RATE = 0.001\n",
        "EPOCHS = 15\n",
        "TRAINLOADER = Dataloader(x_train,y_train,n_classes=10,batch_size=32)\n",
        "TESTLOADER = Dataloader(x_test,y_test,n_classes=10,batch_size=32)\n",
        "\n",
        "network = FeedForwardNN(INPUT_SHAPE)\n",
        "network.add_layer(n_neurons=16, input_shape=INPUT_SHAPE, activation=Tanh(), weight_initializer='uniform')\n",
        "network.add_layer(n_neurons=10, activation=Tanh(), weight_initializer='uniform')\n",
        "network.set_training_param(loss=CrossEntropy(), lr=LEARNING_RATE)\n",
        "\n",
        "log = network.fit(EPOCHS, TRAINLOADER, TESTLOADER)\n",
        "\n",
        "log"
      ]
    },
    {
      "cell_type": "code",
      "execution_count": 118,
      "metadata": {},
      "outputs": [
        {
          "data": {
            "image/png": "[encoded data removed]",
            "text/plain": [
              "<Figure size 1080x360 with 2 Axes>"
            ]
          },
          "metadata": {
            "needs_background": "light"
          },
          "output_type": "display_data"
        }
      ],
      "source": [
        "plot_log(log)"
      ]
    },
    {
      "cell_type": "markdown",
      "metadata": {},
      "source": [
        "## Activation Function\n",
        "\n",
        "### Sigmoid\n",
        "\n",
        "1. The change is too slow when the activation function is close to the saturation region. The derivative needs the product of the previous derivative of each layer, and several smaller numbers are multiplied. The derivative result is very close to 0, so the training of the deep network cannot be completed.\n",
        "2. The output of the Sigmoid is not zero-centered: this causes the input of neurons in the back layer to be a non-zero mean signal, which affects the gradient. Taking f = sigmoid(wx+b) as an example, assuming that the inputs are all positive (or negative), then the derivative of w is always positive (or negative) so that both are updated in the forward direction during backpropagation. Either they are all updated negatively, resulting in a binding effect that slows convergence.\n",
        "3. Power operation is relatively time-consuming\n",
        "\n",
        "### Tanh\n",
        "In fact tanh(x)=2sigmoid(2x)-1. The tanh function compresses the input value to a range of -1 to 1, so it is zero-mean, which solves the non-zero-centered problem of the sigmoid function. Still, it has the problem of gradient disappearance and power operation.\n",
        "\n",
        "\n",
        "### Leaky ReLU\n",
        "\n",
        "With a Leaky ReLU, we won't face the \"dead ReLU\" problem, which happens when ReLU is always zero for values less than zero. This blocks learning in the ReLU because of zero gradients in the negative part. So the derivative of the LReLU is one for positive values and is a small fraction for negative values.\n",
        "\n",
        "\n",
        "For the rest of the assignment, we use the Leaky ReLU activation function as it has better performance.\n"
      ]
    },
    {
      "cell_type": "markdown",
      "metadata": {
        "id": "2Cko9p_p1XC1"
      },
      "source": [
        "## Batch Size"
      ]
    },
    {
      "cell_type": "code",
      "execution_count": 27,
      "metadata": {
        "colab": {
          "base_uri": "https://localhost:8080/"
        },
        "id": "bKPzbDcX1MsQ",
        "outputId": "7e697af8-a54d-4244-e7f7-fe027b793641"
      },
      "outputs": [
        {
          "name": "stdout",
          "output_type": "stream",
          "text": [
            "Epoch 1:\n",
            "\tTrain: Average Accuracy: 0.4803376427423907\tAverage Loss: 0.044250160000850414\n",
            "\tTest: Average Accuracy: 0.8153041294642858\tAverage Loss: 0.3213241516085824\n",
            "Epoch 2:\n",
            "\tTrain: Average Accuracy: 0.8701939776822543\tAverage Loss: 0.013082342044932107\n",
            "\tTest: Average Accuracy: 0.8974609375\tAverage Loss: 0.16115000114174927\n",
            "Epoch 3:\n",
            "\tTrain: Average Accuracy: 0.9118457188137727\tAverage Loss: 0.008443017200640335\n",
            "\tTest: Average Accuracy: 0.92119140625\tAverage Loss: 0.12360174639192363\n",
            "Epoch 4:\n",
            "\tTrain: Average Accuracy: 0.9276477899353045\tAverage Loss: 0.006944290193463017\n",
            "\tTest: Average Accuracy: 0.93154296875\tAverage Loss: 0.10735763785912016\n",
            "Epoch 5:\n",
            "\tTrain: Average Accuracy: 0.9357320025183448\tAverage Loss: 0.006196829362051895\n",
            "\tTest: Average Accuracy: 0.93857421875\tAverage Loss: 0.09821547260876959\n",
            "Epoch 6:\n",
            "\tTrain: Average Accuracy: 0.9407266293256914\tAverage Loss: 0.005743455865630497\n",
            "\tTest: Average Accuracy: 0.942333984375\tAverage Loss: 0.0922700973231357\n",
            "Epoch 7:\n",
            "\tTrain: Average Accuracy: 0.9439505449177196\tAverage Loss: 0.005438779274355362\n",
            "\tTest: Average Accuracy: 0.94541015625\tAverage Loss: 0.08808753549310075\n",
            "Epoch 8:\n",
            "\tTrain: Average Accuracy: 0.94653944683253\tAverage Loss: 0.0052212501422943996\n",
            "\tTest: Average Accuracy: 0.947509765625\tAverage Loss: 0.08498282848471794\n",
            "Epoch 9:\n",
            "\tTrain: Average Accuracy: 0.9483956406582432\tAverage Loss: 0.005056873100082942\n",
            "\tTest: Average Accuracy: 0.94921875\tAverage Loss: 0.08255461949093099\n",
            "Epoch 10:\n",
            "\tTrain: Average Accuracy: 0.9503128934913811\tAverage Loss: 0.004928024034328651\n",
            "\tTest: Average Accuracy: 0.951123046875\tAverage Loss: 0.08060055124545246\n",
            "Epoch 11:\n",
            "\tTrain: Average Accuracy: 0.9515829208458164\tAverage Loss: 0.004822877758140639\n",
            "\tTest: Average Accuracy: 0.951904296875\tAverage Loss: 0.07898198680085947\n",
            "Epoch 12:\n",
            "\tTrain: Average Accuracy: 0.9529872780165863\tAverage Loss: 0.004735492899726796\n",
            "\tTest: Average Accuracy: 0.95302734375\tAverage Loss: 0.07761561063491676\n",
            "Epoch 13:\n",
            "\tTrain: Average Accuracy: 0.9540619165472624\tAverage Loss: 0.0046596920801046035\n",
            "\tTest: Average Accuracy: 0.95390625\tAverage Loss: 0.07643802419143433\n",
            "Epoch 14:\n",
            "\tTrain: Average Accuracy: 0.9547702010333897\tAverage Loss: 0.004594266617687504\n",
            "\tTest: Average Accuracy: 0.95458984375\tAverage Loss: 0.07540909793870548\n",
            "Epoch 15:\n",
            "\tTrain: Average Accuracy: 0.955527332725457\tAverage Loss: 0.004535965249189778\n",
            "\tTest: Average Accuracy: 0.955322265625\tAverage Loss: 0.07449619230095869\n"
          ]
        },
        {
          "data": {
            "text/plain": [
              "{'test_accuracy': [0.8153041294642858,\n",
              "  0.8974609375,\n",
              "  0.92119140625,\n",
              "  0.93154296875,\n",
              "  0.93857421875,\n",
              "  0.942333984375,\n",
              "  0.94541015625,\n",
              "  0.947509765625,\n",
              "  0.94921875,\n",
              "  0.951123046875,\n",
              "  0.951904296875,\n",
              "  0.95302734375,\n",
              "  0.95390625,\n",
              "  0.95458984375,\n",
              "  0.955322265625],\n",
              " 'test_loss': [0.3213241516085824,\n",
              "  0.16115000114174927,\n",
              "  0.12360174639192363,\n",
              "  0.10735763785912016,\n",
              "  0.09821547260876959,\n",
              "  0.0922700973231357,\n",
              "  0.08808753549310075,\n",
              "  0.08498282848471794,\n",
              "  0.08255461949093099,\n",
              "  0.08060055124545246,\n",
              "  0.07898198680085947,\n",
              "  0.07761561063491676,\n",
              "  0.07643802419143433,\n",
              "  0.07540909793870548,\n",
              "  0.07449619230095869],\n",
              " 'train_accuracy': [0.4803376427423907,\n",
              "  0.8701939776822543,\n",
              "  0.9118457188137727,\n",
              "  0.9276477899353045,\n",
              "  0.9357320025183448,\n",
              "  0.9407266293256914,\n",
              "  0.9439505449177196,\n",
              "  0.94653944683253,\n",
              "  0.9483956406582432,\n",
              "  0.9503128934913811,\n",
              "  0.9515829208458164,\n",
              "  0.9529872780165863,\n",
              "  0.9540619165472624,\n",
              "  0.9547702010333897,\n",
              "  0.955527332725457],\n",
              " 'train_loss': [0.044250160000850414,\n",
              "  0.013082342044932107,\n",
              "  0.008443017200640335,\n",
              "  0.006944290193463017,\n",
              "  0.006196829362051895,\n",
              "  0.005743455865630497,\n",
              "  0.005438779274355362,\n",
              "  0.0052212501422943996,\n",
              "  0.005056873100082942,\n",
              "  0.004928024034328651,\n",
              "  0.004822877758140639,\n",
              "  0.004735492899726796,\n",
              "  0.0046596920801046035,\n",
              "  0.004594266617687504,\n",
              "  0.004535965249189778]}"
            ]
          },
          "execution_count": 27,
          "metadata": {},
          "output_type": "execute_result"
        }
      ],
      "source": [
        "# Batch Size: 16\n",
        "\n",
        "INPUT_SHAPE = 25*25\n",
        "LEARNING_RATE = 0.001*0.1\n",
        "EPOCHS = 15\n",
        "TRAINLOADER = Dataloader(x_train,y_train,n_classes=10,batch_size=16)\n",
        "TESTLOADER = Dataloader(x_test,y_test,n_classes=10,batch_size=16)\n",
        "\n",
        "network = FeedForwardNN(INPUT_SHAPE)\n",
        "network.add_layer(n_neurons=16, input_shape=INPUT_SHAPE, activation=LeakyRelu(), weight_initializer='uniform')\n",
        "network.add_layer(n_neurons=10, activation=LeakyRelu(), weight_initializer='uniform')\n",
        "network.set_training_param(loss=CrossEntropy(), lr=LEARNING_RATE)\n",
        "\n",
        "log = network.fit(EPOCHS, TRAINLOADER, TESTLOADER)\n",
        "\n",
        "log"
      ]
    },
    {
      "cell_type": "code",
      "execution_count": 120,
      "metadata": {},
      "outputs": [
        {
          "data": {
            "image/png": "[encoded data removed]",
            "text/plain": [
              "<Figure size 1080x360 with 2 Axes>"
            ]
          },
          "metadata": {
            "needs_background": "light"
          },
          "output_type": "display_data"
        }
      ],
      "source": [
        "plot_log(log)"
      ]
    },
    {
      "cell_type": "code",
      "execution_count": 28,
      "metadata": {
        "colab": {
          "base_uri": "https://localhost:8080/"
        },
        "id": "1IBxM6gX1daV",
        "outputId": "321e17b7-c921-49c6-869c-5f3a0dc5bf36"
      },
      "outputs": [
        {
          "name": "stdout",
          "output_type": "stream",
          "text": [
            "Epoch 1:\n",
            "\tTrain: Average Accuracy: 0.49531953170002885\tAverage Loss: 0.002627538884636795\n",
            "\tTest: Average Accuracy: 0.8166555304276315\tAverage Loss: 0.3187642084697194\n",
            "Epoch 2:\n",
            "\tTrain: Average Accuracy: 0.8701258505544356\tAverage Loss: 0.0007965188741334061\n",
            "\tTest: Average Accuracy: 0.8958539584387651\tAverage Loss: 0.16326045099173353\n",
            "Epoch 3:\n",
            "\tTrain: Average Accuracy: 0.9101858956473216\tAverage Loss: 0.0005102028572786415\n",
            "\tTest: Average Accuracy: 0.9191627656882592\tAverage Loss: 0.12480451762653717\n",
            "Epoch 4:\n",
            "\tTrain: Average Accuracy: 0.9266963835685484\tAverage Loss: 0.0003990036377980571\n",
            "\tTest: Average Accuracy: 0.9312304292130567\tAverage Loss: 0.10784007348687241\n",
            "Epoch 5:\n",
            "\tTrain: Average Accuracy: 0.9350891957085252\tAverage Loss: 0.00034245355421423445\n",
            "\tTest: Average Accuracy: 0.9379687104630566\tAverage Loss: 0.09838980705759107\n",
            "Epoch 6:\n",
            "\tTrain: Average Accuracy: 0.9405279062860024\tAverage Loss: 0.00030893175909013973\n",
            "\tTest: Average Accuracy: 0.9432909760880566\tAverage Loss: 0.09232424158440086\n",
            "Epoch 7:\n",
            "\tTrain: Average Accuracy: 0.9443430817072294\tAverage Loss: 0.00028680619656833384\n",
            "\tTest: Average Accuracy: 0.9462694917130566\tAverage Loss: 0.08809449544863039\n",
            "Epoch 8:\n",
            "\tTrain: Average Accuracy: 0.9473503991755472\tAverage Loss: 0.0002711448755685859\n",
            "\tTest: Average Accuracy: 0.947833770875506\tAverage Loss: 0.08495466593468273\n",
            "Epoch 9:\n",
            "\tTrain: Average Accuracy: 0.9493157312067971\tAverage Loss: 0.00026005094852365324\n",
            "\tTest: Average Accuracy: 0.9492027375379555\tAverage Loss: 0.08251384318085334\n",
            "Epoch 10:\n",
            "\tTrain: Average Accuracy: 0.9507461477534562\tAverage Loss: 0.00025183371685484114\n",
            "\tTest: Average Accuracy: 0.9507652375379555\tAverage Loss: 0.0805488121499901\n",
            "Epoch 11:\n",
            "\tTrain: Average Accuracy: 0.9520889211909562\tAverage Loss: 0.00024551122674108296\n",
            "\tTest: Average Accuracy: 0.9521342042004048\tAverage Loss: 0.07891516909689762\n",
            "Epoch 12:\n",
            "\tTrain: Average Accuracy: 0.9533118182063653\tAverage Loss: 0.0002404857274754934\n",
            "\tTest: Average Accuracy: 0.9536967042004049\tAverage Loss: 0.07752898289005841\n",
            "Epoch 13:\n",
            "\tTrain: Average Accuracy: 0.9541296893001153\tAverage Loss: 0.0002365062895337856\n",
            "\tTest: Average Accuracy: 0.9545285614878543\tAverage Loss: 0.07632534027100121\n",
            "Epoch 14:\n",
            "\tTrain: Average Accuracy: 0.9549863753780242\tAverage Loss: 0.00023295291002346316\n",
            "\tTest: Average Accuracy: 0.9551633271128542\tAverage Loss: 0.07526419772846189\n",
            "Epoch 15:\n",
            "\tTrain: Average Accuracy: 0.9557432113155242\tAverage Loss: 0.00023005509703905616\n",
            "\tTest: Average Accuracy: 0.9555051239878543\tAverage Loss: 0.07430325256228812\n"
          ]
        },
        {
          "data": {
            "text/plain": [
              "{'test_accuracy': [0.8166555304276315,\n",
              "  0.8958539584387651,\n",
              "  0.9191627656882592,\n",
              "  0.9312304292130567,\n",
              "  0.9379687104630566,\n",
              "  0.9432909760880566,\n",
              "  0.9462694917130566,\n",
              "  0.947833770875506,\n",
              "  0.9492027375379555,\n",
              "  0.9507652375379555,\n",
              "  0.9521342042004048,\n",
              "  0.9536967042004049,\n",
              "  0.9545285614878543,\n",
              "  0.9551633271128542,\n",
              "  0.9555051239878543],\n",
              " 'test_loss': [0.3187642084697194,\n",
              "  0.16326045099173353,\n",
              "  0.12480451762653717,\n",
              "  0.10784007348687241,\n",
              "  0.09838980705759107,\n",
              "  0.09232424158440086,\n",
              "  0.08809449544863039,\n",
              "  0.08495466593468273,\n",
              "  0.08251384318085334,\n",
              "  0.0805488121499901,\n",
              "  0.07891516909689762,\n",
              "  0.07752898289005841,\n",
              "  0.07632534027100121,\n",
              "  0.07526419772846189,\n",
              "  0.07430325256228812],\n",
              " 'train_accuracy': [0.49531953170002885,\n",
              "  0.8701258505544356,\n",
              "  0.9101858956473216,\n",
              "  0.9266963835685484,\n",
              "  0.9350891957085252,\n",
              "  0.9405279062860024,\n",
              "  0.9443430817072294,\n",
              "  0.9473503991755472,\n",
              "  0.9493157312067971,\n",
              "  0.9507461477534562,\n",
              "  0.9520889211909562,\n",
              "  0.9533118182063653,\n",
              "  0.9541296893001153,\n",
              "  0.9549863753780242,\n",
              "  0.9557432113155242],\n",
              " 'train_loss': [0.002627538884636795,\n",
              "  0.0007965188741334061,\n",
              "  0.0005102028572786415,\n",
              "  0.0003990036377980571,\n",
              "  0.00034245355421423445,\n",
              "  0.00030893175909013973,\n",
              "  0.00028680619656833384,\n",
              "  0.0002711448755685859,\n",
              "  0.00026005094852365324,\n",
              "  0.00025183371685484114,\n",
              "  0.00024551122674108296,\n",
              "  0.0002404857274754934,\n",
              "  0.0002365062895337856,\n",
              "  0.00023295291002346316,\n",
              "  0.00023005509703905616]}"
            ]
          },
          "execution_count": 28,
          "metadata": {},
          "output_type": "execute_result"
        }
      ],
      "source": [
        "# Batch Size: 256\n",
        "\n",
        "INPUT_SHAPE = 25*25\n",
        "LEARNING_RATE = 0.001*0.1\n",
        "EPOCHS = 15\n",
        "TRAINLOADER = Dataloader(x_train,y_train,n_classes=10,batch_size=256)\n",
        "TESTLOADER = Dataloader(x_test,y_test,n_classes=10,batch_size=256)\n",
        "\n",
        "network = FeedForwardNN(INPUT_SHAPE)\n",
        "network.add_layer(n_neurons=16, input_shape=INPUT_SHAPE, activation=LeakyRelu(), weight_initializer='uniform')\n",
        "network.add_layer(n_neurons=10, activation=LeakyRelu(), weight_initializer='uniform')\n",
        "network.set_training_param(loss=CrossEntropy(), lr=LEARNING_RATE)\n",
        "\n",
        "log = network.fit(EPOCHS, TRAINLOADER, TESTLOADER)\n",
        "\n",
        "log"
      ]
    },
    {
      "cell_type": "code",
      "execution_count": 122,
      "metadata": {},
      "outputs": [
        {
          "data": {
            "image/png": "[encoded data removed]",
            "text/plain": [
              "<Figure size 1080x360 with 2 Axes>"
            ]
          },
          "metadata": {
            "needs_background": "light"
          },
          "output_type": "display_data"
        }
      ],
      "source": [
        "plot_log(log)"
      ]
    },
    {
      "cell_type": "markdown",
      "metadata": {},
      "source": [
        "Small batch size means that we are giving a smaller group of data to the network each time. And this will lead to the fact that it will make the network update sooner for the next epoch.\n",
        "Smaller batch sizes are noisy, offering a regularizing effect and lower generalization error. Smaller batch sizes make it easier to fit one batch worth of training data in memory.\n",
        "A large batch size means the model makes huge gradient updates.\n",
        "The lack of generalization ability is because large batch methods tend to converge to sharp minimizers of the training function.\n",
        "\n",
        "Using batch is that when you train your deep learning model without splitting the dataset into batches, your neural network has to store error values for all those data in the memory, which will cause a significant decrease in the speed of training.\n",
        "\n",
        "The batch size is a hyperparameter of gradient descent that controls the number of training samples to work through before the model's internal parameters are updated. The number of epochs is a hyperparameter of gradient descent that controls the number of complete passes through the training dataset.\n",
        "\n",
        "Generally, Small batch sizes would make our algorithm run slower.\n",
        "Since parallel computation is less for small batch sizes, it will take longer for the algorithm to finish. The downside of using a smaller batch size is that the model is not guaranteed to converge to the global optima.\n",
        "On the other hand, in some cases, the neural network can converge better. This is intuitively explained by the fact that smaller batch sizes allow the model to start learning before seeing all the data."
      ]
    },
    {
      "cell_type": "code",
      "execution_count": null,
      "metadata": {},
      "outputs": [],
      "source": []
    }
  ],
  "metadata": {
    "accelerator": "GPU",
    "colab": {
      "name": "AI-CA5-P1.ipynb",
      "provenance": []
    },
    "interpreter": {
      "hash": "916dbcbb3f70747c44a77c7bcd40155683ae19c65e1c03b4aa3499c5328201f1"
    },
    "kernelspec": {
      "display_name": "Python 3.8.10 64-bit",
      "language": "python",
      "name": "python3"
    },
    "language_info": {
      "codemirror_mode": {
        "name": "ipython",
        "version": 3
      },
      "file_extension": ".py",
      "mimetype": "text/x-python",
      "name": "python",
      "nbconvert_exporter": "python",
      "pygments_lexer": "ipython3",
      "version": "3.8.10"
    }
  },
  "nbformat": 4,
  "nbformat_minor": 0
}
