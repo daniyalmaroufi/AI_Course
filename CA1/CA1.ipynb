{
 "cells": [
  {
   "cell_type": "markdown",
   "metadata": {},
   "source": [
    "![University of Tehran](./img/UT.png)\n",
    "#   <font color='red'><center>AI CA 1<center></font> \n",
    "## <center>Dr. Fadaei<center>\n",
    "### <center>Daniyal Maroufi<center>\n",
    "### <center>810098039<center>"
   ]
  },
  {
   "cell_type": "markdown",
   "metadata": {},
   "source": [
    "# Aim\n",
    "\n",
    "This assignment aims to solve a problem using Informed and Uninformed search algorithms such as BTS, IDS, and A* algorithm. Finally, we will compare the time complexity of these algorithms."
   ]
  },
  {
   "cell_type": "markdown",
   "metadata": {},
   "source": [
    "# Problem Definition\n",
    "\n",
    "## Intial State\n",
    "\n",
    "The initial state is the state that our agent will start from. In this case, Gandalf starts from his state at a given position in the input.\n",
    "\n",
    "## Action\n",
    "\n",
    "The agent can do an action to reach another state. In this case, Gandolf can have six actions: going up, right, down, and left and picking a friend, and placing them in another position.\n",
    "\n",
    "## Transition Model\n",
    "\n",
    "UP action: If it is permitted, the agent will move from state (x,y) to state (x-1,y)\n",
    "\n",
    "DOWN action: If it is permitted, the agent will move from state (x,y) to state (x+1,y)\n",
    "\n",
    "RIGHT action: If it is permitted, the agent will move from state (x,y) to state (x,y+1)\n",
    "\n",
    "LEFT action: If it is permitted, the agent will move from state (x,y) to state (a,y-1)\n",
    "\n",
    "PICK action: the agent will pick the friend\n",
    "\n",
    "PLACE action: the agent will place the friend\n",
    "\n",
    "## Goal State\n",
    "\n",
    "The goal state is that the agent has successfully done its tasks. In this case, Gandalf must place all the friends in their goal positions and reach the final point (Gandor)."
   ]
  },
  {
   "cell_type": "markdown",
   "metadata": {},
   "source": [
    "# Algorithms\n",
    "\n",
    "## BFS\n",
    "\n",
    "The Breadth-First Search (BFS) is an algorithm for traversing or searching tree or graph data structures. It explores all the nodes at the present depth before moving to the next depth level. BFS is complete, and it will give us an optimal solution with time complexity of $O(b^d)$.\n",
    "\n",
    "## IDS\n",
    "\n",
    "The IDS or Iterative Deepening Search is an algorithm based on DFS which controls the depth before expanding another node. IDS leads to an optimal solution. Unlike DFS, its time complexity is $O(bm)$.\n",
    "\n",
    "## A*\n",
    "\n",
    "A* algorithm searches for the shortest path between the initial and the final state. It is used in various applications, such as maps.\n",
    "In maps, the A* algorithm calculates the shortest distance between the source (initial state) and the destination (final state).\n",
    "$g(n)$ is the cost of reaching the current state, and $h(n)$ is the heuristic function that estimates the cost of getting to the final state from the current node $n$.\n",
    "A* search is complete, and its time complexity is $O(b^d)$."
   ]
  },
  {
   "cell_type": "markdown",
   "metadata": {},
   "source": [
    "# Classes"
   ]
  },
  {
   "cell_type": "code",
   "execution_count": 2,
   "metadata": {},
   "outputs": [],
   "source": [
    "import queue\n",
    "from time import time\n",
    "import copy"
   ]
  },
  {
   "cell_type": "markdown",
   "metadata": {},
   "source": [
    "## Node"
   ]
  },
  {
   "cell_type": "code",
   "execution_count": 201,
   "metadata": {},
   "outputs": [],
   "source": [
    "class Node(object):\n",
    "    def __init__(self,position):\n",
    "        self.state=tuple(position)\n",
    "        self.parent=None\n",
    "        self.path=''\n",
    "        self.picked_RF=None\n",
    "        self.placed_RFs=set()\n",
    "\n",
    "    def __eq__(self, other):\n",
    "        if self.state==other.state and self.path==other.path and self.picked_RF==other.picked_RF and self.placed_RFs==other.placed_RFs:\n",
    "            return True\n",
    "        return False\n",
    "\n",
    "    def __hash__(self):\n",
    "        return hash((self.state,str(self.placed_RFs),self.picked_RF))\n",
    "    \n",
    "    def getDist(self):\n",
    "        return len(self.path)\n",
    "    \n",
    "    def setPlacedRFs(self,_placed_RFs):\n",
    "        self.placed_RFs=_placed_RFs\n"
   ]
  },
  {
   "cell_type": "code",
   "execution_count": 202,
   "metadata": {},
   "outputs": [],
   "source": [
    "def createChild(parent=Node((-1,-1))):\n",
    "    child=Node(parent.state)\n",
    "    child.parent=parent\n",
    "    child.path=copy.deepcopy(parent.path)\n",
    "    child.picked_RF=parent.picked_RF\n",
    "    child.placed_RFs=copy.deepcopy(parent.placed_RFs)\n",
    "    return child"
   ]
  },
  {
   "cell_type": "markdown",
   "metadata": {},
   "source": [
    "## Problem"
   ]
  },
  {
   "cell_type": "code",
   "execution_count": 203,
   "metadata": {},
   "outputs": [],
   "source": [
    "class Problem():\n",
    "    def __init__(self, test_name):\n",
    "        with open('./tests/'+test_name+'.txt') as f:\n",
    "            self.n,self.m = tuple(map(int,f.readline().split()))\n",
    "            self.gandalf_initial_pos = tuple(map(int,f.readline().split()))\n",
    "            self.gandor = tuple(map(int,f.readline().split()))\n",
    "            self.k,self.l = tuple(map(int,f.readline().split()))\n",
    "            self.orks=[]\n",
    "            self.RFs_initial_pos=[]\n",
    "            self.RFs_goal_pos=[]\n",
    "            for _ in range(self.k):\n",
    "                x,y,c = tuple(map(int,f.readline().split()))\n",
    "                self.orks.append((x,y,c))\n",
    "            for _ in range(self.l):\n",
    "                x,y = tuple(map(int,f.readline().split()))\n",
    "                self.RFs_initial_pos.append((x,y))\n",
    "            for _ in range(self.l):\n",
    "                x,y = tuple(map(int,f.readline().split()))\n",
    "                self.RFs_goal_pos.append((x,y))\n",
    "            self.allRFs=dict(zip(self.RFs_initial_pos,self.RFs_goal_pos))\n",
    "    \n",
    "    def getInitialNode(self):\n",
    "        node=Node(self.gandalf_initial_pos)\n",
    "        return node\n",
    "    \n",
    "    def goalTest(self, node=Node((-1,-1))):\n",
    "        # print('gTest:',len(node.placed_RFs),self.l)\n",
    "        if len(node.placed_RFs)==self.l and node.state==self.gandor:\n",
    "            return True\n",
    "        return False\n",
    "\n",
    "    def isInRegionOfOrk(self,ork,node=Node((-1,-1))):\n",
    "        if (abs(ork[0]-node.state[0])+abs(ork[1]-node.state[1]))<=ork[2]:\n",
    "            return True\n",
    "        return False\n",
    "\n",
    "    def countPresence(self,ork,node=Node((-1,-1))):\n",
    "        presence=0\n",
    "        while node is not None and self.isInRegionOfOrk(ork,node):\n",
    "            presence+=1\n",
    "            node=node.parent\n",
    "        return presence\n",
    "\n",
    "    def canGo(self,node=Node((-1,-1))):\n",
    "        if node.state[0]<0 or node.state[0]>=self.n or node.state[1]<0 or node.state[1]>=self.m:\n",
    "            return False\n",
    "        for ork in self.orks:\n",
    "            # count the number of RF's presence in the ork's region\n",
    "            if self.countPresence(ork,node)>=ork[2]:\n",
    "                return False\n",
    "        return True\n",
    "    \n",
    "    def actions(self):\n",
    "        # return {'pick':'pick','place':'place','L':(0,-1),'R':(0,1),'U':(-1,0),'D':(1,0)}\n",
    "        return {'pick':'pick','place':'place','D':(1,0),'R':(0,1),'U':(-1,0),'L':(0,-1)}\n",
    "\n"
   ]
  },
  {
   "cell_type": "markdown",
   "metadata": {},
   "source": [
    "# BFS"
   ]
  },
  {
   "cell_type": "code",
   "execution_count": 321,
   "metadata": {},
   "outputs": [],
   "source": [
    "def bfs(problem):\n",
    "    frontier=queue.Queue()\n",
    "    frontierSet=set() # saves the hash of the states in the frontier\n",
    "    seen_states = 0\n",
    "    root=problem.getInitialNode()\n",
    "    frontier.put(root)\n",
    "    frontierSet.add(hash(root))\n",
    "    if problem.goalTest(root):\n",
    "        return 1,root.path\n",
    "    while not frontier.empty():\n",
    "        # print('frontier:',[a for a in frontierSet])\n",
    "        node=frontier.get()\n",
    "        # print(hash(node))\n",
    "        # print(node.path)\n",
    "        # print(node.state)\n",
    "        for action,transition in problem.actions().items():\n",
    "            if action == 'pick':\n",
    "                # print('path',node.path)\n",
    "                # print('pick?','picked:',node.picked_RF,'state:',node.state,'initiallist:',problem.RFs_initial_pos)\n",
    "                if node.picked_RF is None and node.state in problem.RFs_initial_pos and problem.allRFs[node.state] not in node.placed_RFs:\n",
    "                    \n",
    "                    child_with_RF=createChild(node)\n",
    "                    child_with_RF.picked_RF=problem.allRFs[node.state]\n",
    "\n",
    "                    # child_with_RF=Node(node.state)\n",
    "                    # child_with_RF.parent=node\n",
    "                    # child_with_RF.path=copy.deepcopy(node.path)\n",
    "                    # child_with_RF.picked_RF=problem.allRFs[node.state]\n",
    "                    # child_with_RF.placed_RFs=copy.deepcopy(node.placed_RFs)\n",
    "\n",
    "                    # print('picked!!')\n",
    "                    seen_states+=1\n",
    "                    child_hash=hash(child_with_RF)\n",
    "                    # if child_hash not in frontierSet:\n",
    "                    frontier.put(child_with_RF)\n",
    "                    frontierSet.add(child_hash)\n",
    "            elif action == 'place':\n",
    "                if node.state == node.picked_RF:\n",
    "                    # print('placed!!')\n",
    "\n",
    "                    child=createChild(node)\n",
    "                    child.placed_RFs.add(node.state)\n",
    "                    child.picked_RF=None\n",
    "\n",
    "                    # child=Node(node.state)\n",
    "                    # child.parent=node\n",
    "                    # child.path=copy.deepcopy(node.path)\n",
    "                    # child.picked_RF=None\n",
    "                    # child.placed_RFs=copy.deepcopy(node.placed_RFs)\n",
    "                    # child.placed_RFs.add(node.state)\n",
    "\n",
    "                    seen_states+=1\n",
    "                    child_hash=hash(child)\n",
    "                    if child_hash not in frontierSet:\n",
    "                        frontier.put(child)\n",
    "                        frontierSet.add(hash(child))\n",
    "                    # print('placed!:):')\n",
    "                    # print(child.placed_RFs)\n",
    "            else:\n",
    "\n",
    "                # child=Node(node.state)\n",
    "                # child.parent=node\n",
    "                # child.path=copy.deepcopy(node.path)\n",
    "                # child.picked_RF=node.picked_RF\n",
    "                # child.placed_RFs=copy.deepcopy(node.placed_RFs)\n",
    "\n",
    "                child=createChild(node)\n",
    "\n",
    "\n",
    "                child.state=(node.state[0]+transition[0],node.state[1]+transition[1])\n",
    "                if problem.canGo(child):\n",
    "                    # print('couldGo:',child.state)\n",
    "                    child.path+=action\n",
    "                    seen_states+=1\n",
    "                    child_hash=hash(child)\n",
    "                    if problem.goalTest(child):\n",
    "                        return seen_states, child.path\n",
    "                    if child_hash not in frontierSet:\n",
    "                        frontier.put(child)\n",
    "                        frontierSet.add(child_hash)\n",
    "    return 0,''\n",
    "\n",
    "\n",
    "\n"
   ]
  },
  {
   "cell_type": "code",
   "execution_count": 317,
   "metadata": {},
   "outputs": [],
   "source": [
    "test0=Problem('test_00')"
   ]
  },
  {
   "cell_type": "code",
   "execution_count": 320,
   "metadata": {},
   "outputs": [
    {
     "name": "stdout",
     "output_type": "stream",
     "text": [
      "34649 RRRRRRRRRRRRRRRRRRRRRRRRRRRRRDRUDRUDRUDRUDRRRRRR 48\n",
      "time 1005.474328994751\n",
      "34649 RRRRRRRRRRRRRRRRRRRRRRRRRRRRRDRUDRUDRUDRUDRRRRRR 48\n",
      "time 771.049976348877\n",
      "34649 RRRRRRRRRRRRRRRRRRRRRRRRRRRRRDRUDRUDRUDRUDRRRRRR 48\n",
      "time 759.2411041259766\n"
     ]
    }
   ],
   "source": [
    "for _ in range(3):\n",
    "    tic=time()\n",
    "    a,b=bfs(test0)\n",
    "    toc=time()\n",
    "    print(a,b,len(b))\n",
    "    print('time',(toc-tic)*1000)"
   ]
  },
  {
   "cell_type": "code",
   "execution_count": 322,
   "metadata": {},
   "outputs": [
    {
     "name": "stdout",
     "output_type": "stream",
     "text": [
      "34649 RRRRRRRRRRRRRRRRRRRRRRRRRRRRRDRUDRUDRUDRUDRRRRRR 48\n",
      "time 775.5606174468994\n",
      "34649 RRRRRRRRRRRRRRRRRRRRRRRRRRRRRDRUDRUDRUDRUDRRRRRR 48\n",
      "time 768.845796585083\n",
      "34649 RRRRRRRRRRRRRRRRRRRRRRRRRRRRRDRUDRUDRUDRUDRRRRRR 48\n",
      "time 753.2052993774414\n"
     ]
    }
   ],
   "source": [
    "for _ in range(3):\n",
    "    tic=time()\n",
    "    a,b=bfs(test0)\n",
    "    toc=time()\n",
    "    print(a,b,len(b))\n",
    "    print('time',(toc-tic)*1000)"
   ]
  },
  {
   "cell_type": "code",
   "execution_count": 35,
   "metadata": {},
   "outputs": [
    {
     "data": {
      "text/plain": [
       "34"
      ]
     },
     "execution_count": 35,
     "metadata": {},
     "output_type": "execute_result"
    }
   ],
   "source": [
    "len('RRRRRRRLLLLDDDDLDLLRDDRUURURRRDRDD')"
   ]
  },
  {
   "cell_type": "code",
   "execution_count": 50,
   "metadata": {},
   "outputs": [
    {
     "data": {
      "text/plain": [
       "48"
      ]
     },
     "execution_count": 50,
     "metadata": {},
     "output_type": "execute_result"
    }
   ],
   "source": [
    "len('RRRRRRRRRRRRRRRRRRRRRRRRRRRRRDRUDRUDRUDRUDRRRRRR')"
   ]
  },
  {
   "cell_type": "code",
   "execution_count": 39,
   "metadata": {},
   "outputs": [
    {
     "data": {
      "text/plain": [
       "[(5, 0), (5, 6)]"
      ]
     },
     "execution_count": 39,
     "metadata": {},
     "output_type": "execute_result"
    }
   ],
   "source": [
    "test0.RFs_goal_pos\n"
   ]
  },
  {
   "cell_type": "code",
   "execution_count": 239,
   "metadata": {},
   "outputs": [
    {
     "name": "stdout",
     "output_type": "stream",
     "text": [
      "cc False\n",
      "bb: True\n"
     ]
    }
   ],
   "source": []
  },
  {
   "cell_type": "code",
   "execution_count": null,
   "metadata": {},
   "outputs": [],
   "source": [
    "aa=Node((0,0))\n",
    "a=Node((1,0))\n",
    "a.parent=aa\n",
    "b=Node((2,0))\n",
    "b.parent=a\n",
    "c=Node((3,0))\n",
    "c.parent=b\n",
    "d=Node((4,0))\n",
    "d.parent=c\n",
    "\n",
    "print('aa:',test0.countPresence(test0.orks[0],d))\n",
    "\n",
    "print('cc',test0.isInRegionOfOrk(test0.orks[0],d))\n",
    "print('bb:',test0.canGo(d))\n",
    "\n",
    "\n",
    "\n",
    "# a.placed_RFs.add((2,2))\n",
    "# b.placed_RFs=a.placed_RFs\n",
    "# b.placed_RFs.add((2,3))\n",
    "# b.placed_RFs"
   ]
  }
 ],
 "metadata": {
  "interpreter": {
   "hash": "916dbcbb3f70747c44a77c7bcd40155683ae19c65e1c03b4aa3499c5328201f1"
  },
  "kernelspec": {
   "display_name": "Python 3.8.10 64-bit",
   "language": "python",
   "name": "python3"
  },
  "language_info": {
   "codemirror_mode": {
    "name": "ipython",
    "version": 3
   },
   "file_extension": ".py",
   "mimetype": "text/x-python",
   "name": "python",
   "nbconvert_exporter": "python",
   "pygments_lexer": "ipython3",
   "version": "3.8.10"
  },
  "orig_nbformat": 4
 },
 "nbformat": 4,
 "nbformat_minor": 2
}
