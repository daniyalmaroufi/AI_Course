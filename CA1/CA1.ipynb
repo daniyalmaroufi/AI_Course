{
 "cells": [
  {
   "cell_type": "markdown",
   "metadata": {},
   "source": [
    "![University of Tehran](./img/UT.png)\n",
    "#   <font color='red'><center>AI CA 1<center></font> \n",
    "## <center>Dr. Fadaei<center>\n",
    "### <center>Daniyal Maroufi<center>\n",
    "### <center>810098039<center>"
   ]
  },
  {
   "cell_type": "markdown",
   "metadata": {},
   "source": [
    "# Aim\n",
    "\n",
    "This assignment aims to solve a problem using Informed and Uninformed search algorithms such as BTS, IDS, and A* algorithm. Finally, we will compare the time complexity of these algorithms."
   ]
  },
  {
   "cell_type": "markdown",
   "metadata": {},
   "source": [
    "# Problem Definition\n",
    "\n",
    "## Intial State\n",
    "\n",
    "The initial state is the state that our agent will start from. In this case, Gandalf starts from his state at a given position in the input.\n",
    "\n",
    "## Action\n",
    "\n",
    "The agent can do an action to reach another state. In this case, Gandolf can have six actions: going up, right, down, and left and picking a friend, and placing them in another position.\n",
    "\n",
    "## Transition Model\n",
    "\n",
    "UP action: If it is permitted, the agent will move from state (x,y) to state (x-1,y)\n",
    "\n",
    "DOWN action: If it is permitted, the agent will move from state (x,y) to state (x+1,y)\n",
    "\n",
    "RIGHT action: If it is permitted, the agent will move from state (x,y) to state (x,y+1)\n",
    "\n",
    "LEFT action: If it is permitted, the agent will move from state (x,y) to state (a,y-1)\n",
    "\n",
    "PICK action: the agent will pick the friend\n",
    "\n",
    "PLACE action: the agent will place the friend\n",
    "\n",
    "## Goal State\n",
    "\n",
    "The goal state is that the agent has successfully done its tasks. In this case, Gandalf must place all the friends in their goal positions and reach the final point (Gandor)."
   ]
  },
  {
   "cell_type": "markdown",
   "metadata": {},
   "source": [
    "# Algorithms\n",
    "\n",
    "## BFS\n",
    "\n",
    "The Breadth-First Search (BFS) is an algorithm for traversing or searching tree or graph data structures. It explores all the nodes at the present depth before moving to the next depth level. BFS is complete, and it will give us an optimal solution with time complexity of $O(b^d)$.\n",
    "\n",
    "## IDS\n",
    "\n",
    "The IDS or Iterative Deepening Search is an algorithm based on DFS which controls the depth before expanding another node. IDS leads to an optimal solution. Unlike DFS, its time complexity is $O(bm)$.\n",
    "\n",
    "## A*\n",
    "\n",
    "A* algorithm searches for the shortest path between the initial and the final state. It is used in various applications, such as maps.\n",
    "In maps, the A* algorithm calculates the shortest distance between the source (initial state) and the destination (final state).\n",
    "$g(n)$ is the cost of reaching the current state, and $h(n)$ is the heuristic function that estimates the cost of getting to the final state from the current node $n$.\n",
    "A* search is complete, and its time complexity is $O(b^d)$."
   ]
  },
  {
   "cell_type": "markdown",
   "metadata": {},
   "source": [
    "# Classes"
   ]
  },
  {
   "cell_type": "code",
   "execution_count": 36,
   "metadata": {},
   "outputs": [],
   "source": [
    "import queue\n",
    "import time"
   ]
  },
  {
   "cell_type": "markdown",
   "metadata": {},
   "source": [
    "## Node"
   ]
  },
  {
   "cell_type": "code",
   "execution_count": 48,
   "metadata": {},
   "outputs": [],
   "source": [
    "class Node(object):\n",
    "    def __init__(self,position):\n",
    "        self.state=tuple(position)\n",
    "        self.parent=None\n",
    "        self.path=''\n",
    "        self.picked_RF=tuple()\n",
    "        self.placed_RFs=set()\n",
    "    \n",
    "    def getDist(self):\n",
    "        return len(self.path)\n",
    "    \n",
    "    def setPlacedRFs(self,_placed_RFs):\n",
    "        self.placed_RFs=_placed_RFs\n",
    "    "
   ]
  },
  {
   "cell_type": "markdown",
   "metadata": {},
   "source": [
    "## Problem"
   ]
  },
  {
   "cell_type": "code",
   "execution_count": 57,
   "metadata": {},
   "outputs": [],
   "source": [
    "class Problem():\n",
    "    def __init__(self, test_name):\n",
    "        with open('./tests/'+test_name+'.txt') as f:\n",
    "            self.n,self.m = tuple(map(int,f.readline().split()))\n",
    "            self.gandalf_initial_pos = tuple(map(int,f.readline().split()))\n",
    "            self.gandor = tuple(map(int,f.readline().split()))\n",
    "            self.k,self.l = tuple(map(int,f.readline().split()))\n",
    "            self.orks=[]\n",
    "            self.RFs_initial_pos=[]\n",
    "            self.RFs_goal_pos=[]\n",
    "            for _ in range(self.k):\n",
    "                x,y,c = tuple(map(int,f.readline().split()))\n",
    "                self.orks.append((x,y,c))\n",
    "            for _ in range(self.l):\n",
    "                x,y = tuple(map(int,f.readline().split()))\n",
    "                self.RFs_initial_pos.append((x,y))\n",
    "            for _ in range(self.l):\n",
    "                x,y = tuple(map(int,f.readline().split()))\n",
    "                self.RFs_goal_pos.append((x,y))\n",
    "            self.allRFs=dict(zip(self.RFs_initial_pos,self.RFs_goal_pos))\n",
    "    \n",
    "    def getInitialNode(self):\n",
    "        node=Node(self.gandalf_initial_pos)\n",
    "        return node\n",
    "    \n",
    "    def goalTest(self, node=Node((-1,-1))):\n",
    "        if len(node.placed_RFs)==self.l and node.state==self.gandor:\n",
    "            return True\n",
    "        return False\n",
    "\n",
    "    def isInRegionOfOrk(self,ork,node=Node((-1,-1))):\n",
    "        if abs(ork[0]-node.state[0])+abs(ork[1]-node.state[1])<ork[2]:\n",
    "            return True\n",
    "        return False\n",
    "\n",
    "    def countPresence(self,ork,node=Node((-1,-1))):\n",
    "        presence=0\n",
    "        while node.parent is None and self.isInRegionOfOrk(ork,node):\n",
    "            presence+=1\n",
    "            node=node.parent\n",
    "        return presence\n",
    "\n",
    "    def canGo(self,node=Node((-1,-1))):\n",
    "        if node.state[0]<0 or node.state[0]>=self.n or node.state[1]<0 or node.state[1]>=self.m:\n",
    "            return False\n",
    "        for ork in self.orks:\n",
    "            # count the number of RF's presence in the ork's region\n",
    "            if self.countPresence(self,ork,node)>=ork[3]:\n",
    "                return False\n",
    "        return True\n",
    "    \n",
    "    def actions(self):\n",
    "        return {'pick':'pick','place':'place','L':(-1,0),'R':(1,0),'U':(0,-1),'D':(0,1)}\n",
    "\n"
   ]
  },
  {
   "cell_type": "code",
   "execution_count": 54,
   "metadata": {},
   "outputs": [],
   "source": [
    "test0=Problem('test_00')"
   ]
  },
  {
   "cell_type": "code",
   "execution_count": 55,
   "metadata": {},
   "outputs": [
    {
     "data": {
      "text/plain": [
       "[(2, 30), (2, 31), (2, 32), (2, 33), (2, 34)]"
      ]
     },
     "execution_count": 55,
     "metadata": {},
     "output_type": "execute_result"
    }
   ],
   "source": [
    "test0.RFs_goal_pos\n"
   ]
  },
  {
   "cell_type": "code",
   "execution_count": 56,
   "metadata": {},
   "outputs": [],
   "source": [
    "def getHash(node=Node((-1,-1))):\n",
    "    '''\n",
    "    returns the hash of the state to save into a set\n",
    "    hash(state+placed_RFs+picked_RF)\n",
    "    '''\n",
    "    return hash(str(node.state)+str(node.placed_RFs)+str(node.picked_RF))"
   ]
  },
  {
   "cell_type": "code",
   "execution_count": 61,
   "metadata": {},
   "outputs": [],
   "source": [
    "def bfs(problem=Problem('test_00')):\n",
    "    frontier=queue.Queue()\n",
    "    frontierSet=set() # saves the hash of the states in the frontier\n",
    "    explored=set() # saves the hash of the states that are explored\n",
    "    seen_states, unique_seen_states = 0, 0\n",
    "    root=problem.getInitialNode()\n",
    "    frontier.put(root)\n",
    "    frontierSet.add(getHash(root))\n",
    "    if problem.goalTest(root):\n",
    "        return 1,1,root.path\n",
    "    while frontier:\n",
    "        node=frontier.get()\n",
    "        frontierSet.remove(getHash(node))\n",
    "        explored.add(getHash(node))\n",
    "        for action,transition in problem.actions().items():\n",
    "            if action == 'pick':\n",
    "                if node.picked_RF is None and node.state in problem.RFs_initial_pos and node.state not in node.placed_RFs:\n",
    "                    child_with_RF=Node(node.state)\n",
    "                    child_with_RF.parent=node\n",
    "                    child.path=node.path\n",
    "                    child_with_RF.picked_RF=problem.allRFs[node.state]\n",
    "                    child_with_RF.placed_RFs=node.placed_RFs\n",
    "                    seen_states+=1\n",
    "                    frontier.put(child_with_RF)\n",
    "                    frontierSet.add(getHash(child_with_RF))\n",
    "            elif action == 'place':\n",
    "                if node.state == node.picked_RF:\n",
    "                    node.placed_RFs.add(node.state)\n",
    "                    node.picked_RF=None\n",
    "            else:\n",
    "                child=Node((node.state[0]+transition[0],node.state[1]+transition[1]))\n",
    "                child.parent=node\n",
    "                child.path=node.path+action\n",
    "                child.picked_RF=node.picked_RF\n",
    "                child.setPlacedRFs(node.placed_RFs)\n",
    "                seen_states+=1\n",
    "                if getHash(child) not in explored and getHash(child) not in frontierSet:\n",
    "                    unique_seen_states+=1\n",
    "                    if problem.canGo(child):\n",
    "                        if problem.goalTest(child):\n",
    "                            return seen_states, unique_seen_states, child.path\n",
    "                    frontier.put(child)\n",
    "                    frontierSet.add(getHash(child))\n",
    "\n",
    "\n",
    "\n",
    "\n"
   ]
  },
  {
   "cell_type": "code",
   "execution_count": 62,
   "metadata": {},
   "outputs": [
    {
     "ename": "KeyboardInterrupt",
     "evalue": "",
     "output_type": "error",
     "traceback": [
      "\u001b[0;31m---------------------------------------------------------------------------\u001b[0m",
      "\u001b[0;31mKeyboardInterrupt\u001b[0m                         Traceback (most recent call last)",
      "\u001b[0;32m/tmp/ipykernel_331750/3058209339.py\u001b[0m in \u001b[0;36m<module>\u001b[0;34m\u001b[0m\n\u001b[0;32m----> 1\u001b[0;31m \u001b[0mbfs\u001b[0m\u001b[0;34m(\u001b[0m\u001b[0;34m)\u001b[0m\u001b[0;34m\u001b[0m\u001b[0;34m\u001b[0m\u001b[0m\n\u001b[0m",
      "\u001b[0;32m/tmp/ipykernel_331750/3373606060.py\u001b[0m in \u001b[0;36mbfs\u001b[0;34m(problem)\u001b[0m\n\u001b[1;32m     10\u001b[0m         \u001b[0;32mreturn\u001b[0m \u001b[0;36m1\u001b[0m\u001b[0;34m,\u001b[0m\u001b[0;36m1\u001b[0m\u001b[0;34m,\u001b[0m\u001b[0mroot\u001b[0m\u001b[0;34m.\u001b[0m\u001b[0mpath\u001b[0m\u001b[0;34m\u001b[0m\u001b[0;34m\u001b[0m\u001b[0m\n\u001b[1;32m     11\u001b[0m     \u001b[0;32mwhile\u001b[0m \u001b[0mfrontier\u001b[0m\u001b[0;34m:\u001b[0m\u001b[0;34m\u001b[0m\u001b[0;34m\u001b[0m\u001b[0m\n\u001b[0;32m---> 12\u001b[0;31m         \u001b[0mnode\u001b[0m\u001b[0;34m=\u001b[0m\u001b[0mfrontier\u001b[0m\u001b[0;34m.\u001b[0m\u001b[0mget\u001b[0m\u001b[0;34m(\u001b[0m\u001b[0;34m)\u001b[0m\u001b[0;34m\u001b[0m\u001b[0;34m\u001b[0m\u001b[0m\n\u001b[0m\u001b[1;32m     13\u001b[0m         \u001b[0mfrontierSet\u001b[0m\u001b[0;34m.\u001b[0m\u001b[0mremove\u001b[0m\u001b[0;34m(\u001b[0m\u001b[0mgetHash\u001b[0m\u001b[0;34m(\u001b[0m\u001b[0mnode\u001b[0m\u001b[0;34m)\u001b[0m\u001b[0;34m)\u001b[0m\u001b[0;34m\u001b[0m\u001b[0;34m\u001b[0m\u001b[0m\n\u001b[1;32m     14\u001b[0m         \u001b[0mexplored\u001b[0m\u001b[0;34m.\u001b[0m\u001b[0madd\u001b[0m\u001b[0;34m(\u001b[0m\u001b[0mgetHash\u001b[0m\u001b[0;34m(\u001b[0m\u001b[0mnode\u001b[0m\u001b[0;34m)\u001b[0m\u001b[0;34m)\u001b[0m\u001b[0;34m\u001b[0m\u001b[0;34m\u001b[0m\u001b[0m\n",
      "\u001b[0;32m/usr/lib/python3.8/queue.py\u001b[0m in \u001b[0;36mget\u001b[0;34m(self, block, timeout)\u001b[0m\n\u001b[1;32m    162\u001b[0m         in that case).\n\u001b[1;32m    163\u001b[0m         '''\n\u001b[0;32m--> 164\u001b[0;31m         \u001b[0;32mwith\u001b[0m \u001b[0mself\u001b[0m\u001b[0;34m.\u001b[0m\u001b[0mnot_empty\u001b[0m\u001b[0;34m:\u001b[0m\u001b[0;34m\u001b[0m\u001b[0;34m\u001b[0m\u001b[0m\n\u001b[0m\u001b[1;32m    165\u001b[0m             \u001b[0;32mif\u001b[0m \u001b[0;32mnot\u001b[0m \u001b[0mblock\u001b[0m\u001b[0;34m:\u001b[0m\u001b[0;34m\u001b[0m\u001b[0;34m\u001b[0m\u001b[0m\n\u001b[1;32m    166\u001b[0m                 \u001b[0;32mif\u001b[0m \u001b[0;32mnot\u001b[0m \u001b[0mself\u001b[0m\u001b[0;34m.\u001b[0m\u001b[0m_qsize\u001b[0m\u001b[0;34m(\u001b[0m\u001b[0;34m)\u001b[0m\u001b[0;34m:\u001b[0m\u001b[0;34m\u001b[0m\u001b[0;34m\u001b[0m\u001b[0m\n",
      "\u001b[0;32m/usr/lib/python3.8/threading.py\u001b[0m in \u001b[0;36m__enter__\u001b[0;34m(self)\u001b[0m\n\u001b[1;32m    245\u001b[0m \u001b[0;34m\u001b[0m\u001b[0m\n\u001b[1;32m    246\u001b[0m     \u001b[0;32mdef\u001b[0m \u001b[0m__enter__\u001b[0m\u001b[0;34m(\u001b[0m\u001b[0mself\u001b[0m\u001b[0;34m)\u001b[0m\u001b[0;34m:\u001b[0m\u001b[0;34m\u001b[0m\u001b[0;34m\u001b[0m\u001b[0m\n\u001b[0;32m--> 247\u001b[0;31m         \u001b[0;32mreturn\u001b[0m \u001b[0mself\u001b[0m\u001b[0;34m.\u001b[0m\u001b[0m_lock\u001b[0m\u001b[0;34m.\u001b[0m\u001b[0m__enter__\u001b[0m\u001b[0;34m(\u001b[0m\u001b[0;34m)\u001b[0m\u001b[0;34m\u001b[0m\u001b[0;34m\u001b[0m\u001b[0m\n\u001b[0m\u001b[1;32m    248\u001b[0m \u001b[0;34m\u001b[0m\u001b[0m\n\u001b[1;32m    249\u001b[0m     \u001b[0;32mdef\u001b[0m \u001b[0m__exit__\u001b[0m\u001b[0;34m(\u001b[0m\u001b[0mself\u001b[0m\u001b[0;34m,\u001b[0m \u001b[0;34m*\u001b[0m\u001b[0margs\u001b[0m\u001b[0;34m)\u001b[0m\u001b[0;34m:\u001b[0m\u001b[0;34m\u001b[0m\u001b[0;34m\u001b[0m\u001b[0m\n",
      "\u001b[0;31mKeyboardInterrupt\u001b[0m: "
     ]
    }
   ],
   "source": [
    "bfs()"
   ]
  },
  {
   "cell_type": "code",
   "execution_count": 30,
   "metadata": {},
   "outputs": [],
   "source": [
    "dd.path='R'"
   ]
  },
  {
   "cell_type": "code",
   "execution_count": 31,
   "metadata": {},
   "outputs": [],
   "source": [
    "dd.path+='L'"
   ]
  },
  {
   "cell_type": "code",
   "execution_count": 32,
   "metadata": {},
   "outputs": [
    {
     "data": {
      "text/plain": [
       "'RL'"
      ]
     },
     "execution_count": 32,
     "metadata": {},
     "output_type": "execute_result"
    }
   ],
   "source": [
    "dd.path"
   ]
  },
  {
   "cell_type": "code",
   "execution_count": 33,
   "metadata": {},
   "outputs": [
    {
     "data": {
      "text/plain": [
       "2"
      ]
     },
     "execution_count": 33,
     "metadata": {},
     "output_type": "execute_result"
    }
   ],
   "source": [
    "dd.getDist()"
   ]
  },
  {
   "cell_type": "code",
   "execution_count": null,
   "metadata": {},
   "outputs": [],
   "source": []
  }
 ],
 "metadata": {
  "interpreter": {
   "hash": "916dbcbb3f70747c44a77c7bcd40155683ae19c65e1c03b4aa3499c5328201f1"
  },
  "kernelspec": {
   "display_name": "Python 3.8.10 64-bit",
   "language": "python",
   "name": "python3"
  },
  "language_info": {
   "codemirror_mode": {
    "name": "ipython",
    "version": 3
   },
   "file_extension": ".py",
   "mimetype": "text/x-python",
   "name": "python",
   "nbconvert_exporter": "python",
   "pygments_lexer": "ipython3",
   "version": "3.8.10"
  },
  "orig_nbformat": 4
 },
 "nbformat": 4,
 "nbformat_minor": 2
}
