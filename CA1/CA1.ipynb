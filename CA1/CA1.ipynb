{
 "cells": [
  {
   "cell_type": "markdown",
   "metadata": {},
   "source": [
    "![University of Tehran](./img/UT.png)\n",
    "#   <font color='red'><center>AI CA 1<center></font> \n",
    "## <center>Dr. Fadaei<center>\n",
    "### <center>Daniyal Maroufi<center>\n",
    "### <center>810098039<center>"
   ]
  },
  {
   "cell_type": "markdown",
   "metadata": {},
   "source": [
    "# Aim\n",
    "\n",
    "This assignment aims to solve a problem using Informed and Uninformed search algorithms such as BTS, IDS, and A* algorithm. Finally, we will compare the time complexity of these algorithms."
   ]
  },
  {
   "cell_type": "markdown",
   "metadata": {},
   "source": [
    "# Problem Definition\n",
    "\n",
    "## Intial State\n",
    "\n",
    "The initial state is the state that our agent will start from. In this case, Gandalf starts from his state at a given position in the input.\n",
    "\n",
    "## Action\n",
    "\n",
    "The agent can do an action to reach another state. In this case, Gandolf can have six actions: going up, right, down, and left and picking a friend, and placing them in another position.\n",
    "\n",
    "## Transition Model\n",
    "\n",
    "UP action: If it is permitted, the agent will move from state (x,y) to state (x-1,y)\n",
    "\n",
    "DOWN action: If it is permitted, the agent will move from state (x,y) to state (x+1,y)\n",
    "\n",
    "RIGHT action: If it is permitted, the agent will move from state (x,y) to state (x,y+1)\n",
    "\n",
    "LEFT action: If it is permitted, the agent will move from state (x,y) to state (a,y-1)\n",
    "\n",
    "PICK action: the agent will pick the friend\n",
    "\n",
    "PLACE action: the agent will place the friend\n",
    "\n",
    "## Goal State\n",
    "\n",
    "The goal state is that the agent has successfully done its tasks. In this case, Gandalf must place all the friends in their goal positions and reach the final point (Gandor)."
   ]
  },
  {
   "cell_type": "markdown",
   "metadata": {},
   "source": [
    "# Algorithms\n",
    "\n",
    "## BFS\n",
    "\n",
    "The Breadth-First Search (BFS) is an algorithm for traversing or searching tree or graph data structures. It explores all the nodes at the present depth before moving to the next depth level. BFS is complete, and it will give us an optimal solution with time complexity of $O(b^d)$.\n",
    "\n",
    "## IDS\n",
    "\n",
    "The IDS or Iterative Deepening Search is an algorithm based on DFS which controls the depth before expanding another node. IDS leads to an optimal solution. Unlike DFS, its time complexity is $O(bm)$.\n",
    "\n",
    "## A*\n",
    "\n",
    "A* algorithm searches for the shortest path between the initial and the final state. It is used in various applications, such as maps.\n",
    "In maps, the A* algorithm calculates the shortest distance between the source (initial state) and the destination (final state).\n",
    "$g(n)$ is the cost of reaching the current state, and $h(n)$ is the heuristic function that estimates the cost of getting to the final state from the current node $n$.\n",
    "A* search is complete, and its time complexity is $O(b^d)$."
   ]
  },
  {
   "cell_type": "markdown",
   "metadata": {},
   "source": [
    "# Classes\n",
    "\n",
    "## Node"
   ]
  },
  {
   "cell_type": "code",
   "execution_count": 28,
   "metadata": {},
   "outputs": [],
   "source": [
    "class Node(object):\n",
    "    def __init__(self,current_position):\n",
    "        self.state=tuple(current_position)\n",
    "        self.parrent=None\n",
    "        self.path=''\n",
    "        self.picked_RF=None\n",
    "        self.placed_RFs=set()\n",
    "    \n",
    "    def getDist(self):\n",
    "        return len(self.path)\n",
    "    "
   ]
  },
  {
   "cell_type": "markdown",
   "metadata": {},
   "source": [
    "## Problem"
   ]
  },
  {
   "cell_type": "code",
   "execution_count": 10,
   "metadata": {},
   "outputs": [],
   "source": [
    "class Problem():\n",
    "    def __init__(self, test_name):\n",
    "        with open('./tests/'+test_name+'.txt') as f:\n",
    "            self.n,self.m = tuple(map(int,f.readline().split()))\n",
    "            self.gandalf_initial_pos = tuple(map(int,f.readline().split()))\n",
    "            self.gandor = tuple(map(int,f.readline().split()))\n",
    "            self.k,self.l = tuple(map(int,f.readline().split()))\n",
    "            self.orks=[]\n",
    "            self.RFs_initial_pos=[]\n",
    "            self.RFs_goal_pos=[]\n",
    "            for _ in range(self.k):\n",
    "                x,y,c = tuple(map(int,f.readline().split()))\n",
    "                self.orks.append((x,y,c))\n",
    "            for _ in range(self.l):\n",
    "                x,y = tuple(map(int,f.readline().split()))\n",
    "                self.RFs_initial_pos.append((x,y))\n",
    "            for _ in range(self.l):\n",
    "                x,y = tuple(map(int,f.readline().split()))\n",
    "                self.RFs_goal_pos.append((x,y))\n",
    "    \n",
    "    def getInitialState(self):\n",
    "        return self.gandalf_initial_pos\n",
    "    \n",
    "    def getRFOrig(self,rfid):\n",
    "        return self.RFs_initial_pos[rfid];\n",
    "    \n",
    "    def getRFDest(self,rfid):\n",
    "        return self.RFs_goal_pos(rfid);\n",
    "    \n",
    "    def goalTest(self, node=Node()):\n",
    "        if len(node.placed_RFs)==self.l and node.state==self.gandor:\n",
    "            return True\n",
    "        return False\n",
    "\n",
    "\n",
    "    def canGo(self,node):\n",
    "        pass\n",
    "    \n",
    "    def actions(self):\n",
    "        return {'L':(-1,0),'R':(1,0),'U':(0,-1),'D':(0,1),'pick':'pick','place':'place'}\n",
    "\n"
   ]
  },
  {
   "cell_type": "code",
   "execution_count": 8,
   "metadata": {},
   "outputs": [],
   "source": [
    "test0=Problem('test_00')"
   ]
  },
  {
   "cell_type": "code",
   "execution_count": 9,
   "metadata": {},
   "outputs": [
    {
     "data": {
      "text/plain": [
       "[(2, 30), (2, 31), (2, 32), (2, 33), (2, 34)]"
      ]
     },
     "execution_count": 9,
     "metadata": {},
     "output_type": "execute_result"
    }
   ],
   "source": [
    "test0.friends_goal_pos"
   ]
  },
  {
   "cell_type": "code",
   "execution_count": 12,
   "metadata": {},
   "outputs": [],
   "source": [
    "def bfs(problem):\n",
    "    pass"
   ]
  },
  {
   "cell_type": "code",
   "execution_count": 29,
   "metadata": {},
   "outputs": [],
   "source": [
    "dd=Node((1,1))"
   ]
  },
  {
   "cell_type": "code",
   "execution_count": 30,
   "metadata": {},
   "outputs": [],
   "source": [
    "dd.path='R'"
   ]
  },
  {
   "cell_type": "code",
   "execution_count": 31,
   "metadata": {},
   "outputs": [],
   "source": [
    "dd.path+='L'"
   ]
  },
  {
   "cell_type": "code",
   "execution_count": 32,
   "metadata": {},
   "outputs": [
    {
     "data": {
      "text/plain": [
       "'RL'"
      ]
     },
     "execution_count": 32,
     "metadata": {},
     "output_type": "execute_result"
    }
   ],
   "source": [
    "dd.path"
   ]
  },
  {
   "cell_type": "code",
   "execution_count": 33,
   "metadata": {},
   "outputs": [
    {
     "data": {
      "text/plain": [
       "2"
      ]
     },
     "execution_count": 33,
     "metadata": {},
     "output_type": "execute_result"
    }
   ],
   "source": [
    "dd.getDist()"
   ]
  },
  {
   "cell_type": "code",
   "execution_count": null,
   "metadata": {},
   "outputs": [],
   "source": []
  }
 ],
 "metadata": {
  "interpreter": {
   "hash": "916dbcbb3f70747c44a77c7bcd40155683ae19c65e1c03b4aa3499c5328201f1"
  },
  "kernelspec": {
   "display_name": "Python 3.8.10 64-bit",
   "language": "python",
   "name": "python3"
  },
  "language_info": {
   "codemirror_mode": {
    "name": "ipython",
    "version": 3
   },
   "file_extension": ".py",
   "mimetype": "text/x-python",
   "name": "python",
   "nbconvert_exporter": "python",
   "pygments_lexer": "ipython3",
   "version": "3.8.10"
  },
  "orig_nbformat": 4
 },
 "nbformat": 4,
 "nbformat_minor": 2
}
