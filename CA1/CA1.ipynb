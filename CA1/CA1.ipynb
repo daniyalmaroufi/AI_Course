{
 "cells": [
  {
   "cell_type": "markdown",
   "metadata": {},
   "source": [
    "![University of Tehran](./img/UT.png)\n",
    "#   <font color='red'><center>AI CA 1<center></font> \n",
    "## <center>Dr. Fadaei<center>\n",
    "### <center>Daniyal Maroufi<center>\n",
    "### <center>810098039<center>"
   ]
  },
  {
   "cell_type": "markdown",
   "metadata": {},
   "source": [
    "# Aim\n",
    "\n",
    "This assignment aims to solve a problem using Informed and Uninformed search algorithms such as BTS, IDS, and A* algorithm. Finally, we will compare the time complexity of these algorithms."
   ]
  },
  {
   "cell_type": "markdown",
   "metadata": {},
   "source": [
    "# Problem Definition\n",
    "\n",
    "## Intial State\n",
    "\n",
    "The initial state is the state that our agent will start from. In this case, Gandalf starts from his state at a given position in the input.\n",
    "\n",
    "## Action\n",
    "\n",
    "The agent can do an action to reach another state. In this case, Gandolf can have six actions: going up, right, down, and left and picking a friend, and placing them in another position.\n",
    "\n",
    "## Transition Model\n",
    "\n",
    "UP action: If it is permitted, the agent will move from state (x,y) to state (x-1,y)\n",
    "\n",
    "DOWN action: If it is permitted, the agent will move from state (x,y) to state (x+1,y)\n",
    "\n",
    "RIGHT action: If it is permitted, the agent will move from state (x,y) to state (x,y+1)\n",
    "\n",
    "LEFT action: If it is permitted, the agent will move from state (x,y) to state (a,y-1)\n",
    "\n",
    "PICK action: the agent will pick the friend\n",
    "\n",
    "PLACE action: the agent will place the friend\n",
    "\n",
    "## Goal State\n",
    "\n",
    "The goal state is that the agent has successfully done its tasks. In this case, Gandalf must place all the friends in their goal positions and reach the final point (Gandor)."
   ]
  },
  {
   "cell_type": "markdown",
   "metadata": {},
   "source": [
    "# Algorithms\n",
    "\n",
    "## BFS\n",
    "\n",
    "The Breadth-First Search (BFS) is an algorithm for traversing or searching tree or graph data structures. It explores all the nodes at the present depth before moving to the next depth level. BFS is complete, and it will give us an optimal solution with time complexity of $O(b^d)$.\n",
    "\n",
    "## IDS\n",
    "\n",
    "The IDS or Iterative Deepening Search is an algorithm based on DFS which controls the depth before expanding another node. IDS leads to an optimal solution. Unlike DFS, its time complexity is $O(bm)$.\n",
    "\n",
    "## A*\n",
    "\n",
    "A* algorithm searches for the shortest path between the initial and the final state. It is used in various applications, such as maps.\n",
    "In maps, the A* algorithm calculates the shortest distance between the source (initial state) and the destination (final state).\n",
    "$g(n)$ is the cost of reaching the current state, and $h(n)$ is the heuristic function that estimates the cost of getting to the final state from the current node $n$.\n",
    "A* search is complete, and its time complexity is $O(b^d)$."
   ]
  },
  {
   "cell_type": "markdown",
   "metadata": {},
   "source": [
    "# Classes"
   ]
  },
  {
   "cell_type": "code",
   "execution_count": 420,
   "metadata": {},
   "outputs": [],
   "source": [
    "import queue\n",
    "from time import time\n",
    "import copy"
   ]
  },
  {
   "cell_type": "markdown",
   "metadata": {},
   "source": [
    "## Node"
   ]
  },
  {
   "cell_type": "code",
   "execution_count": 421,
   "metadata": {},
   "outputs": [],
   "source": [
    "class Node(object):\n",
    "    def __init__(self,position):\n",
    "        self.state=tuple(position)\n",
    "        self.parent=None\n",
    "        self.path=''\n",
    "        self.picked_RF=None\n",
    "        self.placed_RFs=set()\n",
    "        self.inOrk=None\n",
    "        self.presence=0\n",
    "        self.depth=0\n",
    "\n",
    "    def __eq__(self, other):\n",
    "        if self.state==other.state and self.path==other.path and self.picked_RF==other.picked_RF and self.placed_RFs==other.placed_RFs:\n",
    "            return True\n",
    "        return False\n",
    "\n",
    "    def __hash__(self):\n",
    "        return hash((self.state,str(self.placed_RFs),self.picked_RF))\n",
    "    \n"
   ]
  },
  {
   "cell_type": "markdown",
   "metadata": {},
   "source": [
    "## Problem"
   ]
  },
  {
   "cell_type": "markdown",
   "metadata": {},
   "source": [
    "The code to read the problem from the test file"
   ]
  },
  {
   "cell_type": "code",
   "execution_count": 465,
   "metadata": {},
   "outputs": [],
   "source": [
    "test_name='test_04'\n",
    "orks=[]\n",
    "RFs_initial_pos=[]\n",
    "RFs_goal_pos=[]\n",
    "with open('./tests/'+test_name+'.txt') as f:\n",
    "    n,m = tuple(map(int,f.readline().split()))\n",
    "    gandalf_initial_pos = tuple(map(int,f.readline().split()))\n",
    "    gandor = tuple(map(int,f.readline().split()))\n",
    "    k,l = tuple(map(int,f.readline().split()))\n",
    "    for _ in range(k):\n",
    "        x,y,c = tuple(map(int,f.readline().split()))\n",
    "        orks.append((x,y,c))\n",
    "    for _ in range(l):\n",
    "        x,y = tuple(map(int,f.readline().split()))\n",
    "        RFs_initial_pos.append((x,y))\n",
    "    for _ in range(l):\n",
    "        x,y = tuple(map(int,f.readline().split()))\n",
    "        RFs_goal_pos.append((x,y))\n",
    "allRFs=dict(zip(RFs_initial_pos,RFs_goal_pos))\n",
    "\n",
    "orks_map=[[0]*m for _ in range(n)]\n",
    "for ork,(x,y,c) in enumerate(orks):\n",
    "    for i in range(-c,c+1):\n",
    "        for j in range(-c,c+1):\n",
    "            if abs(i)+abs(j)<=c and x+i>=0 and x+i<n and y+j>=0 and y+j<m:\n",
    "                    orks_map[x+i][y+j]=ork+1"
   ]
  },
  {
   "cell_type": "markdown",
   "metadata": {},
   "source": [
    "The Helper functions to check the reaching the goal and check that the transion is valid or not"
   ]
  },
  {
   "cell_type": "code",
   "execution_count": 466,
   "metadata": {},
   "outputs": [],
   "source": [
    "def goalTest(pos,pRFs):\n",
    "    # print('goaltestcalled')\n",
    "    if pRFs==l and pos==gandor:\n",
    "        return True\n",
    "    return False\n",
    "\n",
    "def canGo(pos,ork,presence):\n",
    "    x,y=pos\n",
    "    if x<0 or x>=n or y<0 or y>=m:\n",
    "        return False\n",
    "    if k>0:\n",
    "        if orks_map[x][y]==ork:\n",
    "            if presence+1>orks[ork-1][2]:\n",
    "                return False\n",
    "    return True\n"
   ]
  },
  {
   "cell_type": "markdown",
   "metadata": {},
   "source": [
    "The initial node (root) is where the gandalf starts the game"
   ]
  },
  {
   "cell_type": "code",
   "execution_count": 467,
   "metadata": {},
   "outputs": [],
   "source": [
    "root=Node(gandalf_initial_pos)\n",
    "actions={'pick':'pick','place':'place','R':(0,1),'D':(1,0),'U':(-1,0),'L':(0,-1)}"
   ]
  },
  {
   "cell_type": "markdown",
   "metadata": {},
   "source": [
    "# BFS"
   ]
  },
  {
   "cell_type": "code",
   "execution_count": 468,
   "metadata": {},
   "outputs": [],
   "source": [
    "def bfs():\n",
    "    frontier=queue.Queue()\n",
    "    explored=set()\n",
    "    seen_states = 0\n",
    "    frontier.put(root)\n",
    "    explored.add(hash(root))\n",
    "    while not frontier.empty():\n",
    "        node=frontier.get()\n",
    "        for action,transition in actions.items():\n",
    "            if action == 'pick':\n",
    "                if node.picked_RF is None and node.state in RFs_initial_pos and allRFs[node.state] not in node.placed_RFs:\n",
    "                    child_with_RF=Node(node.state)\n",
    "                    child_with_RF.parent=node\n",
    "                    child_with_RF.path=copy.copy(node.path)\n",
    "                    child_with_RF.picked_RF=allRFs[node.state]\n",
    "                    child_with_RF.placed_RFs=copy.copy(node.placed_RFs)\n",
    "                    child_with_RF.inOrk=node.inOrk\n",
    "                    child_with_RF.presence=node.presence\n",
    "                    seen_states+=1\n",
    "                    child_hash=hash(child_with_RF)\n",
    "                    frontier.put(child_with_RF)\n",
    "                    explored.add(child_hash)\n",
    "                    continue\n",
    "            elif action == 'place':\n",
    "                if node.state == node.picked_RF:\n",
    "                    child=Node(node.state)\n",
    "                    child.parent=node\n",
    "                    child.path=copy.copy(node.path)\n",
    "                    child.picked_RF=None\n",
    "                    child.placed_RFs=copy.copy(node.placed_RFs)\n",
    "                    child.placed_RFs.add(node.state)\n",
    "                    child.inOrk=node.inOrk\n",
    "                    child.presence=node.presence\n",
    "                    seen_states+=1\n",
    "                    child_hash=hash(child)\n",
    "                    frontier.put(child)\n",
    "                    explored.add(hash(child))\n",
    "                    continue\n",
    "            else:\n",
    "                if canGo((node.state[0]+transition[0],node.state[1]+transition[1]),node.inOrk,node.presence):\n",
    "                    child=Node((node.state[0]+transition[0],node.state[1]+transition[1]))\n",
    "                    child.parent=node\n",
    "                    child.path=copy.copy(node.path)\n",
    "                    child.picked_RF=node.picked_RF\n",
    "                    child.placed_RFs=copy.copy(node.placed_RFs)\n",
    "                    child.inOrk=node.inOrk\n",
    "                    child.presence=node.presence\n",
    "                    map_ork=orks_map[child.state[0]][child.state[1]]\n",
    "                    alan=map_ork\n",
    "                    pedar=child.inOrk\n",
    "                    if alan==pedar and alan>0:\n",
    "                        child.presence+=1\n",
    "                    elif not alan==pedar and alan>0 and pedar is None:\n",
    "                        child.presence=1\n",
    "                        child.inOrk=map_ork\n",
    "                    elif pedar is None and alan>0:\n",
    "                        child.presence=1\n",
    "                        child.inOrk=map_ork\n",
    "                    else:\n",
    "                        child.presence=0\n",
    "                        child.inOrk=None\n",
    "                    child.path+=action\n",
    "                    child_hash=hash(child)\n",
    "                    if child_hash not in explored:\n",
    "                        seen_states+=1\n",
    "                        if goalTest(child.state,len(child.placed_RFs)):\n",
    "                            return seen_states, child.path\n",
    "                        frontier.put(child)\n",
    "                        explored.add(child_hash)\n",
    "    return 0,''\n"
   ]
  },
  {
   "cell_type": "markdown",
   "metadata": {},
   "source": [
    "## Test BFS"
   ]
  },
  {
   "cell_type": "markdown",
   "metadata": {},
   "source": [
    "Here, we calculate the avrage execution time of BFS method for three times on four different testcases."
   ]
  },
  {
   "cell_type": "code",
   "execution_count": 479,
   "metadata": {},
   "outputs": [
    {
     "name": "stdout",
     "output_type": "stream",
     "text": [
      "Results for test_00\n",
      "Seen Sates: 10741\n",
      "Path: RRRRRRRRRRRRRRRRRRRRRRRRRRRRRRDDRUDRUDRUDRUDRRRRRR\n",
      "Path Length: 50\n",
      "Time: 734.3261241912842\n",
      "Seen Sates: 10741\n",
      "Path: RRRRRRRRRRRRRRRRRRRRRRRRRRRRRRDDRUDRUDRUDRUDRRRRRR\n",
      "Path Length: 50\n",
      "Time: 663.8448238372803\n",
      "Seen Sates: 10741\n",
      "Path: RRRRRRRRRRRRRRRRRRRRRRRRRRRRRRDDRUDRUDRUDRUDRRRRRR\n",
      "Path Length: 50\n",
      "Time: 634.3379020690918\n",
      "\n",
      "Mean Time: 677.5029500325521\n",
      "------------------\n",
      "Results for test_01\n",
      "Seen Sates: 1476\n",
      "Path: RRRRDDDDDDDDLLLRRRUUURURUDLDLDDDLRRRRRUUUUDDDDLLLRRR\n",
      "Path Length: 52\n",
      "Time: 76.89166069030762\n",
      "Seen Sates: 1476\n",
      "Path: RRRRDDDDDDDDLLLRRRUUURURUDLDLDDDLRRRRRUUUUDDDDLLLRRR\n",
      "Path Length: 52\n",
      "Time: 74.17535781860352\n",
      "Seen Sates: 1476\n",
      "Path: RRRRDDDDDDDDLLLRRRUUURURUDLDLDDDLRRRRRUUUUDDDDLLLRRR\n",
      "Path Length: 52\n",
      "Time: 75.51836967468262\n",
      "\n",
      "Mean Time: 75.52846272786458\n",
      "------------------\n",
      "Results for test_02\n",
      "Seen Sates: 413\n",
      "Path: RRRRRRRDDDDLLLLDLLLRDDRUURURRRDRDD\n",
      "Path Length: 34\n",
      "Time: 24.753808975219727\n",
      "Seen Sates: 413\n",
      "Path: RRRRRRRDDDDLLLLDLLLRDDRUURURRRDRDD\n",
      "Path Length: 34\n",
      "Time: 26.381969451904297\n",
      "Seen Sates: 413\n",
      "Path: RRRRRRRDDDDLLLLDLLLRDDRUURURRRDRDD\n",
      "Path Length: 34\n",
      "Time: 30.338764190673828\n",
      "\n",
      "Mean Time: 27.158180872599285\n",
      "------------------\n",
      "Results for test_03\n",
      "Seen Sates: 4504\n",
      "Path: RRDDDDDDDDLLRDRRRRRRRRUUUUUUUUULLDDDDDLLDDDDLLLLRRRRUUUUURRRRDDDDD\n",
      "Path Length: 66\n",
      "Time: 250.14686584472656\n",
      "Seen Sates: 4504\n",
      "Path: RRDDDDDDDDLLRDRRRRRRRRUUUUUUUUULLDDDDDLLDDDDLLLLRRRRUUUUURRRRDDDDD\n",
      "Path Length: 66\n",
      "Time: 230.45635223388672\n",
      "Seen Sates: 4504\n",
      "Path: RRDDDDDDDDLLRDRRRRRRRRUUUUUUUUULLDDDDDLLDDDDLLLLRRRRUUUUURRRRDDDDD\n",
      "Path Length: 66\n",
      "Time: 247.38192558288574\n",
      "\n",
      "Mean Time: 242.661714553833\n",
      "------------------\n"
     ]
    }
   ],
   "source": [
    "for test in range(4):\n",
    "    times=[]\n",
    "    test_name='test_0'+str(test)\n",
    "    print('Results for',test_name)\n",
    "    for _ in range(3):\n",
    "\n",
    "        orks=[]\n",
    "        RFs_initial_pos=[]\n",
    "        RFs_goal_pos=[]\n",
    "        with open('./tests/'+test_name+'.txt') as f:\n",
    "            n,m = tuple(map(int,f.readline().split()))\n",
    "            gandalf_initial_pos = tuple(map(int,f.readline().split()))\n",
    "            gandor = tuple(map(int,f.readline().split()))\n",
    "            k,l = tuple(map(int,f.readline().split()))\n",
    "            for _ in range(k):\n",
    "                x,y,c = tuple(map(int,f.readline().split()))\n",
    "                orks.append((x,y,c))\n",
    "            for _ in range(l):\n",
    "                x,y = tuple(map(int,f.readline().split()))\n",
    "                RFs_initial_pos.append((x,y))\n",
    "            for _ in range(l):\n",
    "                x,y = tuple(map(int,f.readline().split()))\n",
    "                RFs_goal_pos.append((x,y))\n",
    "        allRFs=dict(zip(RFs_initial_pos,RFs_goal_pos))\n",
    "\n",
    "        orks_map=[[0]*m for _ in range(n)]\n",
    "        for ork,(x,y,c) in enumerate(orks):\n",
    "            for i in range(-c,c+1):\n",
    "                for j in range(-c,c+1):\n",
    "                    if abs(i)+abs(j)<=c and x+i>=0 and x+i<n and y+j>=0 and y+j<m:\n",
    "                            orks_map[x+i][y+j]=ork+1\n",
    "\n",
    "        tic=time()\n",
    "        a,b=bfs()\n",
    "        toc=time()\n",
    "        print('Seen Sates:',a)\n",
    "        print('Path:',b)\n",
    "        print('Path Length:',len(b))\n",
    "        print('Time:',(toc-tic)*1000)\n",
    "        times.append((toc-tic)*1000)\n",
    "\n",
    "    print('\\nMean Time:', (times[0]+times[1]+times[2])/3)\n",
    "    print('------------------')"
   ]
  },
  {
   "cell_type": "markdown",
   "metadata": {},
   "source": [
    "# IDS"
   ]
  },
  {
   "cell_type": "code",
   "execution_count": 473,
   "metadata": {},
   "outputs": [],
   "source": [
    "def ids():\n",
    "    seen_states=0\n",
    "    search_depth=0\n",
    "    # if goalTest(root.state,len(root.placed_RFs)):\n",
    "    #     return 1,root.path\n",
    "\n",
    "    while True:\n",
    "        frontier=[]\n",
    "        explored=set()\n",
    "        frontier.append(root)\n",
    "        explored.add(hash(root))\n",
    "        search_depth+=1\n",
    "\n",
    "        while frontier:\n",
    "            node=frontier.pop()\n",
    "            \n",
    "            if node.depth+1> search_depth:\n",
    "                continue\n",
    "\n",
    "            for action,transition in actions.items():\n",
    "                if action == 'pick':\n",
    "                    if node.picked_RF is None and node.state in RFs_initial_pos and allRFs[node.state] not in node.placed_RFs:\n",
    "                        child_with_RF=Node(node.state)\n",
    "                        child_with_RF.parent=node\n",
    "                        child_with_RF.path=copy.deepcopy(node.path)\n",
    "                        child_with_RF.picked_RF=allRFs[node.state]\n",
    "                        child_with_RF.placed_RFs=copy.copy(node.placed_RFs)\n",
    "                        child_with_RF.inOrk=node.inOrk\n",
    "                        child_with_RF.presence=node.presence\n",
    "                        child_with_RF.depth=node.depth+1\n",
    "\n",
    "                        seen_states+=1\n",
    "                        child_hash=hash(child_with_RF)\n",
    "                        frontier.append(child_with_RF)\n",
    "                        explored.add(child_hash)\n",
    "\n",
    "                        continue\n",
    "                elif action == 'place':\n",
    "                    if node.state == node.picked_RF:\n",
    "                        child=Node(node.state)\n",
    "                        child.parent=node\n",
    "                        child.path=copy.deepcopy(node.path)\n",
    "                        child.picked_RF=None\n",
    "                        child.placed_RFs=copy.copy(node.placed_RFs)\n",
    "                        child.placed_RFs.add(node.state)\n",
    "                        child.inOrk=node.inOrk\n",
    "                        child.presence=node.presence\n",
    "                        child.depth=node.depth+1\n",
    "\n",
    "\n",
    "                        seen_states+=1\n",
    "                        child_hash=hash(child)\n",
    "                        frontier.append(child)\n",
    "                        explored.add(hash(child))\n",
    "\n",
    "                        continue\n",
    "\n",
    "                else:\n",
    "                    if canGo((node.state[0]+transition[0],node.state[1]+transition[1]),node.inOrk,node.presence):\n",
    "                        child=Node((node.state[0]+transition[0],node.state[1]+transition[1]))\n",
    "                        child.parent=node\n",
    "                        child.path=copy.copy(node.path)\n",
    "                        child.picked_RF=node.picked_RF\n",
    "                        child.placed_RFs=copy.copy(node.placed_RFs)\n",
    "                        child.inOrk=node.inOrk\n",
    "                        child.presence=node.presence\n",
    "                        child.depth=node.depth+1\n",
    "\n",
    "\n",
    "                        map_ork=orks_map[child.state[0]][child.state[1]]\n",
    "                        if map_ork==child.inOrk:\n",
    "                            child.presence+=1\n",
    "                        else:\n",
    "                            child.presence=0\n",
    "                        \n",
    "                        if map_ork>0:\n",
    "                            child.presence+=1\n",
    "                            child.inOrk=map_ork\n",
    "\n",
    "                        child.path+=action\n",
    "                        child_hash=hash(child)\n",
    "                        if child_hash not in explored:\n",
    "                            seen_states+=1\n",
    "                            if goalTest(child.state,len(child.placed_RFs)):\n",
    "                                return seen_states, child.path\n",
    "                            frontier.append(child)\n",
    "                            explored.add(child_hash)\n",
    "                            # print('added to front',child.path)\n",
    "    return 0,''\n",
    "\n",
    "\n",
    "\n"
   ]
  },
  {
   "cell_type": "code",
   "execution_count": 474,
   "metadata": {},
   "outputs": [
    {
     "name": "stdout",
     "output_type": "stream",
     "text": [
      "6009 RRRRRRRDDDDLLLLDLLLRDDRUURURRRDRDD 34\n",
      "time 243.67427825927734\n"
     ]
    }
   ],
   "source": [
    "tic=time()\n",
    "a,b=ids()\n",
    "toc=time()\n",
    "print(a,b,len(b))\n",
    "print('time',(toc-tic)*1000)"
   ]
  },
  {
   "cell_type": "code",
   "execution_count": 380,
   "metadata": {},
   "outputs": [
    {
     "name": "stdout",
     "output_type": "stream",
     "text": [
      "bb: True\n"
     ]
    }
   ],
   "source": [
    "aa=Node((0,0))\n",
    "a=Node((1,0))\n",
    "a.parent=aa\n",
    "b=Node((2,0))\n",
    "b.parent=a\n",
    "c=Node((3,0))\n",
    "c.parent=b\n",
    "d=Node((4,0))\n",
    "d.parent=c\n",
    "\n",
    "print('bb:',canGo(c.state,1,1))"
   ]
  },
  {
   "cell_type": "code",
   "execution_count": null,
   "metadata": {},
   "outputs": [],
   "source": []
  }
 ],
 "metadata": {
  "interpreter": {
   "hash": "916dbcbb3f70747c44a77c7bcd40155683ae19c65e1c03b4aa3499c5328201f1"
  },
  "kernelspec": {
   "display_name": "Python 3.8.10 64-bit",
   "language": "python",
   "name": "python3"
  },
  "language_info": {
   "codemirror_mode": {
    "name": "ipython",
    "version": 3
   },
   "file_extension": ".py",
   "mimetype": "text/x-python",
   "name": "python",
   "nbconvert_exporter": "python",
   "pygments_lexer": "ipython3",
   "version": "3.8.10"
  },
  "orig_nbformat": 4
 },
 "nbformat": 4,
 "nbformat_minor": 2
}
