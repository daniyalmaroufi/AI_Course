{
 "cells": [
  {
   "cell_type": "markdown",
   "metadata": {},
   "source": [
    "![University of Tehran](./img/UT.png)\n",
    "#   <font color='red'><center>AI CA 2 - GA<center></font> \n",
    "## <center>Dr. Fadaei<center>\n",
    "### <center>Daniyal Maroufi<center>\n",
    "### <center>810098039<center>"
   ]
  },
  {
   "cell_type": "markdown",
   "metadata": {},
   "source": [
    "## Aim\n",
    "\n",
    "This assignment aims to use the Genetic Algorithm (GA) to find a decoded text's encryption key (14 characters). We prepared a global text to generate the dictionary, and we will use it to decipher the text."
   ]
  },
  {
   "cell_type": "markdown",
   "metadata": {},
   "source": [
    "# Problem Description\n",
    "\n",
    "In this assignment, we are trying to decode an encoded text without knowing the encryption key. We should find the encryption key using the genetic algorithm to decipher the text. \n",
    "First, we read a long global text and generate a dictionary of the words, and we are assured that all of the words in the original text(that we want to decode) are in this dictionary. Then, we guess a random encryption key and decrypt the text. If all the words are present in the extracted dictionary, we claim that the supposed key is correct and the target text is decoded successfully."
   ]
  },
  {
   "cell_type": "markdown",
   "metadata": {},
   "source": [
    "# Algorithm Description\n",
    "\n",
    "First, we generate 300 possible answers (chromosomes) as the initial population or the first generation. Then, we use a fitness function to rank the chromosomes. The fitness function presents how good each chromosome (solution) is. By comparing all chromosomes, we can find the best chromosomes of the generations. Then we will create a new generation based on these selected chromosomes using crossover and mutation processes. By repeating this process, we will finally find the solution that satisfies the expectations of the solution.\n",
    "\n"
   ]
  },
  {
   "cell_type": "markdown",
   "metadata": {},
   "source": [
    "# Algorithm Implementation"
   ]
  },
  {
   "cell_type": "markdown",
   "metadata": {},
   "source": [
    "## Part 0 - Generating the Dictionary\n",
    "\n",
    "In this part, we perform the text data cleaning process, which contains contraction replacement, converting the words to lower case, and removing the stopwords and all punctuation. For eliminating the stopwords, we use the nltk python library.\n"
   ]
  },
  {
   "cell_type": "markdown",
   "metadata": {},
   "source": [
    "## Part 1 - Definition of Genes and Chromosome\n",
    "\n",
    "Each chromosome represents a possible solution to the problem in the Genetic Algorithm. Hence, we define the chromosome as the encryption key consisting of 14 genes (characters). Then we use the chromosomes to evolve through the algorithm process, and finally, we can find the correct key.\n"
   ]
  },
  {
   "cell_type": "markdown",
   "metadata": {},
   "source": [
    "## Part 2 - Generating Initial Population\n",
    "\n",
    "We generate 300 random chromosomes as the initial population.\n"
   ]
  },
  {
   "cell_type": "markdown",
   "metadata": {},
   "source": [
    "## Part 3 - Ranking Population\n",
    "\n",
    "To rank the population, we decode the encoded text with each chromosome and count the number of words of the decoded text that exist in the dictionary. If all the decoded words exist in the dictionary, we can conclude that the encryption key is found. \n"
   ]
  },
  {
   "cell_type": "markdown",
   "metadata": {},
   "source": [
    "## Part 4 - Generate a New Population\n",
    "\n",
    "For evolution, we need to generate new chromosomes using the parents. We use the crossover method to create a new chromosome by randomly selecting a separator to combine the two parents. For mutation, we use the swap method, in which we swap a random gene with another gene in a single chromosome.\n",
    "\n",
    "To form a new generation, we directly pass `elitism*population_size` ranked chromosomes to the new generation. For the rest of the chromosomes, we randomly apply the crossover operation with a probability of `pc` and the mutation operation with a probability of `pm`.\n"
   ]
  },
  {
   "cell_type": "markdown",
   "metadata": {},
   "source": [
    "## Part 5 - Decode\n",
    "\n",
    "Now we can search for the results using the defined functions above.\n"
   ]
  },
  {
   "cell_type": "code",
   "execution_count": 3,
   "metadata": {},
   "outputs": [
    {
     "name": "stderr",
     "output_type": "stream",
     "text": [
      "[nltk_data] Downloading package stopwords to /home/dani/nltk_data...\n",
      "[nltk_data]   Package stopwords is already up-to-date!\n"
     ]
    }
   ],
   "source": [
    "import nltk\n",
    "import time\n",
    "import string\n",
    "import random\n",
    "nltk.download('stopwords')\n",
    "from nltk.corpus import stopwords\n"
   ]
  },
  {
   "cell_type": "code",
   "execution_count": 8,
   "metadata": {},
   "outputs": [],
   "source": [
    "class Decoder():\n",
    "\n",
    "    chromosomes=[]\n",
    "    dictionary=[]\n",
    "\n",
    "    def __init__(self, globalText, encodedText, keyLength=14, InitialPopulationSize=50, pc=0.8, pm=0.2, elitism=0.16):\n",
    "        self.global_text=globalText\n",
    "        self.encoded_text=' '.join(self.cleanText(encodedText))\n",
    "        self.generateDictionary()\n",
    "        self.key_length=keyLength\n",
    "        self.population_size=InitialPopulationSize\n",
    "        self.generateInitialPopulation()\n",
    "        self.elitism = elitism # The number of chromosomes pass to the next generation\n",
    "        self.pc = pc # Crossover Probability\n",
    "        self.pm = pm  # Mutation Probability\n",
    "\n",
    "    def generateDictionary(self):\n",
    "        self.dictionary=self.cleanText(self.global_text)\n",
    "\n",
    "    def cleanText(self,text):\n",
    "        Apos_dict={\"'s\":\" is\",\"n't\":\" not\",\"'m\":\" am\",\"'ll\":\" will\",\n",
    "        \"'d\":\" would\",\"'ve\":\" have\",\"'re\":\" are\"}\n",
    "\n",
    "        # replace contractions\n",
    "        for key,value in Apos_dict.items():\n",
    "            if key in text:\n",
    "                text=text.replace(key,value)\n",
    "\n",
    "        text=text.lower()\n",
    "\n",
    "        # remove punctuations\n",
    "        for letter in text:\n",
    "            if letter not in string.ascii_lowercase:\n",
    "                text=text.replace(letter,' ')\n",
    "        for punctuation in string.punctuation:\n",
    "            text=text.replace(punctuation,' ')\n",
    "\n",
    "        text=text.split()\n",
    "\n",
    "        dictionary=[]\n",
    "\n",
    "        for word in text:\n",
    "            if word not in stopwords.words('english'):\n",
    "                dictionary.append(word)\n",
    "        return dictionary\n",
    "\n",
    "    def decryptLetter(self,e,k):\n",
    "        e=list(string.ascii_lowercase).index(e)\n",
    "        k=list(string.ascii_lowercase).index(k)\n",
    "        return string.ascii_lowercase[(e-k+26)%26]\n",
    "\n",
    "    def generateChromosome(self):\n",
    "        return ''.join(random.choice(string.ascii_lowercase) for _ in range(self.key_length))\n",
    "\n",
    "    def generateInitialPopulation(self):\n",
    "        for _ in range(self.population_size):\n",
    "            self.chromosomes.append(self.generateChromosome())\n",
    "\n",
    "    def repeatKey(self,key,desired_length):\n",
    "        return key*int(desired_length/len(key))+key[:desired_length%len(key)]\n",
    "\n",
    "    def decrypt(self,key):\n",
    "        decoded_text=''\n",
    "        repeated_key=self.repeatKey(key,len(self.encoded_text))\n",
    "        for idx,letter in enumerate(self.encoded_text):\n",
    "            if letter==' ':\n",
    "                decoded_text+=' '\n",
    "            else:\n",
    "                if type(repeated_key[idx])==int:\n",
    "                    print(idx,repeated_key)\n",
    "                decoded_text+=self.decryptLetter(letter,repeated_key[idx])\n",
    "        return decoded_text\n",
    "\n",
    "    def checkPresence(self,word):\n",
    "        if word in self.dictionary:\n",
    "            return True\n",
    "        return False\n",
    "\n",
    "    def countPresence(self, decoded_text):\n",
    "        presence=0\n",
    "        for word in decoded_text.split():\n",
    "            if self.checkPresence(word):\n",
    "                presence+=1\n",
    "        return presence\n",
    "\n",
    "    def calculateFitness(self, chromosome):\n",
    "        decoded_text=self.decrypt(chromosome)\n",
    "        return self.countPresence(decoded_text)\n",
    "\n",
    "    def rankPopulation(self):\n",
    "        ranked_population = []\n",
    "        for chromosome in self.chromosomes:\n",
    "            ranked_population.append([self.calculateFitness(chromosome),chromosome])\n",
    "        ranked_population = sorted(ranked_population,key=lambda x:(x[0]),reverse=True)\n",
    "        return [ch[1] for ch in ranked_population]\n",
    "\n",
    "    def crossover(self, chromosome1, chromosome2):\n",
    "        child1=''\n",
    "        child2=''\n",
    "        seperator=random.randrange(0,self.key_length)\n",
    "        child1=chromosome1[:seperator]+chromosome2[seperator:]\n",
    "        child2=chromosome2[:seperator]+chromosome1[seperator:]\n",
    "        return child1, child2\n",
    "\n",
    "    def mutate(self, chromosome):\n",
    "        chromosome=list(chromosome)\n",
    "        gene1=random.randrange(0,self.key_length)\n",
    "        gene2=random.randrange(0,self.key_length)\n",
    "        chromosome[gene1],chromosome[gene2]=chromosome[gene2],chromosome[gene1]\n",
    "        return ''.join(chromosome)\n",
    "\n",
    "    def generateNewPopulation(self):\n",
    "        ranked_population=self.rankPopulation()\n",
    "        elites=int(self.elitism*self.population_size)\n",
    "        new_generation=ranked_population\n",
    "\n",
    "        for i in range(elites,self.population_size-1):\n",
    "            crossover_chance=random.uniform(0,1)\n",
    "            mutation_chance=random.uniform(0,1)\n",
    "\n",
    "            if crossover_chance<self.pc and mutation_chance<self.pm:\n",
    "                child1,child2=self.crossover(ranked_population[i],ranked_population[i+1])\n",
    "                child1, child2=self.mutate(child1), self.mutate(child2)\n",
    "                new_generation.append(child1)\n",
    "                new_generation.append(child2)\n",
    "            elif crossover_chance<self.pc:\n",
    "                child1,child2=self.crossover(ranked_population[i],ranked_population[i+1])\n",
    "                new_generation.append(child1)\n",
    "                new_generation.append(child2)\n",
    "            elif mutation_chance<self.pm:\n",
    "                new_generation.append(self.mutate(ranked_population[i]))\n",
    "                # new_generation.append(self.mutate(ranked_population[i+1]))\n",
    "            else:\n",
    "                new_generation.append(ranked_population[i])\n",
    "        \n",
    "        return new_generation\n",
    "\n",
    "    def decode(self):\n",
    "        goal_score=len(d.encoded_text.split())\n",
    "        print('Goal score:',goal_score)\n",
    "        best_score=self.calculateFitness(self.rankPopulation()[0])\n",
    "        print('Initial score:',best_score)\n",
    "        while best_score<goal_score:\n",
    "            self.chromosomes=self.generateNewPopulation()\n",
    "            best_score=self.calculateFitness(self.rankPopulation()[0])\n",
    "            print('key:',self.rankPopulation()[0],'score:',best_score)\n",
    "        return self.rankPopulation()[0][1]\n"
   ]
  },
  {
   "cell_type": "code",
   "execution_count": 9,
   "metadata": {},
   "outputs": [
    {
     "name": "stdout",
     "output_type": "stream",
     "text": [
      "Goal score: 517\n",
      "Initial score: 16\n",
      "key: srmehohsywetmp score: 16\n",
      "key: srmehohsywetmp score: 16\n",
      "key: srmehohsywetmp score: 16\n",
      "key: lwfsqbmgidsptw score: 17\n",
      "key: sakskzpfjkscfm score: 19\n",
      "key: sakskzpfjkscfm score: 19\n",
      "key: sakskzpfjkscfm score: 19\n"
     ]
    }
   ],
   "source": [
    "encodedText = open('./Resources/encoded_text.txt').read()\n",
    "globalText = open('./Resources/global_text.txt').read()\n",
    "d = Decoder(globalText, encodedText)\n",
    "decodedText = d.decode()\n"
   ]
  },
  {
   "cell_type": "markdown",
   "metadata": {},
   "source": [
    "## Part 6 - Questions\n",
    "\n",
    "\n",
    "1. A small initial population does not have the required variety to find the answer, and otherwise, a large initial population has a lot of computational burdens and slows the algorithm.\n",
    "2. By increasing the population over time, we can be more confident that the generations have a good variety, and the probability of finding the answer increases. But on the other hand, it increases the computational time.\n",
    "3. Crossover operation causes the best chromosomes to grow and become better and better, and the mutation operation ensures that new and more varied chromosomes are also developing.\n",
    "4. Crossover operations have a better impact on developing the generations than mutation operation because it combines the best chromosomes and tries to generate new generations.\n",
    "5. If the generations stay the same for a few steps, we can generate a new random population and start again. That may cause by a lot of weak chromosomes that can not evolve well enough.\n",
    "6. Crossover operation is more effective than mutation, and if we had a single option, selecting crossover was a better choice.\n",
    "7. We could use hashing or binary search algorithms to optimize the search process of the words in the dictionary. We could also try different values for `elitism`, `pc`, and `pm` to find more optimized parameters.\n"
   ]
  },
  {
   "cell_type": "code",
   "execution_count": null,
   "metadata": {},
   "outputs": [],
   "source": []
  }
 ],
 "metadata": {
  "interpreter": {
   "hash": "916dbcbb3f70747c44a77c7bcd40155683ae19c65e1c03b4aa3499c5328201f1"
  },
  "kernelspec": {
   "display_name": "Python 3",
   "language": "python",
   "name": "python3"
  },
  "language_info": {
   "codemirror_mode": {
    "name": "ipython",
    "version": 3
   },
   "file_extension": ".py",
   "mimetype": "text/x-python",
   "name": "python",
   "nbconvert_exporter": "python",
   "pygments_lexer": "ipython3",
   "version": "3.8.10"
  }
 },
 "nbformat": 4,
 "nbformat_minor": 2
}
