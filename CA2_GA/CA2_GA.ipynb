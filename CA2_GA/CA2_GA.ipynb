{
 "cells": [
  {
   "cell_type": "markdown",
   "metadata": {},
   "source": [
    "![University of Tehran](./img/UT.png)\n",
    "#   <font color='red'><center>AI CA 2 - GA<center></font> \n",
    "## <center>Dr. Fadaei<center>\n",
    "### <center>Daniyal Maroufi<center>\n",
    "### <center>810098039<center>"
   ]
  },
  {
   "cell_type": "markdown",
   "metadata": {},
   "source": [
    "## Aim\n",
    "\n",
    "This assignment aims to use the Genetic Algorithm (GA) to find a decoded text's encryption key (14 characters). We prepared a global text to generate the dictionary, and we will use it to decipher the text."
   ]
  },
  {
   "cell_type": "markdown",
   "metadata": {},
   "source": [
    "# Problem Description\n",
    "\n",
    "In this assignment, we are trying to decode an encoded text without knowing the encryption key. We should find the encryption key using the genetic algorithm to decipher the text. \n",
    "First, we read a long global text and generate a dictionary of the words, and we are assured that all of the words in the original text(that we want to decode) are in this dictionary. Then, we guess a random encryption key and decrypt the text. If all the words are present in the extracted dictionary, we claim that the supposed key is correct and the target text is decoded successfully."
   ]
  },
  {
   "cell_type": "markdown",
   "metadata": {},
   "source": [
    "# Algorithm Description\n",
    "\n",
    "First, we generate 300 possible answers (chromosomes) as the initial population or the first generation. Then, we use a fitness function to rank the chromosomes. The fitness function presents how good each chromosome (solution) is. By comparing all chromosomes, we can find the best chromosomes of the generations. Then we will create a new generation based on these selected chromosomes using crossover and mutation processes. By repeating this process, we will finally find the solution that satisfies the expectations of the solution.\n",
    "\n"
   ]
  },
  {
   "cell_type": "markdown",
   "metadata": {},
   "source": [
    "# Algorithm Implementation"
   ]
  },
  {
   "cell_type": "markdown",
   "metadata": {},
   "source": [
    "## Part 0 - Generating the Dictionary\n",
    "\n",
    "In this part, we perform the text data cleaning process, which contains contraction replacement, converting the words to lower case, and removing the stopwords. For eliminating the stopwords, we use the nltk python library.\n"
   ]
  },
  {
   "cell_type": "markdown",
   "metadata": {},
   "source": [
    "## Part 1 - Definition of Genes and Chromosome\n",
    "\n",
    "Each chromosome represents a possible solution to the problem in the Genetic Algorithm. Hence, we define the chromosome as the encryption key consisting of 14 genes (characters). Then we use the chromosomes to evolve through the algorithm process, and finally, we can find the correct key.\n"
   ]
  },
  {
   "cell_type": "code",
   "execution_count": 4,
   "metadata": {},
   "outputs": [
    {
     "name": "stderr",
     "output_type": "stream",
     "text": [
      "[nltk_data] Downloading package stopwords to /home/dani/nltk_data...\n",
      "[nltk_data]   Package stopwords is already up-to-date!\n"
     ]
    }
   ],
   "source": [
    "import nltk\n",
    "import time\n",
    "import string\n",
    "import random\n",
    "nltk.download('stopwords')\n",
    "from nltk.corpus import stopwords"
   ]
  },
  {
   "cell_type": "code",
   "execution_count": 11,
   "metadata": {},
   "outputs": [],
   "source": [
    "class Decoder():\n",
    "\n",
    "    dictionary=[]\n",
    "    population=[]\n",
    "\n",
    "    def __init__(self, globalText, encodedText, keyLength=14, InitialPopulationSize=300):\n",
    "        self.global_text=globalText\n",
    "        self.encoded_text=encodedText\n",
    "        self.key_length=keyLength\n",
    "        self.initial_population_size=InitialPopulationSize\n",
    "\n",
    "    def generateDictionary(self):\n",
    "        self.dictionary=self.cleanText(self.global_text)\n",
    "\n",
    "    def cleanText(self,text):\n",
    "        Apos_dict={\"'s\":\" is\",\"n't\":\" not\",\"'m\":\" am\",\"'ll\":\" will\",\n",
    "        \"'d\":\" would\",\"'ve\":\" have\",\"'re\":\" are\"}\n",
    "\n",
    "        # replace contractions\n",
    "        for key,value in Apos_dict.items():\n",
    "            if key in text:\n",
    "                text=text.replace(key,value)\n",
    "\n",
    "        text=text.lower()\n",
    "\n",
    "        # remove punctuations\n",
    "        for punctuation in string.punctuation:\n",
    "            text=text.replace(punctuation,' ')\n",
    "\n",
    "        text=text.split()\n",
    "\n",
    "        dictionary=[]\n",
    "\n",
    "        for word in text:\n",
    "            if word not in stopwords.words('english'):\n",
    "                dictionary.append(word)\n",
    "        return dictionary\n",
    "\n",
    "    def decrypt(self,key):\n",
    "        pass\n",
    "\n",
    "    def countPresence(self):\n",
    "        pass\n",
    "\n",
    "    def generateChromosome(self):\n",
    "        return ''.join(random.choice(string.ascii_lowercase) for _ in range(self.key_length))\n",
    "\n",
    "    def generateInitialPopulation(self):\n",
    "        for _ in range(self.initial_population_size):\n",
    "            self.population.append(self.generateChromosome())\n",
    "\n",
    "    def crossOver(self, chromosome1, chromosome2):\n",
    "        pass\n",
    "\n",
    "    def mutate(self, chromosome):\n",
    "        pass\n",
    "\n",
    "    def calculateFitness(self, chromosome):\n",
    "        pass\n",
    "\n",
    "    def rankPopulation(self):\n",
    "        pass\n",
    "\n",
    "    def generateNewPopulation(self):\n",
    "        pass\n",
    "\n",
    "    def decode(self):\n",
    "        pass\n"
   ]
  },
  {
   "cell_type": "code",
   "execution_count": 13,
   "metadata": {},
   "outputs": [
    {
     "name": "stdout",
     "output_type": "stream",
     "text": [
      "['djzlkqwupwqsmh', 'hfqcdfbpxbctxu', 'bwrbdjvfxucyta', 'jiqqgqfxeurdtc', 'ovboblymlpnyov', 'dzglqejpsakafx', 'wiufrvnjcyoxuz', 'josmisrnwmwyge', 'xtpwfgeqyphgij', 'hkiobwwjnpaxbl', 'wxaaohddajltth', 'ezbwjbxclsjyls', 'gqbicoffwezpmh', 'qefjvtjqryiquq', 'pkpthynwocuser', 'malmvgilgaawap', 'hlrlsdfthfdtan', 'gnqgwbdbunichd', 'gkjmkmbayzkbpx', 'tqzokgzixkhtmr', 'opccopsmtkmzho', 'bsucjjsqziiduw', 'xjkmyavhozghto', 'ikpbljblvmlvhw', 'rxhkcvabikonrg', 'ythnsolpsdbhmn', 'qdoxlisucmnfpf', 'dxhemjxvibggms', 'gdeoqainogcfwg', 'kegjolwlvvrsaw', 'vwxzzlugeoiepa', 'zgipdopjvwmpli', 'aramcssdyvxufd', 'dgdpjcmrjnhglh', 'lrjhkknsbadsfv', 'hmolrtbwdxxbff', 'akergsgaaublhr', 'bihkbmyhpaslwe', 'xilelcfebmdbeq', 'wkwneqvuatbznf', 'nczeuzainfeyln', 'aanhloneepyrjp', 'jbtehcovmeyjla', 'dlrnoxjmseioas', 'azdomyvliuwlbr', 'ejuibnvqyuhjtl', 'soswpflilgaaqe', 'kbyhzlnbljyqcj', 'zplkvudmclpbqj', 'osidqwstczclvq', 'iqihkxdpnkszsn', 'ymcdtsmqqijbqz', 'vxgwogakzsisoe', 'tcvuyqccytzbot', 'gelkpggkxoyvyr', 'jbiokuhqsopjnu', 'kfpwgnfoiuwxau', 'umdkvmdojqcljl', 'wxsaubogrrdnzm', 'ezvjkimmfoqdwg', 'svvlmswyxaasvg', 'gytiqdabzinjai', 'dwafttvuhoiduu', 'xzhanatoqbdgbq', 'hioxrnwewuglrh', 'bgbqjfjjooxwrl', 'bcjhkijkaglzjd', 'gzaqvvajoxchxr', 'nxtxztiikvdovf', 'cmttdfmvyqhhgu', 'ebigdsxubqvyln', 'lcdonkhbmdxrnc', 'ygbotzuxwxkgsd', 'zhnpbtclbzksbr', 'vdikglcibmmrqi', 'lapedwcfyuwvkk', 'sfdzhilswqjgoy', 'dtzjasacyzrhra', 'fjwcfotwkslwgc', 'qfwiwmqfkbvloz', 'sujsuneutsdwch', 'rrpaosdyfanykk', 'nnqcczajtybsmz', 'mlzijvubvewrzc', 'wlnuyhfddoqzuk', 'wvsruahqfytayd', 'impcdkejxhxwdz', 'yvfyuzxjgdqsey', 'goeobhryfenobd', 'kujhimmtgxjqfp', 'nwntkxxhvwmncu', 'raqygsbtolmfjs', 'ojbdxmksyrvink', 'qfjidnpsxlaejk', 'jazvkmskshssht', 'sciyndvddpuzjp', 'szpzlzmnjhxeei', 'ocyeepfgxfgpdt', 'ycwtbdoiuuycei', 'lnvfiamtbahnzn', 'njpcmotkpnkjge', 'ylpnsxhgcpnxrn', 'icfxsrblyugdwo', 'awnqitqecgcake', 'rqvysgjvwyvtbi', 'sdjaheeyrxhaod', 'ruhtjfmnttzies', 'ztntxsacjdzxji', 'wepysifudzqgyr', 'qhbosohvmxrkvr', 'ksjvyhfwsmtojd', 'vxyxeftrgrskqa', 'shsepmjebvprfm', 'ukovasaanealgy', 'eruiwwbfxhdnjb', 'tplrjravbjksoo', 'dcvppxwzulptlb', 'sgjpxjzjgpjvtq', 'xthephgxhrqwcd', 'hbftldewwdhtjz', 'nzwoiglgfqhajs', 'slmriynyqngcds', 'avkllvlfffxsec', 'ejazhcwrjuwauc', 'zzxmdrudfozinf', 'xawvoccuptezgg', 'atafegzpufmhjl', 'cnahpajjvigspj', 'jhynvisusyoetb', 'awazbafdvgymna', 'exdquvgbtbhsku', 'midleohyijtypj', 'wlrhporapffjgr', 'pinxlroyjnmdjd', 'hdcnxnibpkblgi', 'gbzotskaizbprt', 'rmwbhcszekjfgy', 'pqfdvipsqtfvij', 'rjobuhzwxzrjok', 'uwulsxurxyxzqu', 'meqthhpaztvrex', 'zpcwlwldqtdqzq', 'jxrohwxilnhjwt', 'cvyheeftrvamug', 'wugusqoukqjlez', 'kgxlyonairqkey', 'cohsdxedteyaui', 'pkfgrsmfeeulel', 'tjkeqeypwgpcyt', 'yggfrpmdckxmds', 'ysgmftpwjdmvog', 'wgeiwytrdmwwgr', 'oussyajntyxwxv', 'tuiwlwidxipnqj', 'dntaqfufbqfqvh', 'jdnqvgcciwsqzu', 'ryccwfelxlnwif', 'ydpdwtgcwrnukv', 'fhqjygtwzybesj', 'udwnchrryqvqqn', 'kmfmqdbplklolo', 'jrvuyevlmezzyr', 'wkikeqrxjsdkhc', 'kxgxhozcmrvmqz', 'rvwqwjznhbrzwa', 'oyxqmnvhnfncbq', 'achdrmyvmhkibz', 'lrxhubwbnbaejg', 'dljalzduakewng', 'ihbblkuqafqtnr', 'uvrtzenbcoswcj', 'mycenjdbxfxsdw', 'hdslwojumkvkom', 'jzcxqsdwlqstod', 'dgsbxjsshthvim', 'visosqpdvfvmbb', 'uarqbnzfhxsvip', 'yjfchcknjbxdbz', 'zosvoxqftbagoe', 'vqsqqbdnzwbior', 'ohiandcwnpmahs', 'ydyjfcwflhpwvq', 'tseostammkarwz', 'azaigatvbdpsyw', 'vmipcxypgttfte', 'erlszkdigkajxq', 'trmkrnmkkphtch', 'fgejsygtgazxtc', 'sxpvahdagyplnc', 'jwcsuiaxitnqnk', 'fajcmtetsbscql', 'tjgxyoixarzpfs', 'anlozxltpenkoo', 'opdmhownccsrgw', 'mersenvvoclhjg', 'gpnoowhrcvdqgd', 'silvjqmhkvsmuy', 'xcdhdiorytglad', 'qabzucojhfoxyd', 'dppbryypqvkoad', 'tpronghfahgydz', 'cyfkqqfulrernh', 'rjblmzneubxuyd', 'teidevjfmdhrde', 'lkcegkbhoccbxa', 'gftkzwwhdoghjd', 'gjwchzcezgjfjt', 'gzzglxjfcpuznw', 'klpfvwfsznppgh', 'nnrquhgcfpxabh', 'mdfuswofxeknky', 'slgnzblofstmmu', 'exbtxhkqwizygt', 'ykpfpjdxfmlrqu', 'zkbolkbizggqmc', 'rulsctkozeyfae', 'wxlrmawxwatpoq', 'napxwsclzlxcxq', 'krwjnxptzzxpww', 'jmlsgrppendxbo', 'qzgxxhpkrptatr', 'zdrdwpmnsbqyus', 'xjjcukxrpdtkpj', 'lynctlotwruayh', 'sovwckazflbpdh', 'rirupufvbifcog', 'oplsdypdpupmbn', 'typrmblrhnfpsf', 'zlhymrsvfpqrtn', 'ighkfarataqxkp', 'jfqsiyuumxgols', 'tcwjujuegdctwy', 'axbpchkeykhvsd', 'kkntonscnzvyor', 'ahsrsasmjmimlt', 'tqnxrnrwkwjdsw', 'zqdlhqcuvejyxr', 'abcrpbtofnbvzb', 'gjsvbeebfrxooc', 'mgnokqnrunekrl', 'yjgsxcixhwfylv', 'mahdskkszznxuc', 'ehtdajbquipndz', 'meeirgxdkfuird', 'jnubvwmpiipfyv', 'udccbiltqblzfr', 'qsjgpwmrjqeiil', 'hhcylvzvovvkkj', 'owpuvjmyqjxnuw', 'blkrczsuktwlxz', 'ghuaxlhrowvzem', 'peynnesvnpskrc', 'pexovowcnbawyo', 'byvtwfrltdmloi', 'etloriivlfpowx', 'txpcnalpzfqpoy', 'wzozuvprtoalfx', 'biffwotjbeimew', 'ipvapwbxoteewe', 'fodxozjxapkadv', 'xzzwsdzzxxlkuo', 'ejnzdlozxshwws', 'uqkeclgekookxz', 'mmeizxrlqfufql', 'qkayjfbpdqsqfu', 'fblxvmjmjxymvt', 'cnvltbxijkcyly', 'qjnqboiynkcicl', 'zdjlztkqgxzwek', 'mcgzhwtgqeqang', 'glgmilhuzreuzk', 'kixcyyvufmptqy', 'meijnghnztrdyk', 'etvpziefgrtqak', 'bqclwjxxutjpwy', 'lcpsqpwrowbxeq', 'icutaosgaxofmv', 'wzlzbmscdtzvvb', 'znzyegahvvpmld', 'xedojndbmxeuft', 'bvwkmuelasduuk', 'hvevkifuydqxif', 'rsimnoqfkoiwqx', 'datjtgyggtcyie', 'zoqjmoocsbwltc', 'ewibgjrsplyyuw', 'liwcidomsrvmvb', 'kwzfzfyvvujncv', 'wiizsqnhmogrwk', 'opotafhglhckcr', 'yemwaagbmkrjpw', 'fecwvnpempjikl', 'fgtlvyzxklacir', 'qefdphjuwpkczn', 'mgbaztcqyqggfu', 'knnzjautbfsxhe', 'rgdczanayqmelf', 'liawekbjrirwsz', 'cokmehsjkounxo', 'pzuaqbtdylqksj', 'klzdfyeexatuzx', 'rkntprnpbinktq', 'khlpsytxvwdmlh', 'jkjdstnvgpbfiv', 'nwrfiufxpozqoj', 'yxirnayripiofm', 'suqknikifsyayp', 'vheevivkzrrhlk', 'zmjpkjehbowklv', 'navbfgamjvyprp', 'spubjsintdqurn', 'nrmikegkiebowt', 'bfdlupyvwlvzwj', 'dqogmxzsqyucke', 'wixskblnagpjro', 'zxwquzxkcoxxcm', 'egqnecjzgvyomf', 'zpsqmafuufnwjd', 'vzndyvikyfqzjk', 'coyhqhswoqghei', 'aibboncexbkbwb', 'zhfzshcgglgwyj', 'xvwlbigzgokigu', 'pjzygycvjhffwo', 'obmfalqryfqnse', 'nfuzxqavegiucf', 'gfimfziscxjacd', 'meipfzajldkudi', 'ablmfjtmbinwgb', 'azrbbxstdrwwkd', 'ekzjknlymuqcpt', 'mcfdalvwgvicjb', 'wejzopjvcorbfw', 'rlpxwudolbafpe', 'tasbmvuvrrnwre', 'svcqnqwevntdxo', 'jfbnkofxilgjwa', 'vlkynayvsmpccu', 'uyihumsmbrhgde', 'ejedadclxpljum', 'pulshmtwemfpfa', 'qstjaptvugjkaq', 'sqlddakmigrzlm', 'voubxmzqqranww', 'zwtjhaokjeghhw', 'deuilslhjhnqap', 'dnlnilwibjwgjq', 'kqamawbnxyosyu', 'vcoofjtimzazwa', 'cquwhpwhuuyozt', 'qgflbdtsbxtmue', 'afacjkhfrzufub', 'esfxspjusitsrs', 'mkxvlqxgqrgzws', 'ltnrwkqgjvgetw', 'rgmqpbhghohndg', 'pmtdpllohhumrb', 'vlawlscihjzrip', 'ueiuzlhqtyviqa', 'ozxdxffejaczuk', 'ysfvbnbsgmqheg', 'wqsofbzryvyhfj', 'pqctpeaxxhpfli', 'wypnwhgbuiimmj', 'bznygzgdnbrzyr', 'osbhdlwxmkcnrq', 'ylsfcgsutqpusi', 'egaovnennzqsgk', 'mnsryjihqpwhbc', 'xertggmstspznv', 'rdyantlglfwqmv', 'qxcyrfwsehtzhe', 'hwzdbryfkdygcg', 'tskdmdxmwdcjhi', 'yyogtilykoahwl', 'zsmpbvfqhqitsn', 'adlaezyqabnjgs', 'oocvbelvygzzeo', 'hppkwhzetbfhba', 'cukuyayxguflhe', 'jzcwxmvrnjwwma', 'gnqutzosyajsqv', 'uxhdnksxydboxu', 'axogglvyeofiom', 'xpvjzzpipggsus', 'ciwaqxhoxtksym', 'agtxaxgsckxlzk', 'allnjftjzjyhkn', 'xdjzntjaerwxgb', 'yncpnuwcfbycqm', 'lbysbsjqydhuak', 'zpuqnhgfgzaxoa', 'pdjerwqmszlbib', 'ulzaxzxlvcwrss', 'gxmskrcdbzhuii', 'hfzwjsnanxcoew', 'kulupogxizgqff', 'dimvzwbhemufwl', 'vkeujdppmrkvrv', 'kosuntnzihzpxo', 'uicvdnvabzyqng', 'bgshxjqdktnxlc', 'ybewhztwvyhusc', 'mgbcnjbmixmbdi', 'ktfankltzxqyag', 'grqpairwtazrss', 'aifptgumtuvemb', 'wimirbouwwjsme', 'uueeowuubmesrv', 'kqxufurmkmbbpc', 'rclrsqxrspzdaa', 'bqnxxfxoxlnnmn', 'bdthhxgamcgayg', 'zmnoqojkyzyswa', 'hevavsfurobjhp', 'qryzdxzphwiduz', 'fphshrlzcliwwf', 'terhgxqbuwacxw', 'estwbecfyakewa', 'qvrsrescsjkdhc', 'fhsftifsrfffvx', 'obvcjnwmilowmc', 'jhycfcdlfyzptd', 'tymrrtundgziwm', 'uymyuhdzbmokzt', 'jxwujbniyceude', 'hqnstptgqjnrrr', 'btxwgflhczowra', 'uftfpddoklvifv', 'cyqpcaforyttdp', 'jltejafouqsljh', 'dxabqcloimdilx', 'lnvnuqqpohvkkr', 'wgxbtrjqsgktaz', 'snjdijlfrlahco', 'jktlflqzqfcobd', 'yuvcdwiyodbwqu', 'csfndtqsxrvgxh', 'lqetyszcvfxnbr', 'zdlxlfjtxxutgj', 'wyplssjnrnolkr', 'ghieibuqpeabke', 'ylibaykipevtha', 'qmmcwspjbquets', 'hiehanijgmxsvq', 'jrcqwfswzsvigx', 'vjlaswwjblnayc', 'jticbmkastmiiv', 'xfiyuatqcskevz', 'dhcxbweorpimmt', 'atvvqghrfprslv', 'vtecixqpauyymb', 'qkgtgxoolhlksk', 'zrjhjzakotphzz', 'krhunvhiobbixp', 'fctmkyzvgsgnut', 'lssgzqoddulcst', 'eohvzwyhtjowgc', 'jvpvjeavcvnfaz', 'ddyajavjfbguop', 'zliwnzqjfjieqp', 'sjaexkjysskzvk', 'kefyrioaxtbmqc', 'lprprvjunpkrez', 'czyxthipukhfmo', 'izhgmqqtsirzza', 'thmoqknkqvqram', 'jqjcfnjehsggpz', 'tsjekiqrypvkdu', 'sgfzdseclqfvwj', 'wjlwacnyjkxhlc', 'grbchgxrgfypbj', 'poqnrynpfdedgr', 'dgkazcxzvzuglp', 'wajpbrrkdqpjtk', 'wxooqupgspsjud', 'gdrzvmaxxraadj', 'brexjcvqilivrn', 'gcplslpcuxncgk', 'gawunaznwscvcp', 'lvlzfeexqthcck', 'hppaqndreirqil', 'feorxtzvaitsxx', 'cbojmtuclcpemn', 'kogafhbeehbriz', 'yakldoojtjykhk', 'egboihrbnfqgss', 'skhbnjmyyzufzi', 'ogjwefwvnyjbix', 'fsnmuvoscqdytb', 'bpqadhorttdtpb', 'pahcbmfxkysanl', 'bqxqqxvyndarxh', 'ssvpkvzflpayxu', 'weeegosisdtsyr', 'xxoooffowqhenu', 'wnktbbeidtquir', 'rirhqxhscleagc', 'rmfbiwftyxrdcm', 'plpfngfmqrotnv', 'wxrnnvgtmrrtgv', 'twnklyqwkixhtp', 'spcthwdehwdsmt', 'sxztfpmhmxkfko', 'ccddifltnmicus', 'jbvnxgzfegqklu', 'vlwbzqvbglykyo', 'zaqkcsggzzcpzc', 'vqjnlccqwfwzkq', 'vvmsvufdtxibud', 'vrvvypfwgljoac', 'mdvfzpvpvtcsvb', 'qtbunrpgnyfckf', 'jlbwurmzphppyy', 'lhsrafvneribrr', 'xaelntkfthnjce', 'uyqzcxokuraeab', 'vnbhlgosbrxrkq', 'yxorljngzkktqy', 'sujljqjbdzewjv', 'opquvdhmsefzlt', 'wwlgiuufioamqv', 'xrddkqyztvsrbc', 'vrhcnvufiwmnfg', 'qrmpopduwgdjgi', 'pdvgvnxbhgxmss', 'ioojygqukzysqb', 'dqbbhaukqbmzuc', 'yzfdnbtenbtiml', 'tpefvaprpulopn', 'qmsnmmmnwpjsxd', 'rurqcniwzoihyt', 'xgmvkgntupbetd', 'mvzhbqxjxowzvo', 'rqhjdvzwoflljo', 'xtvkknprhlpnff', 'czajepsyrdmwtu', 'znqpytkfifqzsq', 'ifyfknpizckvnp', 'gaofjybyvmhqxj', 'umzxbtytotvfsh', 'jotuyqafsdophy', 'ehjteuukzvqrmj', 'fbhosuacxwhxgh', 'loztyrvildlspk', 'veyvgxohptzrdn', 'mzdfegcitqldmw', 'svvvwnalzjhtge', 'zfqeqmmivkbovg', 'ndjchypnahdwmb', 'ozhqgyfzapwoih', 'rldslnflnighwp', 'cbipfduikljntp', 'qsfsernznmrsua', 'awutlsrwaqzdrs', 'jqpqfpcgdiqefq', 'golkqokhhkyupx', 'scgbnqbydndeoe', 'lanihtlxctxvio', 'vogejaijsjhvab', 'lolttxlxtgaami', 'rlzfwsetcascqb', 'cldwvyywslahel', 'qnlzcoxujksnop', 'pqfhwodjjkzctg', 'lzxdvryupcttxo', 'nrxizvvpjrnfav', 'bblqudynygrcip', 'iftwluncecmloi', 'kprzxovzypsres', 'myqkdcrlmrknhx', 'xhutjnrjkgaaxl', 'lblmhuuytxtnni', 'qrokscczjptymx', 'mcuorvzykusiqf', 'pvdqobwvcxxcae', 'cbioztlsumvilj', 'sbgoycepmvgsmd', 'qhkjtuyadiicov', 'laqqrcsarpakjq', 'hmacqyosdwfppo', 'pibfkdiquhvnrq', 'oopqlauwrffqky', 'cywraaayrcrxrx', 'jjainfdjrvzttk', 'pqdhotpkibwhbr', 'ttkosinhygspuk', 'taedghptbwhscm', 'cckrnegvstiuvf', 'gwbisemppgiusi', 'jtnnbyxeqzsoan', 'kfcqtybagbyyaw', 'cqxtemrijaxpik', 'fnweepspehbpwl', 'vkysbbbbskdxgq', 'qfafmfrtlivqph', 'jtzehdxsfrgmgl', 'oopogfpumnqloq', 'htkkkshcetqadf', 'jxtpoeovbenvvm']\n"
     ]
    }
   ],
   "source": [
    "encodedText = open('./Resources/encoded_text.txt').read()\n",
    "globalText = open('./Resources/global_text.txt').read()\n",
    "d = Decoder(globalText, encodedText)\n",
    "# decodedText = d.decode()\n",
    "d.generateDictionary()\n",
    "len(d.dictionary)\n",
    "d.generateInitialPopulation()\n",
    "print(d.population)\n",
    "\n"
   ]
  },
  {
   "cell_type": "code",
   "execution_count": null,
   "metadata": {},
   "outputs": [],
   "source": []
  }
 ],
 "metadata": {
  "interpreter": {
   "hash": "916dbcbb3f70747c44a77c7bcd40155683ae19c65e1c03b4aa3499c5328201f1"
  },
  "kernelspec": {
   "display_name": "Python 3.8.10 64-bit",
   "language": "python",
   "name": "python3"
  },
  "language_info": {
   "codemirror_mode": {
    "name": "ipython",
    "version": 3
   },
   "file_extension": ".py",
   "mimetype": "text/x-python",
   "name": "python",
   "nbconvert_exporter": "python",
   "pygments_lexer": "ipython3",
   "version": "3.8.10"
  },
  "orig_nbformat": 4
 },
 "nbformat": 4,
 "nbformat_minor": 2
}
