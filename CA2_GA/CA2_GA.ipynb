{
 "cells": [
  {
   "cell_type": "markdown",
   "metadata": {},
   "source": [
    "![University of Tehran](./img/UT.png)\n",
    "#   <font color='red'><center>AI CA 2 - GA<center></font> \n",
    "## <center>Dr. Fadaei<center>\n",
    "### <center>Daniyal Maroufi<center>\n",
    "### <center>810098039<center>"
   ]
  },
  {
   "cell_type": "markdown",
   "metadata": {},
   "source": [
    "## Aim\n",
    "\n",
    "This assignment aims to use the Genetic Algorithm (GA) to find a decoded text's encryption key (14 characters). We prepared a global text to generate the dictionary, and we will use it to decipher the text."
   ]
  },
  {
   "cell_type": "markdown",
   "metadata": {},
   "source": [
    "# Problem Description\n",
    "\n",
    "In this assignment, we are trying to decode an encoded text without knowing the encryption key. We should find the encryption key using the genetic algorithm to decipher the text. \n",
    "First, we read a long global text and generate a dictionary of the words, and we are assured that all of the words in the original text(that we want to decode) are in this dictionary. Then, we guess a random encryption key and decrypt the text. If all the words are present in the extracted dictionary, we claim that the supposed key is correct and the target text is decoded successfully."
   ]
  },
  {
   "cell_type": "markdown",
   "metadata": {},
   "source": [
    "# Algorithm Description\n",
    "\n",
    "First, we generate 300 possible answers (chromosomes) as the initial population or the first generation. Then, we use a fitness function to rank the chromosomes. The fitness function presents how good each chromosome (solution) is. By comparing all chromosomes, we can find the best chromosomes of the generations. Then we will create a new generation based on these selected chromosomes using crossover and mutation processes. By repeating this process, we will finally find the solution that satisfies the expectations of the solution.\n",
    "\n"
   ]
  },
  {
   "cell_type": "code",
   "execution_count": 2,
   "metadata": {},
   "outputs": [],
   "source": [
    "class Decoder():\n",
    "\n",
    "    def __init__(self, globalText, encodedText, keyLength=14):\n",
    "        self.globalText=globalText\n",
    "        self.encodedText=encodedText\n",
    "        self.keyLength=keyLength\n",
    "\n",
    "\n",
    "    def generateDictionary(self):\n",
    "        pass\n",
    "    \n",
    "    def decrypt(self,key):\n",
    "        pass\n",
    "\n",
    "    def countPresence(self):\n",
    "        pass\n",
    "\n",
    "    def generateInitialPopulation(self):\n",
    "        pass\n",
    "\n",
    "    def crossOver(self, chromosome1, chromosome2):\n",
    "        pass\n",
    "\n",
    "    def mutate(self, chromosome):\n",
    "        pass\n",
    "\n",
    "    def calculateFitness(self, chromosome):\n",
    "        pass\n",
    "\n",
    "    def rankPopulation(self):\n",
    "        pass\n",
    "\n",
    "    def generateNewPopulation(self):\n",
    "        pass\n",
    "\n",
    "    def decode(self):\n",
    "        pass\n"
   ]
  }
 ],
 "metadata": {
  "interpreter": {
   "hash": "916dbcbb3f70747c44a77c7bcd40155683ae19c65e1c03b4aa3499c5328201f1"
  },
  "kernelspec": {
   "display_name": "Python 3.8.10 64-bit",
   "language": "python",
   "name": "python3"
  },
  "language_info": {
   "codemirror_mode": {
    "name": "ipython",
    "version": 3
   },
   "file_extension": ".py",
   "mimetype": "text/x-python",
   "name": "python",
   "nbconvert_exporter": "python",
   "pygments_lexer": "ipython3",
   "version": "3.8.10"
  },
  "orig_nbformat": 4
 },
 "nbformat": 4,
 "nbformat_minor": 2
}
