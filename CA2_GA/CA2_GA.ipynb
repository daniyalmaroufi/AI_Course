{
 "cells": [
  {
   "cell_type": "markdown",
   "metadata": {},
   "source": [
    "![University of Tehran](./img/UT.png)\n",
    "#   <font color='red'><center>AI CA 2 - GA<center></font> \n",
    "## <center>Dr. Fadaei<center>\n",
    "### <center>Daniyal Maroufi<center>\n",
    "### <center>810098039<center>"
   ]
  },
  {
   "cell_type": "markdown",
   "metadata": {},
   "source": [
    "## Aim\n",
    "\n",
    "This assignment aims to use the Genetic Algorithm (GA) to find a decoded text's encryption key (14 characters). We prepared a global text to generate the dictionary, and we will use it to decipher the text."
   ]
  },
  {
   "cell_type": "markdown",
   "metadata": {},
   "source": [
    "# Problem Description\n",
    "\n",
    "In this assignment, we are trying to decode an encoded text without knowing the encryption key. We should find the encryption key using the genetic algorithm to decipher the text. \n",
    "First, we read a long global text and generate a dictionary of the words, and we are assured that all of the words in the original text(that we want to decode) are in this dictionary. Then, we guess a random encryption key and decrypt the text. If all the words are present in the extracted dictionary, we claim that the supposed key is correct and the target text is decoded successfully."
   ]
  },
  {
   "cell_type": "markdown",
   "metadata": {},
   "source": [
    "# Algorithm Description\n",
    "\n",
    "First, we generate 300 possible answers (chromosomes) as the initial population or the first generation. Then, we use a fitness function to rank the chromosomes. The fitness function presents how good each chromosome (solution) is. By comparing all chromosomes, we can find the best chromosomes of the generations. Then we will create a new generation based on these selected chromosomes using crossover and mutation processes. By repeating this process, we will finally find the solution that satisfies the expectations of the solution.\n",
    "\n"
   ]
  },
  {
   "cell_type": "markdown",
   "metadata": {},
   "source": [
    "# Algorithm Implementation"
   ]
  },
  {
   "cell_type": "markdown",
   "metadata": {},
   "source": [
    "## Part 0 - Generating the Dictionary\n",
    "\n",
    "In this part, we perform the text data cleaning process, which contains contraction replacement, converting the words to lower case, and removing the stopwords and all punctuation. For eliminating the stopwords, we use the nltk python library.\n"
   ]
  },
  {
   "cell_type": "markdown",
   "metadata": {},
   "source": [
    "## Part 1 - Definition of Genes and Chromosome\n",
    "\n",
    "Each chromosome represents a possible solution to the problem in the Genetic Algorithm. Hence, we define the chromosome as the encryption key consisting of 14 genes (characters). Then we use the chromosomes to evolve through the algorithm process, and finally, we can find the correct key.\n"
   ]
  },
  {
   "cell_type": "markdown",
   "metadata": {},
   "source": [
    "## Part 2 - Generating Initial Population\n",
    "\n",
    "We generate 300 random chromosomes as the initial population.\n"
   ]
  },
  {
   "cell_type": "markdown",
   "metadata": {},
   "source": [
    "## Part 3 - Ranking Population\n",
    "\n",
    "To rank the population, we decode the encoded text with each chromosome and count the number of words of the decoded text that exist in the dictionary. If all the decoded words exist in the dictionary, we can conclude that the encryption key is found.\n"
   ]
  },
  {
   "cell_type": "code",
   "execution_count": 4,
   "metadata": {},
   "outputs": [
    {
     "name": "stderr",
     "output_type": "stream",
     "text": [
      "[nltk_data] Downloading package stopwords to /home/dani/nltk_data...\n",
      "[nltk_data]   Package stopwords is already up-to-date!\n"
     ]
    }
   ],
   "source": [
    "import nltk\n",
    "import time\n",
    "import string\n",
    "import random\n",
    "nltk.download('stopwords')\n",
    "from nltk.corpus import stopwords\n"
   ]
  },
  {
   "cell_type": "code",
   "execution_count": 46,
   "metadata": {},
   "outputs": [],
   "source": [
    "class Decoder():\n",
    "\n",
    "    population=[]\n",
    "\n",
    "    def __init__(self, globalText, encodedText, keyLength=14, InitialPopulationSize=300):\n",
    "        self.global_text=globalText\n",
    "        self.dictionary=self.generateDictionary()\n",
    "        self.encoded_text=' '.join(self.cleanText(encodedText))\n",
    "        self.key_length=keyLength\n",
    "        self.initial_population_size=InitialPopulationSize\n",
    "\n",
    "\n",
    "    def generateDictionary(self):\n",
    "        self.dictionary=self.cleanText(self.global_text)\n",
    "\n",
    "    def cleanText(self,text):\n",
    "        Apos_dict={\"'s\":\" is\",\"n't\":\" not\",\"'m\":\" am\",\"'ll\":\" will\",\n",
    "        \"'d\":\" would\",\"'ve\":\" have\",\"'re\":\" are\"}\n",
    "\n",
    "        # replace contractions\n",
    "        for key,value in Apos_dict.items():\n",
    "            if key in text:\n",
    "                text=text.replace(key,value)\n",
    "\n",
    "        text=text.lower()\n",
    "\n",
    "        # remove punctuations\n",
    "        for letter in text:\n",
    "            if letter not in string.ascii_lowercase:\n",
    "                text=text.replace(letter,' ')\n",
    "        for punctuation in string.punctuation:\n",
    "            text=text.replace(punctuation,' ')\n",
    "\n",
    "        text=text.split()\n",
    "\n",
    "        dictionary=[]\n",
    "\n",
    "        for word in text:\n",
    "            if word not in stopwords.words('english'):\n",
    "                dictionary.append(word)\n",
    "        return dictionary\n",
    "\n",
    "    def decryptLetter(self,e,k):\n",
    "        e=list(string.ascii_lowercase).index(e)\n",
    "        k=list(string.ascii_lowercase).index(k)\n",
    "        return string.ascii_lowercase[(e-k+26)%26]\n",
    "\n",
    "    def generateChromosome(self):\n",
    "        return ''.join(random.choice(string.ascii_lowercase) for _ in range(self.key_length))\n",
    "\n",
    "    def generateInitialPopulation(self):\n",
    "        for _ in range(self.initial_population_size):\n",
    "            self.population.append(self.generateChromosome())\n",
    "\n",
    "    def repeatKey(self,key,desiredLength):\n",
    "        return key*int(desiredLength/len(key))+key[:desiredLength%len(key)]\n",
    "\n",
    "    def decrypt(self,key):\n",
    "        decoded_text=''\n",
    "        repeated_key=self.repeatKey(key)\n",
    "        for idx,letter in enumerate(self.encoded_text):\n",
    "            decoded_text+=self.decryptLetter(letter,key[idx])\n",
    "        return decoded_text\n",
    "\n",
    "    def checkPresence(self,word):\n",
    "        if word in self.dictionary:\n",
    "            return True\n",
    "        return False\n",
    "\n",
    "    def countPresence(self, decoded_text):\n",
    "        presence=0\n",
    "        for word in decoded_text:\n",
    "            if self.checkPresence(word):\n",
    "                presence+=1\n",
    "        return presence\n",
    "\n",
    "    def calculateFitness(self, chromosome):\n",
    "        decoded_text=self.decrypt(chromosome)\n",
    "        return self.countPresence(decoded_text)\n",
    "\n",
    "    def rankPopulation(self):\n",
    "        pass\n",
    "\n",
    "    def crossOver(self, chromosome1, chromosome2):\n",
    "        pass\n",
    "\n",
    "    def mutate(self, chromosome):\n",
    "        pass\n",
    "\n",
    "    def generateNewPopulation(self):\n",
    "        pass\n",
    "\n",
    "    def decode(self):\n",
    "        pass\n"
   ]
  },
  {
   "cell_type": "code",
   "execution_count": 48,
   "metadata": {},
   "outputs": [
    {
     "name": "stdout",
     "output_type": "stream",
     "text": [
      "w\n",
      "abcabcabcab\n"
     ]
    }
   ],
   "source": [
    "encodedText = open('./Resources/encoded_text.txt').read()\n",
    "globalText = open('./Resources/global_text.txt').read()\n",
    "d = Decoder(globalText, encodedText)\n",
    "# decodedText = d.decode()\n",
    "d.generateDictionary()\n",
    "len(d.dictionary)\n",
    "d.generateInitialPopulation()\n",
    "# print(d.population)\n",
    "print(d.decryptLetter('n','r'))\n",
    "print(d.repeatKey('abc',11))\n",
    "# print(d.decrypt())\n",
    "\n"
   ]
  },
  {
   "cell_type": "code",
   "execution_count": null,
   "metadata": {},
   "outputs": [],
   "source": []
  }
 ],
 "metadata": {
  "interpreter": {
   "hash": "916dbcbb3f70747c44a77c7bcd40155683ae19c65e1c03b4aa3499c5328201f1"
  },
  "kernelspec": {
   "display_name": "Python 3.8.10 64-bit",
   "language": "python",
   "name": "python3"
  },
  "language_info": {
   "codemirror_mode": {
    "name": "ipython",
    "version": 3
   },
   "file_extension": ".py",
   "mimetype": "text/x-python",
   "name": "python",
   "nbconvert_exporter": "python",
   "pygments_lexer": "ipython3",
   "version": "3.8.10"
  },
  "orig_nbformat": 4
 },
 "nbformat": 4,
 "nbformat_minor": 2
}
