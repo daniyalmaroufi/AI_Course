{
 "cells": [
  {
   "cell_type": "markdown",
   "metadata": {},
   "source": [
    "![University of Tehran](./img/UT.png)\n",
    "#   <font color='red'><center>AI CA 2 - GA<center></font> \n",
    "## <center>Dr. Fadaei<center>\n",
    "### <center>Daniyal Maroufi<center>\n",
    "### <center>810098039<center>"
   ]
  },
  {
   "cell_type": "markdown",
   "metadata": {},
   "source": [
    "## Aim\n",
    "\n",
    "This assignment aims to use the Genetic Algorithm (GA) to find an encoded text's key string (14 characters). We prepared a global text to generate the dictionary, and we will use it to decode the text."
   ]
  },
  {
   "cell_type": "code",
   "execution_count": 2,
   "metadata": {},
   "outputs": [],
   "source": [
    "class Decoder():\n",
    "\n",
    "    def __init__(self, globalText, encodedText, keyLength=14):\n",
    "        self.globalText=globalText\n",
    "        self.encodedText=encodedText\n",
    "        self.keyLength=keyLength\n",
    "\n",
    "    def generateInitialPopulation(self):\n",
    "        pass\n",
    "\n",
    "    def crossOver(self, chromosome1, chromosome2):\n",
    "        pass\n",
    "\n",
    "    def mutate(self, chromosome):\n",
    "        pass\n",
    "\n",
    "    def calculateFitness(self, chromosome):\n",
    "        pass\n",
    "\n",
    "    def rankPopulation(self):\n",
    "        pass\n",
    "\n",
    "    def generateNewPopulation(self):\n",
    "        pass\n",
    "\n",
    "    def decode(self):\n",
    "        pass\n"
   ]
  },
  {
   "cell_type": "code",
   "execution_count": null,
   "metadata": {},
   "outputs": [],
   "source": []
  }
 ],
 "metadata": {
  "interpreter": {
   "hash": "916dbcbb3f70747c44a77c7bcd40155683ae19c65e1c03b4aa3499c5328201f1"
  },
  "kernelspec": {
   "display_name": "Python 3.8.10 64-bit",
   "language": "python",
   "name": "python3"
  },
  "language_info": {
   "codemirror_mode": {
    "name": "ipython",
    "version": 3
   },
   "file_extension": ".py",
   "mimetype": "text/x-python",
   "name": "python",
   "nbconvert_exporter": "python",
   "pygments_lexer": "ipython3",
   "version": "3.8.10"
  },
  "orig_nbformat": 4
 },
 "nbformat": 4,
 "nbformat_minor": 2
}
