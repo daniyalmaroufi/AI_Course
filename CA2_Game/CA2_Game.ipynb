{
 "cells": [
  {
   "cell_type": "markdown",
   "metadata": {},
   "source": [
    "![University of Tehran](./img/UT.png)\n",
    "#   <font color='red'><center>AI CA 2 - Game<center></font> \n",
    "## <center>Dr. Fadaei<center>\n",
    "### <center>Daniyal Maroufi<center>\n",
    "### <center>810098039<center>\n"
   ]
  },
  {
   "cell_type": "markdown",
   "metadata": {},
   "source": [
    "## Aim\n",
    "\n",
    "This assignment uses adversarial game algorithms such as minimax and alpha-beta pruning algorithms to play the Connect4 game against a computer. "
   ]
  },
  {
   "cell_type": "markdown",
   "metadata": {},
   "source": [
    "## Game"
   ]
  },
  {
   "cell_type": "code",
   "execution_count": 1,
   "metadata": {},
   "outputs": [],
   "source": [
    "from random import random\n",
    "from time import time\n",
    "from matplotlib import pyplot as plt\n",
    "import math\n",
    "import copy\n",
    "import pickle\n"
   ]
  },
  {
   "cell_type": "code",
   "execution_count": 2,
   "metadata": {},
   "outputs": [],
   "source": [
    "class ConnectSin:\n",
    "    YOU = 1\n",
    "    CPU = -1\n",
    "    EMPTY = 0\n",
    "    DRAW = 0\n",
    "    __CONNECT_NUMBER = 4\n",
    "    board = None\n",
    "\n",
    "    def __init__(self, board_size=(6, 7), silent=False):\n",
    "        \"\"\"\n",
    "        The main class for the connect4 game\n",
    "\n",
    "        Inputs\n",
    "        ----------\n",
    "        board_size : a tuple representing the board size in format: (rows, columns)\n",
    "        silent     : whether the game prints outputs or not\n",
    "        \"\"\"\n",
    "        assert len(board_size) == 2, \"board size should be a 1*2 tuple\"\n",
    "        assert board_size[0] > 4 and board_size[1] > 4, \"board size should be at least 5*5\"\n",
    "\n",
    "        self.columns = board_size[1]\n",
    "        self.rows = board_size[0]\n",
    "        self.silent = silent\n",
    "        self.board_size = self.rows * self.columns\n",
    "\n",
    "    def run(self, starter=None):\n",
    "        \"\"\"\n",
    "        runs the game!\n",
    "\n",
    "        Inputs\n",
    "        ----------\n",
    "        starter : either -1,1 or None. -1 if cpu starts the game, 1 if you start the game. None if you want the starter\n",
    "            to be assigned randomly \n",
    "\n",
    "        Output\n",
    "        ----------\n",
    "        (int) either 1,0,-1. 1 meaning you have won, -1 meaning the player has won and 0 means that the game has drawn\n",
    "        \"\"\"\n",
    "        if (not starter):\n",
    "            starter = self.__get_random_starter()\n",
    "        assert starter in [self.YOU, self.CPU], \"starter value can only be 1,-1 or None\"\n",
    "        \n",
    "        self.__init_board()\n",
    "        turns_played = 0\n",
    "        current_player = starter\n",
    "        while(turns_played < self.board_size):\n",
    "            \n",
    "            if (current_player == self.YOU):\n",
    "                self.__print_board()\n",
    "                player_input = self.get_your_input()\n",
    "            elif (current_player == self.CPU):\n",
    "                player_input = self.__get_cpu_input()\n",
    "            else:\n",
    "                raise Exception(\"A problem has happend! contact no one, there is no fix!\")\n",
    "            if (not self.register_input(player_input, current_player)):\n",
    "                self.__print(\"this move is invalid!\")\n",
    "                continue\n",
    "            current_player = self.__change_turn(current_player)\n",
    "            potential_winner = self.check_for_winners()\n",
    "            turns_played += 1\n",
    "            if (potential_winner != 0):\n",
    "                self.__print_board()\n",
    "                self.__print_winner_message(potential_winner)\n",
    "                return potential_winner\n",
    "        self.__print_board()\n",
    "        self.__print(\"The game has ended in a draw!\")\n",
    "        return self.DRAW\n",
    "\n",
    "    def get_your_input(self):\n",
    "        \"\"\"\n",
    "        gets your input\n",
    "\n",
    "        Output\n",
    "        ----------\n",
    "        (int) an integer between 1 and column count. the column to put a piece in\n",
    "        \"\"\"\n",
    "        depth=1\n",
    "\n",
    "        player=MiniMaxPlayer(self,depth,self.__CONNECT_NUMBER)\n",
    "        return player.decision()\n",
    "\n",
    "    def check_for_winners(self):\n",
    "        \"\"\"\n",
    "        checks if anyone has won in this position\n",
    "\n",
    "        Output\n",
    "        ----------\n",
    "        (int) either 1,0,-1. 1 meaning you have won, -1 meaning the player has won and 0 means that nothing has happened\n",
    "        \"\"\"\n",
    "        have_you_won = self.check_if_player_has_won(self.YOU)\n",
    "        if have_you_won:\n",
    "            return self.YOU\n",
    "        has_cpu_won = self.check_if_player_has_won(self.CPU)\n",
    "        if has_cpu_won:\n",
    "            return self.CPU\n",
    "        return self.EMPTY\n",
    "\n",
    "    def check_if_player_has_won(self, player_id):\n",
    "        \"\"\"\n",
    "        checks if player with player_id has won\n",
    "\n",
    "        Inputs\n",
    "        ----------\n",
    "        player_id : the id for the player to check\n",
    "\n",
    "        Output\n",
    "        ----------\n",
    "        (boolean) true if the player has won in this position\n",
    "        \"\"\"\n",
    "        return (\n",
    "            self.__has_player_won_diagonally(player_id)\n",
    "            or self.__has_player_won_horizentally(player_id)\n",
    "            or self.__has_player_won_vertically(player_id)\n",
    "        )\n",
    "    \n",
    "    def is_move_valid(self, move):\n",
    "        \"\"\"\n",
    "        checks if this move can be played\n",
    "\n",
    "        Inputs\n",
    "        ----------\n",
    "        move : the column to place a piece in, in range [1, column count]\n",
    "\n",
    "        Output\n",
    "        ----------\n",
    "        (boolean) true if the move can be played\n",
    "        \"\"\"\n",
    "        if (move < 1 or move > self.columns):\n",
    "            return False\n",
    "        column_index = move - 1\n",
    "        return self.board[0][column_index] == 0\n",
    "    \n",
    "    def get_possible_moves(self):\n",
    "        \"\"\"\n",
    "        returns a list of possible moves for the next move\n",
    "\n",
    "        Output\n",
    "        ----------\n",
    "        (list) a list of numbers of columns that a piece can be placed in\n",
    "        \"\"\"\n",
    "        possible_moves = []\n",
    "        for i in range(self.columns):\n",
    "            move = i + 1\n",
    "            if (self.is_move_valid(move)):\n",
    "                possible_moves.append(move)\n",
    "        return possible_moves\n",
    "    \n",
    "    def register_input(self, player_input, current_player):\n",
    "        \"\"\"\n",
    "        registers move to board, remember that this function changes the board\n",
    "\n",
    "        Inputs\n",
    "        ----------\n",
    "        player_input : the column to place a piece in, in range [1, column count]\n",
    "        current_player: ID of the current player, either self.YOU or self.CPU\n",
    "\n",
    "        \"\"\"\n",
    "        if (not self.is_move_valid(player_input)):\n",
    "            return False\n",
    "        self.__drop_piece_in_column(player_input, current_player)\n",
    "        return True\n",
    "\n",
    "    def __init_board(self):\n",
    "        self.board = []\n",
    "        for i in range(self.rows):\n",
    "            self.board.append([self.EMPTY] * self.columns)\n",
    "\n",
    "    def __print(self, message: str):\n",
    "        if not self.silent:\n",
    "            print(message)\n",
    "\n",
    "    def __has_player_won_horizentally(self, player_id):\n",
    "        for i in range(self.rows):\n",
    "            for j in range(self.columns - self.__CONNECT_NUMBER + 1):\n",
    "                has_won = True\n",
    "                for x in range(self.__CONNECT_NUMBER):\n",
    "                    if self.board[i][j + x] != player_id:\n",
    "                        has_won = False\n",
    "                        break\n",
    "                if has_won:\n",
    "                    return True\n",
    "        return False\n",
    "\n",
    "    def __has_player_won_vertically(self, player_id):\n",
    "        for i in range(self.rows - self.__CONNECT_NUMBER + 1):\n",
    "            for j in range(self.columns):\n",
    "                has_won = True\n",
    "                for x in range(self.__CONNECT_NUMBER):\n",
    "                    if self.board[i + x][j] != player_id:\n",
    "                        has_won = False\n",
    "                        break\n",
    "                if has_won:\n",
    "                    return True\n",
    "        return False\n",
    "\n",
    "    def __has_player_won_diagonally(self, player_id):\n",
    "        for i in range(self.rows - self.__CONNECT_NUMBER + 1):\n",
    "            for j in range(self.columns - self.__CONNECT_NUMBER + 1):\n",
    "                has_won = True\n",
    "                for x in range(self.__CONNECT_NUMBER):\n",
    "                    if self.board[i + x][j + x] != player_id:\n",
    "                        has_won = False\n",
    "                        break\n",
    "                if has_won:\n",
    "                    return True\n",
    "                has_won = True\n",
    "                for x in range(self.__CONNECT_NUMBER):\n",
    "                    if self.board[i + self.__CONNECT_NUMBER - 1 - x][j + x] != player_id:\n",
    "                        has_won = False\n",
    "                        break\n",
    "                if has_won:\n",
    "                    return True\n",
    "        return False\n",
    "\n",
    "    def __get_random_starter(self):\n",
    "        players = [self.YOU, self.CPU]\n",
    "        return players[int(random() * len(players))]\n",
    "    \n",
    "    def __get_cpu_input(self):\n",
    "        \"\"\"\n",
    "        This is where clean code goes to die.\n",
    "        \"\"\"\n",
    "        bb = copy.deepcopy(self.board)\n",
    "        pm = self.get_possible_moves()\n",
    "        for m in pm:\n",
    "            self.register_input(m, self.CPU)\n",
    "            if (self.check_if_player_has_won(self.CPU)):\n",
    "                self.board = bb\n",
    "                return m\n",
    "            self.board = copy.deepcopy(bb)\n",
    "        if (self.is_move_valid((self.columns // 2) + 1)):\n",
    "            c = 0\n",
    "            cl = (self.columns // 2) + 1\n",
    "            for x in range(self.rows):\n",
    "                if (self.board[x][cl] == self.CPU):\n",
    "                    c += 1\n",
    "            if (random() < 0.65):\n",
    "                return cl\n",
    "        return pm[int(random() * len(pm))]\n",
    "\n",
    "\n",
    "    def __drop_piece_in_column(self, move, current_player):\n",
    "        last_empty_space = 0\n",
    "        column_index = move - 1\n",
    "        for i in range(self.rows):\n",
    "            if (self.board[i][column_index] == 0):\n",
    "                last_empty_space = i\n",
    "        self.board[last_empty_space][column_index] = current_player\n",
    "        return True\n",
    "        \n",
    "    def __print_winner_message(self, winner):\n",
    "        if (winner == self.YOU):\n",
    "            self.__print(\"congrats! you have won!\")\n",
    "        else:\n",
    "            self.__print(\"gg. CPU has won!\")\n",
    "    \n",
    "    def __change_turn(self, turn):\n",
    "        if (turn == self.YOU): \n",
    "            return self.CPU\n",
    "        else:\n",
    "            return self.YOU\n",
    "\n",
    "    def __print_board(self):\n",
    "        if (self.silent): return\n",
    "        print(\"Y: you, C: CPU\")\n",
    "        for i in range(self.rows):\n",
    "            for j in range(self.columns):\n",
    "                house_char = \"O\"\n",
    "                if (self.board[i][j] == self.YOU):\n",
    "                    house_char = \"Y\"\n",
    "                elif (self.board[i][j] == self.CPU):\n",
    "                    house_char = \"C\"\n",
    "                    \n",
    "                print(f\"{house_char}\", end=\" \")\n",
    "            print()\n"
   ]
  },
  {
   "cell_type": "markdown",
   "metadata": {},
   "source": [
    "## Node of Tree"
   ]
  },
  {
   "cell_type": "code",
   "execution_count": 3,
   "metadata": {},
   "outputs": [],
   "source": [
    "class Node:\n",
    "    utility=None\n",
    "    parrent=None\n",
    "    childs=[]\n",
    "    move=0\n",
    "    player=None\n",
    "\n",
    "    def __init__(self, _board, _player):\n",
    "        self.board=copy.deepcopy(_board)\n",
    "        self.player=_player\n",
    "        self.columns=len(self.board[0])\n",
    "        self.rows=len(self.board)\n",
    "    \n",
    "    def get_possible_moves(self):\n",
    "        \"\"\"\n",
    "        returns a list of possible moves for the next move\n",
    "\n",
    "        Output\n",
    "        ----------\n",
    "        (list) a list of numbers of columns that a piece can be placed in\n",
    "        \"\"\"\n",
    "        possible_moves = []\n",
    "        for i in range(self.columns):\n",
    "            move = i + 1\n",
    "            if (self.is_move_valid(move)):\n",
    "                possible_moves.append(move)\n",
    "        return possible_moves\n",
    "    \n",
    "    def register_input(self, player_input):\n",
    "        \"\"\"\n",
    "        registers move to board, remember that this function changes the board\n",
    "\n",
    "        Inputs\n",
    "        ----------\n",
    "        player_input : the column to place a piece in, in range [1, column count]\n",
    "\n",
    "        \"\"\"\n",
    "        if (not self.is_move_valid(player_input)):\n",
    "            return False\n",
    "        self.__drop_piece_in_column(player_input, self.player)\n",
    "        return True\n",
    "\n",
    "    def is_move_valid(self, move):\n",
    "        \"\"\"\n",
    "        checks if this move can be played\n",
    "\n",
    "        Inputs\n",
    "        ----------\n",
    "        move : the column to place a piece in, in range [1, column count]\n",
    "\n",
    "        Output\n",
    "        ----------\n",
    "        (boolean) true if the move can be played\n",
    "        \"\"\"\n",
    "        if (move < 1 or move > self.columns):\n",
    "            return False\n",
    "        column_index = move - 1\n",
    "        return self.board[0][column_index] == 0\n",
    "    \n",
    "    def __drop_piece_in_column(self, move, current_player):\n",
    "        last_empty_space = 0\n",
    "        column_index = move - 1\n",
    "        for i in range(self.rows):\n",
    "            if (self.board[i][column_index] == 0):\n",
    "                last_empty_space = i\n",
    "        self.board[last_empty_space][column_index] = current_player\n",
    "        return True\n"
   ]
  },
  {
   "cell_type": "markdown",
   "metadata": {},
   "source": [
    "# Description of Utility Function\n",
    "\n",
    "The agent should try to win the game (place four pieces in a vertical, horizontal, or diagonal line) and at the same time prevent the opponent from winning. Hence, we define the utility function as the difference in the score of the two agents.\n",
    "\n",
    "The score of each agent is the sum of the placed pieces to create the Connect4 in a horizontal, vertical, or diagonal line. If we call our agent 'Y' and the opponent 'C', the score of 'Y' is three, and the agent 'C' is two in the following state. Because 'Y' has three ways to win, 'C' has two methods to win.\n",
    "\n",
    "![score](./img/score.jpg)"
   ]
  },
  {
   "cell_type": "markdown",
   "metadata": {},
   "source": [
    "# MiniMax Agent"
   ]
  },
  {
   "cell_type": "code",
   "execution_count": 4,
   "metadata": {},
   "outputs": [],
   "source": [
    "class MiniMaxPlayer:\n",
    "    def __init__(self,_game,_depth,_CONNECT_NUMBER):\n",
    "        self.game=_game\n",
    "        self.max_depth=_depth\n",
    "        self.__CONNECT_NUMBER=_CONNECT_NUMBER\n",
    "\n",
    "    def decision(self):\n",
    "        # return 1\n",
    "        root=Node(self.game.board, self.game.YOU)\n",
    "        _, move=self.max_value(root)\n",
    "        if move is None:\n",
    "            print('move is None')\n",
    "\n",
    "            print(\"Y: you, C: CPU\")\n",
    "            for i in range(self.game.rows):\n",
    "                for j in range(self.game.columns):\n",
    "                    house_char = \"O\"\n",
    "                    if (self.game.board[i][j] == self.game.YOU):\n",
    "                        house_char = \"Y\"\n",
    "                    elif (self.game.board[i][j] == self.game.CPU):\n",
    "                        house_char = \"C\"\n",
    "                        \n",
    "                    print(f\"{house_char}\", end=\" \")\n",
    "                print()\n",
    "\n",
    "\n",
    "        return move\n",
    "\n",
    "\n",
    "    def __change_turn(self, turn):\n",
    "        if (turn == self.game.YOU): \n",
    "            return self.game.CPU\n",
    "        else:\n",
    "            return self.game.YOU\n",
    "\n",
    "    def __has_player_won_horizentally(self, board, player_id):\n",
    "        utility=0\n",
    "        for i in range(self.game.rows):\n",
    "            for j in range(self.game.columns - self.__CONNECT_NUMBER + 1):\n",
    "                chance = True\n",
    "                presence=0\n",
    "                for x in range(self.__CONNECT_NUMBER):\n",
    "                    if board[i][j + x] == self.__change_turn(player_id):\n",
    "                        chance = False\n",
    "                        presence+=1\n",
    "                        break\n",
    "                if chance:\n",
    "                    utility+=1\n",
    "                if presence==self.__CONNECT_NUMBER:\n",
    "                    return math.inf\n",
    "        return utility\n",
    "\n",
    "    def __has_player_won_vertically(self,board, player_id):\n",
    "        utility=0\n",
    "        for i in range(self.game.rows - self.__CONNECT_NUMBER + 1):\n",
    "            for j in range(self.game.columns):\n",
    "                chance = True\n",
    "                presence=0\n",
    "                for x in range(self.__CONNECT_NUMBER):\n",
    "                    if board[i + x][j] == self.__change_turn(player_id):\n",
    "                        chance = False\n",
    "                        presence+=1\n",
    "                        break\n",
    "                if chance:\n",
    "                    utility+=1\n",
    "                if presence==self.__CONNECT_NUMBER:\n",
    "                    return math.inf\n",
    "        return utility\n",
    "\n",
    "    def __has_player_won_diagonally(self,board, player_id):\n",
    "        utility=0\n",
    "        for i in range(self.game.rows - self.__CONNECT_NUMBER + 1):\n",
    "            for j in range(self.game.columns - self.__CONNECT_NUMBER + 1):\n",
    "                chance = True\n",
    "                precense=0\n",
    "                for x in range(self.__CONNECT_NUMBER):\n",
    "                    if board[i + x][j + x] == self.__change_turn(player_id):\n",
    "                        chance = False\n",
    "                        precense+=1\n",
    "                        break\n",
    "                if chance:\n",
    "                    utility+=1\n",
    "                if precense==self.__CONNECT_NUMBER:\n",
    "                    return math.inf\n",
    "                chance = True\n",
    "                precense=0\n",
    "                for x in range(self.__CONNECT_NUMBER):\n",
    "                    if board[i + self.__CONNECT_NUMBER - 1 - x][j + x] == self.__change_turn(player_id):\n",
    "                        chance = False\n",
    "                        precense+=1\n",
    "                        break\n",
    "                if chance:\n",
    "                    utility+=1\n",
    "                if precense==self.__CONNECT_NUMBER:\n",
    "                    return math.inf\n",
    "        return utility\n",
    "\n",
    "    def player_utility(self,board,turn):\n",
    "        utility=self.__has_player_won_horizentally(board,turn)\n",
    "        utility+=self.__has_player_won_vertically(board,turn)\n",
    "        utility+=self.__has_player_won_diagonally(board,turn)\n",
    "        return utility\n",
    "\n",
    "    def utility(self,board,turn):\n",
    "        return self.player_utility(board,turn)-self.player_utility(board,self.__change_turn(turn))\n",
    "\n",
    "    def max_value(self, root, depth=0):\n",
    "        if depth>self.max_depth:\n",
    "            return (self.utility(root.board,self.game.YOU), root.move)\n",
    "\n",
    "        best_move=(None,None)\n",
    "\n",
    "        for move in root.get_possible_moves():\n",
    "            child=Node(root.board,depth+1)\n",
    "            child.register_input(move)\n",
    "            child.move=move\n",
    "            # child.parrent=root\n",
    "            # root.childs.append(child)\n",
    "            the_min=self.min_value(child, depth+1)\n",
    "            if the_min[0] is None:\n",
    "                continue\n",
    "            action_utility, _=the_min[0], the_min[1]\n",
    "            if best_move[0] is None:\n",
    "                best_move=(action_utility, move)\n",
    "            else:\n",
    "                if action_utility>best_move[0]:\n",
    "                    best_move=(action_utility, move)\n",
    "\n",
    "        return best_move\n",
    "\n",
    "    def min_value(self, root, depth=0):\n",
    "        if depth>self.max_depth:\n",
    "            return (self.utility(root.board,self.game.CPU), root.move)\n",
    "\n",
    "        best_move=(None,None)\n",
    "\n",
    "        for move in root.get_possible_moves():\n",
    "            child=Node(root.board,depth+1)\n",
    "            child.register_input(move)\n",
    "            child.move=move\n",
    "            # child.parrent=root\n",
    "            # root.childs.append(child)\n",
    "            the_max=self.max_value(child, depth+1)\n",
    "            if the_max[0] is None:\n",
    "                continue\n",
    "            action_utility, _=the_max[0], the_max[1]\n",
    "            if best_move[0] is None:\n",
    "                best_move=(action_utility, move)\n",
    "            else:\n",
    "                if action_utility<best_move[0]:\n",
    "                    best_move=(action_utility, move)\n",
    "\n",
    "        if best_move[0] is None:\n",
    "            return (math.inf, root.move)\n",
    "        return best_move\n",
    "\n",
    "\n"
   ]
  },
  {
   "cell_type": "markdown",
   "metadata": {},
   "source": [
    "## Results for Depth 5"
   ]
  },
  {
   "cell_type": "code",
   "execution_count": null,
   "metadata": {},
   "outputs": [],
   "source": [
    "board_sizes_to_check = [(6,7), \n",
    "                        (7,8), \n",
    "                        (7,10)]\n",
    "\n",
    "history=[]\n",
    "for b_size in board_sizes_to_check:\n",
    "    hist=[]\n",
    "    for i in range(200):\n",
    "        tic=time()\n",
    "        game = ConnectSin(board_size=b_size,silent=True)\n",
    "        a=game.run()\n",
    "        toc=time()\n",
    "        hist.append((toc-tic,a))\n",
    "        print(b_size,'run:',i+1,',time:',toc-tic,'s r:',a)\n",
    "    history.append((b_size,hist))\n",
    "\n"
   ]
  },
  {
   "cell_type": "code",
   "execution_count": null,
   "metadata": {},
   "outputs": [],
   "source": [
    "\n",
    "with open('history_depth5.pkl', 'wb') as dbfile:\n",
    "    pickle.dump(history, dbfile)\n"
   ]
  },
  {
   "cell_type": "code",
   "execution_count": 9,
   "metadata": {},
   "outputs": [
    {
     "data": {
      "image/png": "[encoded data removed]",
      "text/plain": [
       "<Figure size 432x288 with 1 Axes>"
      ]
     },
     "metadata": {
      "needs_background": "light"
     },
     "output_type": "display_data"
    },
    {
     "data": {
      "image/png": "[encoded data removed]",
      "text/plain": [
       "<Figure size 432x288 with 1 Axes>"
      ]
     },
     "metadata": {
      "needs_background": "light"
     },
     "output_type": "display_data"
    },
    {
     "data": {
      "image/png": "[encoded data removed]",
      "text/plain": [
       "<Figure size 432x288 with 1 Axes>"
      ]
     },
     "metadata": {
      "needs_background": "light"
     },
     "output_type": "display_data"
    }
   ],
   "source": [
    "\n",
    "with open('history_depth5.pkl', 'rb') as dbfile:\n",
    "    history=pickle.load(dbfile)\n",
    "\n",
    "for b_size, hist in history:\n",
    "    h=[a[1] for a in hist]\n",
    "    plt.hist(h)\n",
    "    plt.xticks([-1,0,1])\n",
    "    plt.title('Depth: 5 for size: '+str(b_size))\n",
    "    plt.show()\n"
   ]
  },
  {
   "cell_type": "code",
   "execution_count": 10,
   "metadata": {},
   "outputs": [
    {
     "name": "stdout",
     "output_type": "stream",
     "text": [
      "The winning chance of the agent for depth 5 and board size (6, 7) is 0.9666666666666667\n",
      "The winning chance of the agent for depth 5 and board size (7, 8) is 0.9166666666666666\n",
      "The winning chance of the agent for depth 5 and board size (7, 10) is 0.9166666666666666\n"
     ]
    }
   ],
   "source": [
    "\n",
    "for b_size, hist in history:\n",
    "    h=[a[1] for a in hist]\n",
    "    wins=len([a for a in h if a==1])\n",
    "    print('The winning chance of the agent for depth 5 and board size',b_size,'is', wins/60)\n"
   ]
  },
  {
   "cell_type": "code",
   "execution_count": 11,
   "metadata": {},
   "outputs": [
    {
     "name": "stdout",
     "output_type": "stream",
     "text": [
      "The total time to find the solution for depth 5 and board size (6, 7) is 2966.657167673111  (s)\n",
      "The total time to find the solution for depth 5 and board size (7, 8) is 9361.488224029541  (s)\n",
      "The total time to find the solution for depth 5 and board size (7, 10) is 46537.529108047485  (s)\n"
     ]
    }
   ],
   "source": [
    "for b_size, hist in history:\n",
    "    t=[a[0] for a in hist]\n",
    "    total_time=sum([a for a in t])\n",
    "    print('The total time to find the solution for depth 5 and board size',b_size,'is', total_time,' (s)')\n"
   ]
  },
  {
   "cell_type": "markdown",
   "metadata": {},
   "source": [
    "## Results for Depth 3"
   ]
  },
  {
   "cell_type": "code",
   "execution_count": null,
   "metadata": {},
   "outputs": [],
   "source": [
    "board_sizes_to_check = [(6,7), \n",
    "                        (7,8), \n",
    "                        (7,10)]\n",
    "\n",
    "history=[]\n",
    "for b_size in board_sizes_to_check:\n",
    "    hist=[]\n",
    "    for i in range(200):\n",
    "        tic=time()\n",
    "        game = ConnectSin(board_size=b_size,silent=True)\n",
    "        a=game.run()\n",
    "        toc=time()\n",
    "        hist.append((toc-tic,a))\n",
    "        print(b_size,'run:',i+1,',time:',toc-tic,'s r:',a)\n",
    "    history.append((b_size,hist))\n",
    "\n"
   ]
  },
  {
   "cell_type": "code",
   "execution_count": 12,
   "metadata": {},
   "outputs": [],
   "source": [
    "\n",
    "with open('history_depth3.pkl', 'wb') as dbfile:\n",
    "    pickle.dump(history, dbfile)\n"
   ]
  },
  {
   "cell_type": "code",
   "execution_count": 24,
   "metadata": {},
   "outputs": [
    {
     "data": {
      "image/png": "[encoded data removed]",
      "text/plain": [
       "<Figure size 432x288 with 1 Axes>"
      ]
     },
     "metadata": {
      "needs_background": "light"
     },
     "output_type": "display_data"
    },
    {
     "data": {
      "image/png": "[encoded data removed]",
      "text/plain": [
       "<Figure size 432x288 with 1 Axes>"
      ]
     },
     "metadata": {
      "needs_background": "light"
     },
     "output_type": "display_data"
    },
    {
     "data": {
      "image/png": "[encoded data removed]",
      "text/plain": [
       "<Figure size 432x288 with 1 Axes>"
      ]
     },
     "metadata": {
      "needs_background": "light"
     },
     "output_type": "display_data"
    }
   ],
   "source": [
    "\n",
    "with open('history_depth3.pkl', 'rb') as dbfile:\n",
    "    history=pickle.load(dbfile)\n",
    "\n",
    "for b_size, hist in history:\n",
    "    h=[a[1] for a in hist]\n",
    "    plt.hist(h)\n",
    "    plt.xticks([-1,0,1])\n",
    "    plt.title('Depth: 3 for size: '+str(b_size))\n",
    "    plt.show()\n"
   ]
  },
  {
   "cell_type": "code",
   "execution_count": 18,
   "metadata": {},
   "outputs": [
    {
     "name": "stdout",
     "output_type": "stream",
     "text": [
      "The winning chance of the agent for depth 3 and board size (6, 7) is 0.55\n",
      "The winning chance of the agent for depth 3 and board size (7, 8) is 0.74\n",
      "The winning chance of the agent for depth 3 and board size (7, 10) is 0.655\n"
     ]
    }
   ],
   "source": [
    "\n",
    "for b_size, hist in history:\n",
    "    h=[a[1] for a in hist]\n",
    "    wins=len([a for a in h if a==1])\n",
    "    print('The winning chance of the agent for depth 3 and board size',b_size,'is', wins/200)\n"
   ]
  },
  {
   "cell_type": "code",
   "execution_count": 26,
   "metadata": {},
   "outputs": [
    {
     "name": "stdout",
     "output_type": "stream",
     "text": [
      "The total time to find the solution for depth 3 and board size (6, 7) is 1176.7472474575043  (s)\n",
      "The total time to find the solution for depth 3 and board size (7, 8) is 2363.0203046798706  (s)\n",
      "The total time to find the solution for depth 3 and board size (7, 10) is 9616.12811422348  (s)\n"
     ]
    }
   ],
   "source": [
    "for b_size, hist in history:\n",
    "    t=[a[0] for a in hist]\n",
    "    total_time=sum([a for a in t])\n",
    "    print('The total time to find the solution for depth 3 and board size',b_size,'is', total_time,' (s)')\n"
   ]
  },
  {
   "cell_type": "markdown",
   "metadata": {},
   "source": [
    "## Results for Depth 1"
   ]
  },
  {
   "cell_type": "code",
   "execution_count": null,
   "metadata": {},
   "outputs": [],
   "source": [
    "board_sizes_to_check = [(6,7), \n",
    "                        (7,8), \n",
    "                        (7,10)]\n",
    "\n",
    "history=[]\n",
    "for b_size in board_sizes_to_check:\n",
    "    hist=[]\n",
    "    for i in range(200):\n",
    "        tic=time()\n",
    "        game = ConnectSin(board_size=b_size,silent=True)\n",
    "        a=game.run()\n",
    "        toc=time()\n",
    "        hist.append((toc-tic,a))\n",
    "        print(b_size,'run:',i+1,',time:',toc-tic,'s r:',a)\n",
    "    history.append((b_size,hist))\n"
   ]
  },
  {
   "cell_type": "code",
   "execution_count": 27,
   "metadata": {},
   "outputs": [
    {
     "data": {
      "image/png": "[encoded data removed]",
      "text/plain": [
       "<Figure size 432x288 with 1 Axes>"
      ]
     },
     "metadata": {
      "needs_background": "light"
     },
     "output_type": "display_data"
    },
    {
     "data": {
      "image/png": "[encoded data removed]",
      "text/plain": [
       "<Figure size 432x288 with 1 Axes>"
      ]
     },
     "metadata": {
      "needs_background": "light"
     },
     "output_type": "display_data"
    },
    {
     "data": {
      "image/png": "[encoded data removed]",
      "text/plain": [
       "<Figure size 432x288 with 1 Axes>"
      ]
     },
     "metadata": {
      "needs_background": "light"
     },
     "output_type": "display_data"
    }
   ],
   "source": [
    "\n",
    "with open('history_depth1.pkl', 'rb') as dbfile:\n",
    "    history=pickle.load(dbfile)\n",
    "\n",
    "for b_size, hist in history:\n",
    "    h=[a[1] for a in hist]\n",
    "    plt.hist(h)\n",
    "    plt.xticks([-1,0,1])\n",
    "    plt.title('Depth: 1 for size: '+str(b_size))\n",
    "    plt.show()\n"
   ]
  },
  {
   "cell_type": "code",
   "execution_count": 11,
   "metadata": {},
   "outputs": [
    {
     "name": "stdout",
     "output_type": "stream",
     "text": [
      "The winning chance of the agent for depth 1 and board size (6, 7) is 0.605\n",
      "The winning chance of the agent for depth 1 and board size (7, 8) is 0.76\n",
      "The winning chance of the agent for depth 1 and board size (7, 10) is 0.63\n"
     ]
    }
   ],
   "source": [
    "\n",
    "for b_size, hist in history:\n",
    "    h=[a[1] for a in hist]\n",
    "    wins=len([a for a in h if a==1])\n",
    "    print('The winning chance of the agent for depth 1 and board size',b_size,'is', wins/200)\n"
   ]
  },
  {
   "cell_type": "markdown",
   "metadata": {},
   "source": [
    "As the board size increases, the time consumption of the algorithm increases. Also, As we increase the search depth, it takes more time to find the solution. But the algorithm finds better solutions and its chance of winning increases as it considers deeper states. "
   ]
  },
  {
   "cell_type": "code",
   "execution_count": 28,
   "metadata": {},
   "outputs": [
    {
     "name": "stdout",
     "output_type": "stream",
     "text": [
      "The total time to find the solution for depth 1 and board size (6, 7) is 32.22557353973389\n",
      "The total time to find the solution for depth 1 and board size (7, 8) is 37.4440336227417\n",
      "The total time to find the solution for depth 1 and board size (7, 10) is 99.9102873802185\n"
     ]
    }
   ],
   "source": [
    "for b_size, hist in history:\n",
    "    t=[a[0] for a in hist]\n",
    "    total_time=sum([a for a in t])\n",
    "    print('The total time to find the solution for depth 1 and board size',b_size,'is', total_time)\n"
   ]
  },
  {
   "cell_type": "markdown",
   "metadata": {},
   "source": [
    "# Alpha-Beta Pruning MiniMax Agent"
   ]
  },
  {
   "cell_type": "code",
   "execution_count": 4,
   "metadata": {},
   "outputs": [],
   "source": [
    "class AlphaBetaMiniMaxPlayer:\n",
    "    def __init__(self,_game,_depth,_CONNECT_NUMBER):\n",
    "        self.game=_game\n",
    "        self.max_depth=_depth\n",
    "        self.__CONNECT_NUMBER=_CONNECT_NUMBER\n",
    "\n",
    "    def decision(self):\n",
    "        # return 1\n",
    "        root=Node(self.game.board, self.game.YOU)\n",
    "        _, move=self.max_value(root,-math.inf,math.inf)\n",
    "\n",
    "        return move\n",
    "\n",
    "    def __change_turn(self, turn):\n",
    "        if (turn == self.game.YOU): \n",
    "            return self.game.CPU\n",
    "        else:\n",
    "            return self.game.YOU\n",
    "\n",
    "    def __has_player_won_horizentally(self, board, player_id):\n",
    "        utility=0\n",
    "        for i in range(self.game.rows):\n",
    "            for j in range(self.game.columns - self.__CONNECT_NUMBER + 1):\n",
    "                chance = True\n",
    "                presence=0\n",
    "                for x in range(self.__CONNECT_NUMBER):\n",
    "                    if board[i][j + x] == self.__change_turn(player_id):\n",
    "                        chance = False\n",
    "                        presence+=1\n",
    "                        break\n",
    "                if chance:\n",
    "                    utility+=1\n",
    "                if presence==self.__CONNECT_NUMBER:\n",
    "                    return math.inf\n",
    "        return utility\n",
    "\n",
    "    def __has_player_won_vertically(self,board, player_id):\n",
    "        utility=0\n",
    "        for i in range(self.game.rows - self.__CONNECT_NUMBER + 1):\n",
    "            for j in range(self.game.columns):\n",
    "                chance = True\n",
    "                presence=0\n",
    "                for x in range(self.__CONNECT_NUMBER):\n",
    "                    if board[i + x][j] == self.__change_turn(player_id):\n",
    "                        chance = False\n",
    "                        presence+=1\n",
    "                        break\n",
    "                if chance:\n",
    "                    utility+=1\n",
    "                if presence==self.__CONNECT_NUMBER:\n",
    "                    return math.inf\n",
    "        return utility\n",
    "\n",
    "    def __has_player_won_diagonally(self,board, player_id):\n",
    "        utility=0\n",
    "        for i in range(self.game.rows - self.__CONNECT_NUMBER + 1):\n",
    "            for j in range(self.game.columns - self.__CONNECT_NUMBER + 1):\n",
    "                chance = True\n",
    "                precense=0\n",
    "                for x in range(self.__CONNECT_NUMBER):\n",
    "                    if board[i + x][j + x] == self.__change_turn(player_id):\n",
    "                        chance = False\n",
    "                        precense+=1\n",
    "                        break\n",
    "                if chance:\n",
    "                    utility+=1\n",
    "                if precense==self.__CONNECT_NUMBER:\n",
    "                    return math.inf\n",
    "                chance = True\n",
    "                precense=0\n",
    "                for x in range(self.__CONNECT_NUMBER):\n",
    "                    if board[i + self.__CONNECT_NUMBER - 1 - x][j + x] == self.__change_turn(player_id):\n",
    "                        chance = False\n",
    "                        precense+=1\n",
    "                        break\n",
    "                if chance:\n",
    "                    utility+=1\n",
    "                if precense==self.__CONNECT_NUMBER:\n",
    "                    return math.inf\n",
    "        return utility\n",
    "\n",
    "    def player_utility(self,board,turn):\n",
    "        utility=self.__has_player_won_horizentally(board,turn)\n",
    "        utility+=self.__has_player_won_vertically(board,turn)\n",
    "        utility+=self.__has_player_won_diagonally(board,turn)\n",
    "        return utility\n",
    "\n",
    "    def utility(self,board,turn):\n",
    "        return self.player_utility(board,turn)-self.player_utility(board,self.__change_turn(turn))\n",
    "\n",
    "    def max_value(self, root, alpha, beta, depth=0):\n",
    "        if depth>self.max_depth:\n",
    "            return (self.utility(root.board,self.game.YOU), root.move)\n",
    "\n",
    "        best_move=(None,None)\n",
    "\n",
    "        for move in root.get_possible_moves():\n",
    "            child=Node(root.board,depth+1)\n",
    "            child.register_input(move)\n",
    "            child.move=move\n",
    "            # child.parrent=root\n",
    "            # root.childs.append(child)\n",
    "            the_min=self.min_value(child,alpha,beta,depth+1)\n",
    "            if the_min[0] is None:\n",
    "                continue\n",
    "            action_utility, _=the_min[0], the_min[1]\n",
    "            if best_move[0] is None:\n",
    "                best_move=(action_utility, move)\n",
    "            else:\n",
    "                if action_utility>best_move[0]:\n",
    "                    best_move=(action_utility, move)\n",
    "            \n",
    "            if action_utility>=beta:\n",
    "                return (action_utility, move)\n",
    "            alpha=max(alpha,action_utility)\n",
    "\n",
    "        return best_move\n",
    "\n",
    "    def min_value(self, root, alpha, beta, depth=0):\n",
    "        if depth>self.max_depth:\n",
    "            return (self.utility(root.board,self.game.CPU), root.move)\n",
    "\n",
    "        best_move=(None,None)\n",
    "\n",
    "        for move in root.get_possible_moves():\n",
    "            child=Node(root.board,depth+1)\n",
    "            child.register_input(move)\n",
    "            child.move=move\n",
    "            # child.parrent=root\n",
    "            # root.childs.append(child)\n",
    "            the_max=self.max_value(child,alpha,beta,depth+1)\n",
    "            if the_max[0] is None:\n",
    "                continue\n",
    "            action_utility, _=the_max[0], the_max[1]\n",
    "            if best_move[0] is None:\n",
    "                best_move=(action_utility, move)\n",
    "            else:\n",
    "                if action_utility<best_move[0]:\n",
    "                    best_move=(action_utility, move)\n",
    "            \n",
    "            if action_utility<=alpha:\n",
    "                return (action_utility, move)\n",
    "            beta=min(beta,action_utility)\n",
    "\n",
    "        if best_move[0] is None:\n",
    "            return (math.inf, root.move)\n",
    "        return best_move\n",
    "\n",
    "\n"
   ]
  },
  {
   "cell_type": "code",
   "execution_count": 17,
   "metadata": {},
   "outputs": [],
   "source": [
    "class ConnectSin:\n",
    "    YOU = 1\n",
    "    CPU = -1\n",
    "    EMPTY = 0\n",
    "    DRAW = 0\n",
    "    __CONNECT_NUMBER = 4\n",
    "    board = None\n",
    "\n",
    "    def __init__(self, board_size=(6, 7), silent=False):\n",
    "        \"\"\"\n",
    "        The main class for the connect4 game\n",
    "\n",
    "        Inputs\n",
    "        ----------\n",
    "        board_size : a tuple representing the board size in format: (rows, columns)\n",
    "        silent     : whether the game prints outputs or not\n",
    "        \"\"\"\n",
    "        assert len(board_size) == 2, \"board size should be a 1*2 tuple\"\n",
    "        assert board_size[0] > 4 and board_size[1] > 4, \"board size should be at least 5*5\"\n",
    "\n",
    "        self.columns = board_size[1]\n",
    "        self.rows = board_size[0]\n",
    "        self.silent = silent\n",
    "        self.board_size = self.rows * self.columns\n",
    "\n",
    "    def run(self, starter=None):\n",
    "        \"\"\"\n",
    "        runs the game!\n",
    "\n",
    "        Inputs\n",
    "        ----------\n",
    "        starter : either -1,1 or None. -1 if cpu starts the game, 1 if you start the game. None if you want the starter\n",
    "            to be assigned randomly \n",
    "\n",
    "        Output\n",
    "        ----------\n",
    "        (int) either 1,0,-1. 1 meaning you have won, -1 meaning the player has won and 0 means that the game has drawn\n",
    "        \"\"\"\n",
    "        if (not starter):\n",
    "            starter = self.__get_random_starter()\n",
    "        assert starter in [self.YOU, self.CPU], \"starter value can only be 1,-1 or None\"\n",
    "        \n",
    "        self.__init_board()\n",
    "        turns_played = 0\n",
    "        current_player = starter\n",
    "        while(turns_played < self.board_size):\n",
    "            \n",
    "            if (current_player == self.YOU):\n",
    "                self.__print_board()\n",
    "                player_input = self.get_your_input()\n",
    "            elif (current_player == self.CPU):\n",
    "                player_input = self.__get_cpu_input()\n",
    "            else:\n",
    "                raise Exception(\"A problem has happend! contact no one, there is no fix!\")\n",
    "            if (not self.register_input(player_input, current_player)):\n",
    "                self.__print(\"this move is invalid!\")\n",
    "                continue\n",
    "            current_player = self.__change_turn(current_player)\n",
    "            potential_winner = self.check_for_winners()\n",
    "            turns_played += 1\n",
    "            if (potential_winner != 0):\n",
    "                self.__print_board()\n",
    "                self.__print_winner_message(potential_winner)\n",
    "                return potential_winner\n",
    "        self.__print_board()\n",
    "        self.__print(\"The game has ended in a draw!\")\n",
    "        return self.DRAW\n",
    "\n",
    "    def get_your_input(self):\n",
    "        \"\"\"\n",
    "        gets your input\n",
    "\n",
    "        Output\n",
    "        ----------\n",
    "        (int) an integer between 1 and column count. the column to put a piece in\n",
    "        \"\"\"\n",
    "        depth=1\n",
    "\n",
    "        player=AlphaBetaMiniMaxPlayer(self,depth,self.__CONNECT_NUMBER)\n",
    "        return player.decision()\n",
    "\n",
    "    def check_for_winners(self):\n",
    "        \"\"\"\n",
    "        checks if anyone has won in this position\n",
    "\n",
    "        Output\n",
    "        ----------\n",
    "        (int) either 1,0,-1. 1 meaning you have won, -1 meaning the player has won and 0 means that nothing has happened\n",
    "        \"\"\"\n",
    "        have_you_won = self.check_if_player_has_won(self.YOU)\n",
    "        if have_you_won:\n",
    "            return self.YOU\n",
    "        has_cpu_won = self.check_if_player_has_won(self.CPU)\n",
    "        if has_cpu_won:\n",
    "            return self.CPU\n",
    "        return self.EMPTY\n",
    "\n",
    "    def check_if_player_has_won(self, player_id):\n",
    "        \"\"\"\n",
    "        checks if player with player_id has won\n",
    "\n",
    "        Inputs\n",
    "        ----------\n",
    "        player_id : the id for the player to check\n",
    "\n",
    "        Output\n",
    "        ----------\n",
    "        (boolean) true if the player has won in this position\n",
    "        \"\"\"\n",
    "        return (\n",
    "            self.__has_player_won_diagonally(player_id)\n",
    "            or self.__has_player_won_horizentally(player_id)\n",
    "            or self.__has_player_won_vertically(player_id)\n",
    "        )\n",
    "    \n",
    "    def is_move_valid(self, move):\n",
    "        \"\"\"\n",
    "        checks if this move can be played\n",
    "\n",
    "        Inputs\n",
    "        ----------\n",
    "        move : the column to place a piece in, in range [1, column count]\n",
    "\n",
    "        Output\n",
    "        ----------\n",
    "        (boolean) true if the move can be played\n",
    "        \"\"\"\n",
    "        if (move < 1 or move > self.columns):\n",
    "            return False\n",
    "        column_index = move - 1\n",
    "        return self.board[0][column_index] == 0\n",
    "    \n",
    "    def get_possible_moves(self):\n",
    "        \"\"\"\n",
    "        returns a list of possible moves for the next move\n",
    "\n",
    "        Output\n",
    "        ----------\n",
    "        (list) a list of numbers of columns that a piece can be placed in\n",
    "        \"\"\"\n",
    "        possible_moves = []\n",
    "        for i in range(self.columns):\n",
    "            move = i + 1\n",
    "            if (self.is_move_valid(move)):\n",
    "                possible_moves.append(move)\n",
    "        return possible_moves\n",
    "    \n",
    "    def register_input(self, player_input, current_player):\n",
    "        \"\"\"\n",
    "        registers move to board, remember that this function changes the board\n",
    "\n",
    "        Inputs\n",
    "        ----------\n",
    "        player_input : the column to place a piece in, in range [1, column count]\n",
    "        current_player: ID of the current player, either self.YOU or self.CPU\n",
    "\n",
    "        \"\"\"\n",
    "        if (not self.is_move_valid(player_input)):\n",
    "            return False\n",
    "        self.__drop_piece_in_column(player_input, current_player)\n",
    "        return True\n",
    "\n",
    "    def __init_board(self):\n",
    "        self.board = []\n",
    "        for i in range(self.rows):\n",
    "            self.board.append([self.EMPTY] * self.columns)\n",
    "\n",
    "    def __print(self, message: str):\n",
    "        if not self.silent:\n",
    "            print(message)\n",
    "\n",
    "    def __has_player_won_horizentally(self, player_id):\n",
    "        for i in range(self.rows):\n",
    "            for j in range(self.columns - self.__CONNECT_NUMBER + 1):\n",
    "                has_won = True\n",
    "                for x in range(self.__CONNECT_NUMBER):\n",
    "                    if self.board[i][j + x] != player_id:\n",
    "                        has_won = False\n",
    "                        break\n",
    "                if has_won:\n",
    "                    return True\n",
    "        return False\n",
    "\n",
    "    def __has_player_won_vertically(self, player_id):\n",
    "        for i in range(self.rows - self.__CONNECT_NUMBER + 1):\n",
    "            for j in range(self.columns):\n",
    "                has_won = True\n",
    "                for x in range(self.__CONNECT_NUMBER):\n",
    "                    if self.board[i + x][j] != player_id:\n",
    "                        has_won = False\n",
    "                        break\n",
    "                if has_won:\n",
    "                    return True\n",
    "        return False\n",
    "\n",
    "    def __has_player_won_diagonally(self, player_id):\n",
    "        for i in range(self.rows - self.__CONNECT_NUMBER + 1):\n",
    "            for j in range(self.columns - self.__CONNECT_NUMBER + 1):\n",
    "                has_won = True\n",
    "                for x in range(self.__CONNECT_NUMBER):\n",
    "                    if self.board[i + x][j + x] != player_id:\n",
    "                        has_won = False\n",
    "                        break\n",
    "                if has_won:\n",
    "                    return True\n",
    "                has_won = True\n",
    "                for x in range(self.__CONNECT_NUMBER):\n",
    "                    if self.board[i + self.__CONNECT_NUMBER - 1 - x][j + x] != player_id:\n",
    "                        has_won = False\n",
    "                        break\n",
    "                if has_won:\n",
    "                    return True\n",
    "        return False\n",
    "\n",
    "    def __get_random_starter(self):\n",
    "        players = [self.YOU, self.CPU]\n",
    "        return players[int(random() * len(players))]\n",
    "    \n",
    "    def __get_cpu_input(self):\n",
    "        \"\"\"\n",
    "        This is where clean code goes to die.\n",
    "        \"\"\"\n",
    "        bb = copy.deepcopy(self.board)\n",
    "        pm = self.get_possible_moves()\n",
    "        for m in pm:\n",
    "            self.register_input(m, self.CPU)\n",
    "            if (self.check_if_player_has_won(self.CPU)):\n",
    "                self.board = bb\n",
    "                return m\n",
    "            self.board = copy.deepcopy(bb)\n",
    "        if (self.is_move_valid((self.columns // 2) + 1)):\n",
    "            c = 0\n",
    "            cl = (self.columns // 2) + 1\n",
    "            for x in range(self.rows):\n",
    "                if (self.board[x][cl] == self.CPU):\n",
    "                    c += 1\n",
    "            if (random() < 0.65):\n",
    "                return cl\n",
    "        return pm[int(random() * len(pm))]\n",
    "\n",
    "\n",
    "    def __drop_piece_in_column(self, move, current_player):\n",
    "        last_empty_space = 0\n",
    "        column_index = move - 1\n",
    "        for i in range(self.rows):\n",
    "            if (self.board[i][column_index] == 0):\n",
    "                last_empty_space = i\n",
    "        self.board[last_empty_space][column_index] = current_player\n",
    "        return True\n",
    "        \n",
    "    def __print_winner_message(self, winner):\n",
    "        if (winner == self.YOU):\n",
    "            self.__print(\"congrats! you have won!\")\n",
    "        else:\n",
    "            self.__print(\"gg. CPU has won!\")\n",
    "    \n",
    "    def __change_turn(self, turn):\n",
    "        if (turn == self.YOU): \n",
    "            return self.CPU\n",
    "        else:\n",
    "            return self.YOU\n",
    "\n",
    "    def __print_board(self):\n",
    "        if (self.silent): return\n",
    "        print(\"Y: you, C: CPU\")\n",
    "        for i in range(self.rows):\n",
    "            for j in range(self.columns):\n",
    "                house_char = \"O\"\n",
    "                if (self.board[i][j] == self.YOU):\n",
    "                    house_char = \"Y\"\n",
    "                elif (self.board[i][j] == self.CPU):\n",
    "                    house_char = \"C\"\n",
    "                    \n",
    "                print(f\"{house_char}\", end=\" \")\n",
    "            print()\n"
   ]
  },
  {
   "cell_type": "markdown",
   "metadata": {},
   "source": [
    "## Results for Depth 7"
   ]
  },
  {
   "cell_type": "code",
   "execution_count": null,
   "metadata": {},
   "outputs": [],
   "source": [
    "board_sizes_to_check = [(6,7), \n",
    "                        (7,8), \n",
    "                        (7,10)]\n",
    "\n",
    "history=[]\n",
    "for b_size in board_sizes_to_check:\n",
    "    hist=[]\n",
    "    for i in range(10):\n",
    "        tic=time()\n",
    "        game = ConnectSin(board_size=b_size,silent=True)\n",
    "        a=game.run()\n",
    "        toc=time()\n",
    "        hist.append((toc-tic,a))\n",
    "        print(b_size,'run:',i+1,',time:',toc-tic,'s r:',a)\n",
    "    history.append((b_size,hist))\n",
    "\n"
   ]
  },
  {
   "cell_type": "code",
   "execution_count": null,
   "metadata": {},
   "outputs": [],
   "source": [
    "\n",
    "with open('alpha_beta_history_depth7.pkl', 'wb') as dbfile:\n",
    "    pickle.dump(history, dbfile)\n"
   ]
  },
  {
   "cell_type": "code",
   "execution_count": 22,
   "metadata": {},
   "outputs": [
    {
     "data": {
      "image/png": "[encoded data removed]",
      "text/plain": [
       "<Figure size 432x288 with 1 Axes>"
      ]
     },
     "metadata": {
      "needs_background": "light"
     },
     "output_type": "display_data"
    }
   ],
   "source": [
    "\n",
    "with open('alpha_beta_history_depth7.pkl', 'rb') as dbfile:\n",
    "    history=pickle.load(dbfile)\n",
    "\n",
    "for b_size, hist in history:\n",
    "    h=[a[1] for a in hist]\n",
    "    plt.hist(h)\n",
    "    plt.xticks([-1,0,1])\n",
    "    plt.title('Depth: 7 for size: '+str(b_size))\n",
    "    plt.show()\n"
   ]
  },
  {
   "cell_type": "code",
   "execution_count": 23,
   "metadata": {},
   "outputs": [
    {
     "name": "stdout",
     "output_type": "stream",
     "text": [
      "The winning chance of the agent for depth 7 and board size (6, 7) is 0.9\n"
     ]
    }
   ],
   "source": [
    "\n",
    "for b_size, hist in history:\n",
    "    h=[a[1] for a in hist]\n",
    "    wins=len([a for a in h if a==1])\n",
    "    print('The winning chance of the agent for depth 7 and board size',b_size,'is', wins/10)\n"
   ]
  },
  {
   "cell_type": "code",
   "execution_count": 24,
   "metadata": {},
   "outputs": [
    {
     "name": "stdout",
     "output_type": "stream",
     "text": [
      "The total time to find the solution for depth 7 and board size (6, 7) is 16437.25051498413\n"
     ]
    }
   ],
   "source": [
    "for b_size, hist in history:\n",
    "    t=[a[0] for a in hist]\n",
    "    total_time=sum([a for a in t])\n",
    "    print('The total time to find the solution for depth 7 and board size',b_size,'is', total_time)\n"
   ]
  },
  {
   "cell_type": "markdown",
   "metadata": {},
   "source": [
    "## Results for Depth 5"
   ]
  },
  {
   "cell_type": "code",
   "execution_count": null,
   "metadata": {},
   "outputs": [],
   "source": [
    "board_sizes_to_check = [(6,7), \n",
    "                        (7,8), \n",
    "                        (7,10)]\n",
    "\n",
    "history=[]\n",
    "for b_size in board_sizes_to_check:\n",
    "    hist=[]\n",
    "    for i in range(60):\n",
    "        tic=time()\n",
    "        game = ConnectSin(board_size=b_size,silent=True)\n",
    "        a=game.run()\n",
    "        toc=time()\n",
    "        hist.append((toc-tic,a))\n",
    "        print(b_size,'run:',i+1,',time:',toc-tic,'s r:',a)\n",
    "    history.append((b_size,hist))\n",
    "\n"
   ]
  },
  {
   "cell_type": "code",
   "execution_count": null,
   "metadata": {},
   "outputs": [],
   "source": [
    "\n",
    "with open('alpha_beta_history_depth5.pkl', 'wb') as dbfile:\n",
    "    pickle.dump(history, dbfile)\n"
   ]
  },
  {
   "cell_type": "code",
   "execution_count": 15,
   "metadata": {},
   "outputs": [
    {
     "data": {
      "image/png": "[encoded data removed]",
      "text/plain": [
       "<Figure size 432x288 with 1 Axes>"
      ]
     },
     "metadata": {
      "needs_background": "light"
     },
     "output_type": "display_data"
    },
    {
     "data": {
      "image/png": "[encoded data removed]",
      "text/plain": [
       "<Figure size 432x288 with 1 Axes>"
      ]
     },
     "metadata": {
      "needs_background": "light"
     },
     "output_type": "display_data"
    },
    {
     "data": {
      "image/png": "[encoded data removed]",
      "text/plain": [
       "<Figure size 432x288 with 1 Axes>"
      ]
     },
     "metadata": {
      "needs_background": "light"
     },
     "output_type": "display_data"
    }
   ],
   "source": [
    "\n",
    "with open('alpha_beta_history_depth5.pkl', 'rb') as dbfile:\n",
    "    history=pickle.load(dbfile)\n",
    "\n",
    "for b_size, hist in history:\n",
    "    h=[a[1] for a in hist]\n",
    "    plt.hist(h)\n",
    "    plt.xticks([-1,0,1])\n",
    "    plt.title('Depth: 5 for size: '+str(b_size))\n",
    "    plt.show()\n"
   ]
  },
  {
   "cell_type": "code",
   "execution_count": 19,
   "metadata": {},
   "outputs": [
    {
     "name": "stdout",
     "output_type": "stream",
     "text": [
      "The winning chance of the agent for depth 5 and board size (6, 7) is 0.7333333333333333\n",
      "The winning chance of the agent for depth 5 and board size (7, 8) is 0.8833333333333333\n",
      "The winning chance of the agent for depth 5 and board size (7, 10) is 0.8166666666666667\n"
     ]
    }
   ],
   "source": [
    "\n",
    "for b_size, hist in history:\n",
    "    h=[a[1] for a in hist]\n",
    "    wins=len([a for a in h if a==1])\n",
    "    print('The winning chance of the agent for depth 5 and board size',b_size,'is', wins/60)\n"
   ]
  },
  {
   "cell_type": "code",
   "execution_count": 20,
   "metadata": {},
   "outputs": [
    {
     "name": "stdout",
     "output_type": "stream",
     "text": [
      "The total time to find the solution for depth 5 and board size (6, 7) is 2602.5592789649963\n",
      "The total time to find the solution for depth 5 and board size (7, 8) is 8716.941375017166\n",
      "The total time to find the solution for depth 5 and board size (7, 10) is 43679.41202998161\n"
     ]
    }
   ],
   "source": [
    "for b_size, hist in history:\n",
    "    t=[a[0] for a in hist]\n",
    "    total_time=sum([a for a in t])\n",
    "    print('The total time to find the solution for depth 5 and board size',b_size,'is', total_time)\n"
   ]
  },
  {
   "cell_type": "markdown",
   "metadata": {},
   "source": [
    "## Results for Depth 3"
   ]
  },
  {
   "cell_type": "code",
   "execution_count": null,
   "metadata": {},
   "outputs": [],
   "source": [
    "board_sizes_to_check = [(6,7), \n",
    "                        (7,8), \n",
    "                        (7,10)]\n",
    "\n",
    "history=[]\n",
    "for b_size in board_sizes_to_check:\n",
    "    hist=[]\n",
    "    for i in range(200):\n",
    "        tic=time()\n",
    "        game = ConnectSin(board_size=b_size,silent=True)\n",
    "        a=game.run()\n",
    "        toc=time()\n",
    "        hist.append((toc-tic,a))\n",
    "        print(b_size,'run:',i+1,',time:',toc-tic,'s r:',a)\n",
    "    history.append((b_size,hist))\n",
    "\n"
   ]
  },
  {
   "cell_type": "code",
   "execution_count": 8,
   "metadata": {},
   "outputs": [],
   "source": [
    "\n",
    "with open('alpha_beta_history_depth3.pkl', 'wb') as dbfile:\n",
    "    pickle.dump(history, dbfile)\n"
   ]
  },
  {
   "cell_type": "code",
   "execution_count": 29,
   "metadata": {},
   "outputs": [
    {
     "data": {
      "image/png": "[encoded data removed]",
      "text/plain": [
       "<Figure size 432x288 with 1 Axes>"
      ]
     },
     "metadata": {
      "needs_background": "light"
     },
     "output_type": "display_data"
    },
    {
     "data": {
      "image/png": "[encoded data removed]",
      "text/plain": [
       "<Figure size 432x288 with 1 Axes>"
      ]
     },
     "metadata": {
      "needs_background": "light"
     },
     "output_type": "display_data"
    },
    {
     "data": {
      "image/png": "[encoded data removed]",
      "text/plain": [
       "<Figure size 432x288 with 1 Axes>"
      ]
     },
     "metadata": {
      "needs_background": "light"
     },
     "output_type": "display_data"
    }
   ],
   "source": [
    "\n",
    "with open('alpha_beta_history_depth3.pkl', 'rb') as dbfile:\n",
    "    history=pickle.load(dbfile)\n",
    "\n",
    "for b_size, hist in history:\n",
    "    h=[a[1] for a in hist]\n",
    "    plt.hist(h)\n",
    "    plt.xticks([-1,0,1])\n",
    "    plt.title('Depth: 3 for size: '+str(b_size))\n",
    "    plt.show()\n"
   ]
  },
  {
   "cell_type": "code",
   "execution_count": 13,
   "metadata": {},
   "outputs": [
    {
     "name": "stdout",
     "output_type": "stream",
     "text": [
      "The winning chance of the agent for depth 3 and board size (6, 7) is 0.58\n",
      "The winning chance of the agent for depth 3 and board size (7, 8) is 0.77\n",
      "The winning chance of the agent for depth 3 and board size (7, 10) is 0.645\n"
     ]
    }
   ],
   "source": [
    "\n",
    "for b_size, hist in history:\n",
    "    h=[a[1] for a in hist]\n",
    "    wins=len([a for a in h if a==1])\n",
    "    print('The winning chance of the agent for depth 3 and board size',b_size,'is', wins/200)\n"
   ]
  },
  {
   "cell_type": "code",
   "execution_count": 30,
   "metadata": {},
   "outputs": [
    {
     "name": "stdout",
     "output_type": "stream",
     "text": [
      "The total time to find the solution for depth 3 and board size (6, 7) is 72.83504724502563\n",
      "The total time to find the solution for depth 3 and board size (7, 8) is 103.60080528259277\n",
      "The total time to find the solution for depth 3 and board size (7, 10) is 283.78727316856384\n"
     ]
    }
   ],
   "source": [
    "for b_size, hist in history:\n",
    "    t=[a[0] for a in hist]\n",
    "    total_time=sum([a for a in t])\n",
    "    print('The total time to find the solution for depth 3 and board size',b_size,'is', total_time)\n"
   ]
  },
  {
   "cell_type": "markdown",
   "metadata": {},
   "source": [
    "## Results for Depth 1"
   ]
  },
  {
   "cell_type": "code",
   "execution_count": null,
   "metadata": {},
   "outputs": [],
   "source": [
    "board_sizes_to_check = [(6,7), \n",
    "                        (7,8), \n",
    "                        (7,10)]\n",
    "\n",
    "history=[]\n",
    "for b_size in board_sizes_to_check:\n",
    "    hist=[]\n",
    "    for i in range(200):\n",
    "        tic=time()\n",
    "        game = ConnectSin(board_size=b_size,silent=True)\n",
    "        a=game.run()\n",
    "        toc=time()\n",
    "        hist.append((toc-tic,a))\n",
    "        print(b_size,'run:',i+1,',time:',toc-tic,'s r:',a)\n",
    "    history.append((b_size,hist))\n",
    "\n"
   ]
  },
  {
   "cell_type": "code",
   "execution_count": 19,
   "metadata": {},
   "outputs": [],
   "source": [
    "\n",
    "with open('alpha_beta_history_depth1.pkl', 'wb') as dbfile:\n",
    "    pickle.dump(history, dbfile)\n"
   ]
  },
  {
   "cell_type": "code",
   "execution_count": 31,
   "metadata": {},
   "outputs": [
    {
     "data": {
      "image/png": "[encoded data removed]",
      "text/plain": [
       "<Figure size 432x288 with 1 Axes>"
      ]
     },
     "metadata": {
      "needs_background": "light"
     },
     "output_type": "display_data"
    },
    {
     "data": {
      "image/png": "[encoded data removed]",
      "text/plain": [
       "<Figure size 432x288 with 1 Axes>"
      ]
     },
     "metadata": {
      "needs_background": "light"
     },
     "output_type": "display_data"
    },
    {
     "data": {
      "image/png": "[encoded data removed]",
      "text/plain": [
       "<Figure size 432x288 with 1 Axes>"
      ]
     },
     "metadata": {
      "needs_background": "light"
     },
     "output_type": "display_data"
    }
   ],
   "source": [
    "\n",
    "with open('alpha_beta_history_depth1.pkl', 'rb') as dbfile:\n",
    "    history=pickle.load(dbfile)\n",
    "\n",
    "for b_size, hist in history:\n",
    "    h=[a[1] for a in hist]\n",
    "    plt.hist(h)\n",
    "    plt.xticks([-1,0,1])\n",
    "    plt.title('Depth: 3 for size: '+str(b_size))\n",
    "    plt.show()\n"
   ]
  },
  {
   "cell_type": "code",
   "execution_count": 23,
   "metadata": {},
   "outputs": [
    {
     "name": "stdout",
     "output_type": "stream",
     "text": [
      "The winning chance of the agent for depth 1 and board size (6, 7) is 0.57\n",
      "The winning chance of the agent for depth 1 and board size (7, 8) is 0.73\n",
      "The winning chance of the agent for depth 1 and board size (7, 10) is 0.655\n"
     ]
    }
   ],
   "source": [
    "\n",
    "for b_size, hist in history:\n",
    "    h=[a[1] for a in hist]\n",
    "    wins=len([a for a in h if a==1])\n",
    "    print('The winning chance of the agent for depth 1 and board size',b_size,'is', wins/200)\n"
   ]
  },
  {
   "cell_type": "code",
   "execution_count": 32,
   "metadata": {},
   "outputs": [
    {
     "name": "stdout",
     "output_type": "stream",
     "text": [
      "The total time to find the solution for depth 3 and board size (6, 7) is 9.481656551361084\n",
      "The total time to find the solution for depth 3 and board size (7, 8) is 9.673524141311646\n",
      "The total time to find the solution for depth 3 and board size (7, 10) is 24.857770204544067\n"
     ]
    }
   ],
   "source": [
    "for b_size, hist in history:\n",
    "    t=[a[0] for a in hist]\n",
    "    total_time=sum([a for a in t])\n",
    "    print('The total time to find the solution for depth 3 and board size',b_size,'is', total_time)\n"
   ]
  },
  {
   "cell_type": "markdown",
   "metadata": {},
   "source": [
    "As it can be seen, using the Alpha-Beta pruning minimax makes the algorithm 12 times faster. The order of the successors of each node is an essential factor in the speed of the algorithm. In this code, the successors are unordered because we find them based on the possible moves. But it is better to sort the minimizer nodes accending and the maximizer nodes descending to get better performance on the algorithm. "
   ]
  },
  {
   "cell_type": "markdown",
   "metadata": {},
   "source": [
    "# Final Results"
   ]
  },
  {
   "cell_type": "markdown",
   "metadata": {},
   "source": [
    "| Algorithm  | Board Size | Depth | Winning Chance (%) | Time Consumption (sec) |\n",
    "| ---------- | ---------- | ----- | ------------------ | ---------------------- |\n",
    "| Alpha-Beta | (6, 7)     | 7     | 90%                | 16437.2                |\n",
    "| MniMax     | (6, 7)     | 5     | 97%                | 2966.6                 |\n",
    "| Alpha-Beta | (6, 7)     | 5     | 73%                | 2602.6                 |\n",
    "| MniMax     | (6, 7)     | 3     | 55%                | 1176.7                 |\n",
    "| Alpha-Beta | (6, 7)     | 3     | 58%                | 72.8                   |\n",
    "| MniMax     | (6, 7)     | 1     | 60%                | 32.2                   |\n",
    "| Alpha-Beta | (6, 7)     | 1     | 57%                | 9.5                    |\n",
    "| MniMax     | (7, 8)     | 5     | 92%                | 9361.5                 |\n",
    "| Alpha-Beta | (7, 8)     | 5     | 88%                | 8716.9                 |\n",
    "| MniMax     | (7, 8)     | 3     | 74%                | 2363                   |\n",
    "| Alpha-Beta | (7, 8)     | 3     | 77%                | 103.6                  |\n",
    "| MniMax     | (7, 8)     | 1     | 76%                | 37.4                   |\n",
    "| Alpha-Beta | (7, 8)     | 1     | 73%                | 9.7                    |\n",
    "| MniMax     | (7, 10)    | 5     | 92%                | 46537.5                |\n",
    "| Alpha-Beta | (7, 10)    | 5     | 82%                | 43679.4                |\n",
    "| MniMax     | (7, 10)    | 3     | 65%                | 9616.1                 |\n",
    "| Alpha-Beta | (7, 10)    | 3     | 65%                | 283.8                  |\n",
    "| MniMax     | (7, 10)    | 1     | 63%                | 99.9                   |\n",
    "| Alpha-Beta | (7, 10)    | 1     | 66%                | 24.9                   |"
   ]
  }
 ],
 "metadata": {
  "interpreter": {
   "hash": "916dbcbb3f70747c44a77c7bcd40155683ae19c65e1c03b4aa3499c5328201f1"
  },
  "kernelspec": {
   "display_name": "Python 3",
   "language": "python",
   "name": "python3"
  },
  "language_info": {
   "codemirror_mode": {
    "name": "ipython",
    "version": 3
   },
   "file_extension": ".py",
   "mimetype": "text/x-python",
   "name": "python",
   "nbconvert_exporter": "python",
   "pygments_lexer": "ipython3",
   "version": "3.8.10"
  }
 },
 "nbformat": 4,
 "nbformat_minor": 2
}
