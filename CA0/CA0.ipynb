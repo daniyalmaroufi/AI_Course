{
 "cells": [
  {
   "cell_type": "markdown",
   "metadata": {},
   "source": [
    "![University of Tehran](./img/UT.png)\n",
    "#   <font color='red'><center>AI CA 0<center></font> \n",
    "## <center>Dr. Yaghoubzade<center>\n",
    "### <center>Daniyal Maroufi<center>\n",
    "### <center>810098039<center>"
   ]
  },
  {
   "cell_type": "markdown",
   "metadata": {},
   "source": [
    "# Aim\n",
    "\n",
    "In this assignment, we are going to visualize a dataset of a bank. Then, using a simple classification model, predict if the customer opens a long-term account or not."
   ]
  },
  {
   "cell_type": "markdown",
   "metadata": {},
   "source": [
    "## Part 1"
   ]
  },
  {
   "cell_type": "markdown",
   "metadata": {},
   "source": [
    "### Part 1.1"
   ]
  },
  {
   "cell_type": "markdown",
   "metadata": {},
   "source": [
    "First, we read the dataset using pandas `read_csv` method."
   ]
  },
  {
   "cell_type": "code",
   "execution_count": 66,
   "metadata": {},
   "outputs": [
    {
     "data": {
      "text/html": [
       "<div>\n",
       "<style scoped>\n",
       "    .dataframe tbody tr th:only-of-type {\n",
       "        vertical-align: middle;\n",
       "    }\n",
       "\n",
       "    .dataframe tbody tr th {\n",
       "        vertical-align: top;\n",
       "    }\n",
       "\n",
       "    .dataframe thead th {\n",
       "        text-align: right;\n",
       "    }\n",
       "</style>\n",
       "<table border=\"1\" class=\"dataframe\">\n",
       "  <thead>\n",
       "    <tr style=\"text-align: right;\">\n",
       "      <th></th>\n",
       "      <th>age</th>\n",
       "      <th>job</th>\n",
       "      <th>marital</th>\n",
       "      <th>education</th>\n",
       "      <th>balance</th>\n",
       "      <th>housing</th>\n",
       "      <th>loan</th>\n",
       "      <th>duration</th>\n",
       "      <th>campaign</th>\n",
       "      <th>pdays</th>\n",
       "      <th>poutcome</th>\n",
       "      <th>y</th>\n",
       "    </tr>\n",
       "  </thead>\n",
       "  <tbody>\n",
       "    <tr>\n",
       "      <th>0</th>\n",
       "      <td>30.0</td>\n",
       "      <td>unemployed</td>\n",
       "      <td>married</td>\n",
       "      <td>primary</td>\n",
       "      <td>1787.0</td>\n",
       "      <td>no</td>\n",
       "      <td>no</td>\n",
       "      <td>79.0</td>\n",
       "      <td>1</td>\n",
       "      <td>-1</td>\n",
       "      <td>unknown</td>\n",
       "      <td>no</td>\n",
       "    </tr>\n",
       "    <tr>\n",
       "      <th>1</th>\n",
       "      <td>33.0</td>\n",
       "      <td>services</td>\n",
       "      <td>married</td>\n",
       "      <td>secondary</td>\n",
       "      <td>4789.0</td>\n",
       "      <td>yes</td>\n",
       "      <td>yes</td>\n",
       "      <td>NaN</td>\n",
       "      <td>1</td>\n",
       "      <td>339</td>\n",
       "      <td>failure</td>\n",
       "      <td>no</td>\n",
       "    </tr>\n",
       "    <tr>\n",
       "      <th>2</th>\n",
       "      <td>NaN</td>\n",
       "      <td>management</td>\n",
       "      <td>single</td>\n",
       "      <td>tertiary</td>\n",
       "      <td>135.0</td>\n",
       "      <td>yes</td>\n",
       "      <td>no</td>\n",
       "      <td>185.0</td>\n",
       "      <td>1</td>\n",
       "      <td>330</td>\n",
       "      <td>failure</td>\n",
       "      <td>no</td>\n",
       "    </tr>\n",
       "    <tr>\n",
       "      <th>3</th>\n",
       "      <td>30.0</td>\n",
       "      <td>management</td>\n",
       "      <td>married</td>\n",
       "      <td>tertiary</td>\n",
       "      <td>1476.0</td>\n",
       "      <td>yes</td>\n",
       "      <td>yes</td>\n",
       "      <td>199.0</td>\n",
       "      <td>4</td>\n",
       "      <td>-1</td>\n",
       "      <td>unknown</td>\n",
       "      <td>no</td>\n",
       "    </tr>\n",
       "    <tr>\n",
       "      <th>4</th>\n",
       "      <td>59.0</td>\n",
       "      <td>blue-collar</td>\n",
       "      <td>married</td>\n",
       "      <td>secondary</td>\n",
       "      <td>NaN</td>\n",
       "      <td>yes</td>\n",
       "      <td>no</td>\n",
       "      <td>226.0</td>\n",
       "      <td>1</td>\n",
       "      <td>-1</td>\n",
       "      <td>unknown</td>\n",
       "      <td>no</td>\n",
       "    </tr>\n",
       "    <tr>\n",
       "      <th>...</th>\n",
       "      <td>...</td>\n",
       "      <td>...</td>\n",
       "      <td>...</td>\n",
       "      <td>...</td>\n",
       "      <td>...</td>\n",
       "      <td>...</td>\n",
       "      <td>...</td>\n",
       "      <td>...</td>\n",
       "      <td>...</td>\n",
       "      <td>...</td>\n",
       "      <td>...</td>\n",
       "      <td>...</td>\n",
       "    </tr>\n",
       "    <tr>\n",
       "      <th>4516</th>\n",
       "      <td>33.0</td>\n",
       "      <td>services</td>\n",
       "      <td>married</td>\n",
       "      <td>secondary</td>\n",
       "      <td>-333.0</td>\n",
       "      <td>yes</td>\n",
       "      <td>no</td>\n",
       "      <td>329.0</td>\n",
       "      <td>5</td>\n",
       "      <td>-1</td>\n",
       "      <td>unknown</td>\n",
       "      <td>no</td>\n",
       "    </tr>\n",
       "    <tr>\n",
       "      <th>4517</th>\n",
       "      <td>57.0</td>\n",
       "      <td>self-employed</td>\n",
       "      <td>married</td>\n",
       "      <td>tertiary</td>\n",
       "      <td>-3313.0</td>\n",
       "      <td>yes</td>\n",
       "      <td>yes</td>\n",
       "      <td>153.0</td>\n",
       "      <td>1</td>\n",
       "      <td>-1</td>\n",
       "      <td>unknown</td>\n",
       "      <td>no</td>\n",
       "    </tr>\n",
       "    <tr>\n",
       "      <th>4518</th>\n",
       "      <td>57.0</td>\n",
       "      <td>technician</td>\n",
       "      <td>married</td>\n",
       "      <td>secondary</td>\n",
       "      <td>295.0</td>\n",
       "      <td>no</td>\n",
       "      <td>no</td>\n",
       "      <td>151.0</td>\n",
       "      <td>11</td>\n",
       "      <td>-1</td>\n",
       "      <td>unknown</td>\n",
       "      <td>no</td>\n",
       "    </tr>\n",
       "    <tr>\n",
       "      <th>4519</th>\n",
       "      <td>28.0</td>\n",
       "      <td>blue-collar</td>\n",
       "      <td>married</td>\n",
       "      <td>secondary</td>\n",
       "      <td>1137.0</td>\n",
       "      <td>no</td>\n",
       "      <td>no</td>\n",
       "      <td>129.0</td>\n",
       "      <td>4</td>\n",
       "      <td>211</td>\n",
       "      <td>other</td>\n",
       "      <td>no</td>\n",
       "    </tr>\n",
       "    <tr>\n",
       "      <th>4520</th>\n",
       "      <td>44.0</td>\n",
       "      <td>entrepreneur</td>\n",
       "      <td>single</td>\n",
       "      <td>tertiary</td>\n",
       "      <td>1136.0</td>\n",
       "      <td>yes</td>\n",
       "      <td>yes</td>\n",
       "      <td>345.0</td>\n",
       "      <td>2</td>\n",
       "      <td>249</td>\n",
       "      <td>other</td>\n",
       "      <td>no</td>\n",
       "    </tr>\n",
       "  </tbody>\n",
       "</table>\n",
       "<p>4521 rows × 12 columns</p>\n",
       "</div>"
      ],
      "text/plain": [
       "       age            job  marital  education  balance housing loan  duration  \\\n",
       "0     30.0     unemployed  married    primary   1787.0      no   no      79.0   \n",
       "1     33.0       services  married  secondary   4789.0     yes  yes       NaN   \n",
       "2      NaN     management   single   tertiary    135.0     yes   no     185.0   \n",
       "3     30.0     management  married   tertiary   1476.0     yes  yes     199.0   \n",
       "4     59.0    blue-collar  married  secondary      NaN     yes   no     226.0   \n",
       "...    ...            ...      ...        ...      ...     ...  ...       ...   \n",
       "4516  33.0       services  married  secondary   -333.0     yes   no     329.0   \n",
       "4517  57.0  self-employed  married   tertiary  -3313.0     yes  yes     153.0   \n",
       "4518  57.0     technician  married  secondary    295.0      no   no     151.0   \n",
       "4519  28.0    blue-collar  married  secondary   1137.0      no   no     129.0   \n",
       "4520  44.0   entrepreneur   single   tertiary   1136.0     yes  yes     345.0   \n",
       "\n",
       "      campaign  pdays poutcome   y  \n",
       "0            1     -1  unknown  no  \n",
       "1            1    339  failure  no  \n",
       "2            1    330  failure  no  \n",
       "3            4     -1  unknown  no  \n",
       "4            1     -1  unknown  no  \n",
       "...        ...    ...      ...  ..  \n",
       "4516         5     -1  unknown  no  \n",
       "4517         1     -1  unknown  no  \n",
       "4518        11     -1  unknown  no  \n",
       "4519         4    211    other  no  \n",
       "4520         2    249    other  no  \n",
       "\n",
       "[4521 rows x 12 columns]"
      ]
     },
     "execution_count": 66,
     "metadata": {},
     "output_type": "execute_result"
    }
   ],
   "source": [
    "import pandas as pd\n",
    "import numpy as np\n",
    "import matplotlib.pyplot as plt\n",
    "from scipy.stats import norm\n",
    "from time import time\n",
    "df = pd.read_csv(\"bank_term_deposit.csv\")\n",
    "df"
   ]
  },
  {
   "cell_type": "markdown",
   "metadata": {},
   "source": [
    "### Part 1.2"
   ]
  },
  {
   "cell_type": "markdown",
   "metadata": {},
   "source": [
    "To see the following statistical information of the columns that are not categorical, we used the `describe()` pandas method.\n",
    "\n",
    "1. Mean\n",
    "  \n",
    "2. Standard deviation\n",
    "  \n",
    "3. Minimum\n",
    "  \n",
    "4. 25%, 50%, and 75% The percentiles to include in the output.\n",
    "  \n",
    "5. Maximum"
   ]
  },
  {
   "cell_type": "code",
   "execution_count": 3,
   "metadata": {},
   "outputs": [
    {
     "data": {
      "text/html": [
       "<div>\n",
       "<style scoped>\n",
       "    .dataframe tbody tr th:only-of-type {\n",
       "        vertical-align: middle;\n",
       "    }\n",
       "\n",
       "    .dataframe tbody tr th {\n",
       "        vertical-align: top;\n",
       "    }\n",
       "\n",
       "    .dataframe thead th {\n",
       "        text-align: right;\n",
       "    }\n",
       "</style>\n",
       "<table border=\"1\" class=\"dataframe\">\n",
       "  <thead>\n",
       "    <tr style=\"text-align: right;\">\n",
       "      <th></th>\n",
       "      <th>age</th>\n",
       "      <th>balance</th>\n",
       "      <th>duration</th>\n",
       "      <th>campaign</th>\n",
       "      <th>pdays</th>\n",
       "    </tr>\n",
       "  </thead>\n",
       "  <tbody>\n",
       "    <tr>\n",
       "      <th>count</th>\n",
       "      <td>3984.000000</td>\n",
       "      <td>4164.000000</td>\n",
       "      <td>4388.000000</td>\n",
       "      <td>4521.000000</td>\n",
       "      <td>4521.000000</td>\n",
       "    </tr>\n",
       "    <tr>\n",
       "      <th>mean</th>\n",
       "      <td>41.617470</td>\n",
       "      <td>1136.750240</td>\n",
       "      <td>264.724020</td>\n",
       "      <td>2.793630</td>\n",
       "      <td>39.766645</td>\n",
       "    </tr>\n",
       "    <tr>\n",
       "      <th>std</th>\n",
       "      <td>10.696378</td>\n",
       "      <td>2726.204918</td>\n",
       "      <td>261.057119</td>\n",
       "      <td>3.109807</td>\n",
       "      <td>100.121124</td>\n",
       "    </tr>\n",
       "    <tr>\n",
       "      <th>min</th>\n",
       "      <td>19.000000</td>\n",
       "      <td>-3313.000000</td>\n",
       "      <td>4.000000</td>\n",
       "      <td>1.000000</td>\n",
       "      <td>-1.000000</td>\n",
       "    </tr>\n",
       "    <tr>\n",
       "      <th>25%</th>\n",
       "      <td>32.000000</td>\n",
       "      <td>58.000000</td>\n",
       "      <td>104.000000</td>\n",
       "      <td>1.000000</td>\n",
       "      <td>-1.000000</td>\n",
       "    </tr>\n",
       "    <tr>\n",
       "      <th>50%</th>\n",
       "      <td>40.000000</td>\n",
       "      <td>316.000000</td>\n",
       "      <td>185.500000</td>\n",
       "      <td>2.000000</td>\n",
       "      <td>-1.000000</td>\n",
       "    </tr>\n",
       "    <tr>\n",
       "      <th>75%</th>\n",
       "      <td>49.000000</td>\n",
       "      <td>997.000000</td>\n",
       "      <td>331.000000</td>\n",
       "      <td>3.000000</td>\n",
       "      <td>-1.000000</td>\n",
       "    </tr>\n",
       "    <tr>\n",
       "      <th>max</th>\n",
       "      <td>87.000000</td>\n",
       "      <td>71188.000000</td>\n",
       "      <td>3025.000000</td>\n",
       "      <td>50.000000</td>\n",
       "      <td>871.000000</td>\n",
       "    </tr>\n",
       "  </tbody>\n",
       "</table>\n",
       "</div>"
      ],
      "text/plain": [
       "               age       balance     duration     campaign        pdays\n",
       "count  3984.000000   4164.000000  4388.000000  4521.000000  4521.000000\n",
       "mean     41.617470   1136.750240   264.724020     2.793630    39.766645\n",
       "std      10.696378   2726.204918   261.057119     3.109807   100.121124\n",
       "min      19.000000  -3313.000000     4.000000     1.000000    -1.000000\n",
       "25%      32.000000     58.000000   104.000000     1.000000    -1.000000\n",
       "50%      40.000000    316.000000   185.500000     2.000000    -1.000000\n",
       "75%      49.000000    997.000000   331.000000     3.000000    -1.000000\n",
       "max      87.000000  71188.000000  3025.000000    50.000000   871.000000"
      ]
     },
     "execution_count": 3,
     "metadata": {},
     "output_type": "execute_result"
    }
   ],
   "source": [
    "df.describe()"
   ]
  },
  {
   "cell_type": "markdown",
   "metadata": {},
   "source": [
    "### Part 1.3"
   ]
  },
  {
   "cell_type": "markdown",
   "metadata": {},
   "source": [
    "To get 5 first rows of the dataframe:"
   ]
  },
  {
   "cell_type": "code",
   "execution_count": 17,
   "metadata": {},
   "outputs": [
    {
     "data": {
      "text/html": [
       "<div>\n",
       "<style scoped>\n",
       "    .dataframe tbody tr th:only-of-type {\n",
       "        vertical-align: middle;\n",
       "    }\n",
       "\n",
       "    .dataframe tbody tr th {\n",
       "        vertical-align: top;\n",
       "    }\n",
       "\n",
       "    .dataframe thead th {\n",
       "        text-align: right;\n",
       "    }\n",
       "</style>\n",
       "<table border=\"1\" class=\"dataframe\">\n",
       "  <thead>\n",
       "    <tr style=\"text-align: right;\">\n",
       "      <th></th>\n",
       "      <th>age</th>\n",
       "      <th>job</th>\n",
       "      <th>marital</th>\n",
       "      <th>education</th>\n",
       "      <th>balance</th>\n",
       "      <th>housing</th>\n",
       "      <th>loan</th>\n",
       "      <th>duration</th>\n",
       "      <th>campaign</th>\n",
       "      <th>pdays</th>\n",
       "      <th>poutcome</th>\n",
       "      <th>y</th>\n",
       "    </tr>\n",
       "  </thead>\n",
       "  <tbody>\n",
       "    <tr>\n",
       "      <th>0</th>\n",
       "      <td>30.0</td>\n",
       "      <td>unemployed</td>\n",
       "      <td>married</td>\n",
       "      <td>primary</td>\n",
       "      <td>1787.0</td>\n",
       "      <td>no</td>\n",
       "      <td>no</td>\n",
       "      <td>79.0</td>\n",
       "      <td>1</td>\n",
       "      <td>-1</td>\n",
       "      <td>unknown</td>\n",
       "      <td>no</td>\n",
       "    </tr>\n",
       "    <tr>\n",
       "      <th>1</th>\n",
       "      <td>33.0</td>\n",
       "      <td>services</td>\n",
       "      <td>married</td>\n",
       "      <td>secondary</td>\n",
       "      <td>4789.0</td>\n",
       "      <td>yes</td>\n",
       "      <td>yes</td>\n",
       "      <td>NaN</td>\n",
       "      <td>1</td>\n",
       "      <td>339</td>\n",
       "      <td>failure</td>\n",
       "      <td>no</td>\n",
       "    </tr>\n",
       "    <tr>\n",
       "      <th>2</th>\n",
       "      <td>NaN</td>\n",
       "      <td>management</td>\n",
       "      <td>single</td>\n",
       "      <td>tertiary</td>\n",
       "      <td>135.0</td>\n",
       "      <td>yes</td>\n",
       "      <td>no</td>\n",
       "      <td>185.0</td>\n",
       "      <td>1</td>\n",
       "      <td>330</td>\n",
       "      <td>failure</td>\n",
       "      <td>no</td>\n",
       "    </tr>\n",
       "    <tr>\n",
       "      <th>3</th>\n",
       "      <td>30.0</td>\n",
       "      <td>management</td>\n",
       "      <td>married</td>\n",
       "      <td>tertiary</td>\n",
       "      <td>1476.0</td>\n",
       "      <td>yes</td>\n",
       "      <td>yes</td>\n",
       "      <td>199.0</td>\n",
       "      <td>4</td>\n",
       "      <td>-1</td>\n",
       "      <td>unknown</td>\n",
       "      <td>no</td>\n",
       "    </tr>\n",
       "    <tr>\n",
       "      <th>4</th>\n",
       "      <td>59.0</td>\n",
       "      <td>blue-collar</td>\n",
       "      <td>married</td>\n",
       "      <td>secondary</td>\n",
       "      <td>NaN</td>\n",
       "      <td>yes</td>\n",
       "      <td>no</td>\n",
       "      <td>226.0</td>\n",
       "      <td>1</td>\n",
       "      <td>-1</td>\n",
       "      <td>unknown</td>\n",
       "      <td>no</td>\n",
       "    </tr>\n",
       "  </tbody>\n",
       "</table>\n",
       "</div>"
      ],
      "text/plain": [
       "    age          job  marital  education  balance housing loan  duration  \\\n",
       "0  30.0   unemployed  married    primary   1787.0      no   no      79.0   \n",
       "1  33.0     services  married  secondary   4789.0     yes  yes       NaN   \n",
       "2   NaN   management   single   tertiary    135.0     yes   no     185.0   \n",
       "3  30.0   management  married   tertiary   1476.0     yes  yes     199.0   \n",
       "4  59.0  blue-collar  married  secondary      NaN     yes   no     226.0   \n",
       "\n",
       "   campaign  pdays poutcome   y  \n",
       "0         1     -1  unknown  no  \n",
       "1         1    339  failure  no  \n",
       "2         1    330  failure  no  \n",
       "3         4     -1  unknown  no  \n",
       "4         1     -1  unknown  no  "
      ]
     },
     "execution_count": 17,
     "metadata": {},
     "output_type": "execute_result"
    }
   ],
   "source": [
    "df.head()"
   ]
  },
  {
   "cell_type": "markdown",
   "metadata": {},
   "source": [
    "### Part 1.4"
   ]
  },
  {
   "cell_type": "markdown",
   "metadata": {},
   "source": [
    "To get 5 last rows of the dataframe"
   ]
  },
  {
   "cell_type": "code",
   "execution_count": 2,
   "metadata": {},
   "outputs": [
    {
     "data": {
      "text/html": [
       "<div>\n",
       "<style scoped>\n",
       "    .dataframe tbody tr th:only-of-type {\n",
       "        vertical-align: middle;\n",
       "    }\n",
       "\n",
       "    .dataframe tbody tr th {\n",
       "        vertical-align: top;\n",
       "    }\n",
       "\n",
       "    .dataframe thead th {\n",
       "        text-align: right;\n",
       "    }\n",
       "</style>\n",
       "<table border=\"1\" class=\"dataframe\">\n",
       "  <thead>\n",
       "    <tr style=\"text-align: right;\">\n",
       "      <th></th>\n",
       "      <th>age</th>\n",
       "      <th>job</th>\n",
       "      <th>marital</th>\n",
       "      <th>education</th>\n",
       "      <th>balance</th>\n",
       "      <th>housing</th>\n",
       "      <th>loan</th>\n",
       "      <th>duration</th>\n",
       "      <th>campaign</th>\n",
       "      <th>pdays</th>\n",
       "      <th>poutcome</th>\n",
       "      <th>y</th>\n",
       "    </tr>\n",
       "  </thead>\n",
       "  <tbody>\n",
       "    <tr>\n",
       "      <th>4516</th>\n",
       "      <td>33.0</td>\n",
       "      <td>services</td>\n",
       "      <td>married</td>\n",
       "      <td>secondary</td>\n",
       "      <td>-333.0</td>\n",
       "      <td>yes</td>\n",
       "      <td>no</td>\n",
       "      <td>329.0</td>\n",
       "      <td>5</td>\n",
       "      <td>-1</td>\n",
       "      <td>unknown</td>\n",
       "      <td>no</td>\n",
       "    </tr>\n",
       "    <tr>\n",
       "      <th>4517</th>\n",
       "      <td>57.0</td>\n",
       "      <td>self-employed</td>\n",
       "      <td>married</td>\n",
       "      <td>tertiary</td>\n",
       "      <td>-3313.0</td>\n",
       "      <td>yes</td>\n",
       "      <td>yes</td>\n",
       "      <td>153.0</td>\n",
       "      <td>1</td>\n",
       "      <td>-1</td>\n",
       "      <td>unknown</td>\n",
       "      <td>no</td>\n",
       "    </tr>\n",
       "    <tr>\n",
       "      <th>4518</th>\n",
       "      <td>57.0</td>\n",
       "      <td>technician</td>\n",
       "      <td>married</td>\n",
       "      <td>secondary</td>\n",
       "      <td>295.0</td>\n",
       "      <td>no</td>\n",
       "      <td>no</td>\n",
       "      <td>151.0</td>\n",
       "      <td>11</td>\n",
       "      <td>-1</td>\n",
       "      <td>unknown</td>\n",
       "      <td>no</td>\n",
       "    </tr>\n",
       "    <tr>\n",
       "      <th>4519</th>\n",
       "      <td>28.0</td>\n",
       "      <td>blue-collar</td>\n",
       "      <td>married</td>\n",
       "      <td>secondary</td>\n",
       "      <td>1137.0</td>\n",
       "      <td>no</td>\n",
       "      <td>no</td>\n",
       "      <td>129.0</td>\n",
       "      <td>4</td>\n",
       "      <td>211</td>\n",
       "      <td>other</td>\n",
       "      <td>no</td>\n",
       "    </tr>\n",
       "    <tr>\n",
       "      <th>4520</th>\n",
       "      <td>44.0</td>\n",
       "      <td>entrepreneur</td>\n",
       "      <td>single</td>\n",
       "      <td>tertiary</td>\n",
       "      <td>1136.0</td>\n",
       "      <td>yes</td>\n",
       "      <td>yes</td>\n",
       "      <td>345.0</td>\n",
       "      <td>2</td>\n",
       "      <td>249</td>\n",
       "      <td>other</td>\n",
       "      <td>no</td>\n",
       "    </tr>\n",
       "  </tbody>\n",
       "</table>\n",
       "</div>"
      ],
      "text/plain": [
       "       age            job  marital  education  balance housing loan  duration  \\\n",
       "4516  33.0       services  married  secondary   -333.0     yes   no     329.0   \n",
       "4517  57.0  self-employed  married   tertiary  -3313.0     yes  yes     153.0   \n",
       "4518  57.0     technician  married  secondary    295.0      no   no     151.0   \n",
       "4519  28.0    blue-collar  married  secondary   1137.0      no   no     129.0   \n",
       "4520  44.0   entrepreneur   single   tertiary   1136.0     yes  yes     345.0   \n",
       "\n",
       "      campaign  pdays poutcome   y  \n",
       "4516         5     -1  unknown  no  \n",
       "4517         1     -1  unknown  no  \n",
       "4518        11     -1  unknown  no  \n",
       "4519         4    211    other  no  \n",
       "4520         2    249    other  no  "
      ]
     },
     "execution_count": 2,
     "metadata": {},
     "output_type": "execute_result"
    }
   ],
   "source": [
    "df.tail()"
   ]
  },
  {
   "cell_type": "markdown",
   "metadata": {},
   "source": [
    "### Part 1.5"
   ]
  },
  {
   "cell_type": "markdown",
   "metadata": {},
   "source": [
    "To get the type of each column using `info()` pandas method:\n",
    "\n",
    "1. RangeIndex\n",
    "2. Range of columns\n",
    "3. Type of each column\n",
    "4. Memory usage"
   ]
  },
  {
   "cell_type": "code",
   "execution_count": 7,
   "metadata": {},
   "outputs": [
    {
     "name": "stdout",
     "output_type": "stream",
     "text": [
      "<class 'pandas.core.frame.DataFrame'>\n",
      "RangeIndex: 4521 entries, 0 to 4520\n",
      "Data columns (total 12 columns):\n",
      " #   Column     Non-Null Count  Dtype  \n",
      "---  ------     --------------  -----  \n",
      " 0   age        3984 non-null   float64\n",
      " 1   job        4521 non-null   object \n",
      " 2   marital    4401 non-null   object \n",
      " 3   education  4521 non-null   object \n",
      " 4   balance    4164 non-null   float64\n",
      " 5   housing    4302 non-null   object \n",
      " 6   loan       4521 non-null   object \n",
      " 7   duration   4388 non-null   float64\n",
      " 8   campaign   4521 non-null   int64  \n",
      " 9   pdays      4521 non-null   int64  \n",
      " 10  poutcome   4521 non-null   object \n",
      " 11  y          4087 non-null   object \n",
      "dtypes: float64(3), int64(2), object(7)\n",
      "memory usage: 424.0+ KB\n"
     ]
    }
   ],
   "source": [
    "df.info()"
   ]
  },
  {
   "cell_type": "markdown",
   "metadata": {},
   "source": [
    "## Part 2"
   ]
  },
  {
   "cell_type": "markdown",
   "metadata": {},
   "source": [
    "### Part 2.1\n",
    "\n",
    "Columns description:\n",
    "\n",
    "- Age: number\n",
    "- The job of the customer: categorical (admin: 0, blue-collar: 1, entrepreneur: 2, housemaid: 3, management: 4, retired: 5, self-employed: 6, services: 7, student: 8, technician: 9, unemployed: 10, unknown: 11)\n",
    "- The marital status of the customer: categorical (divorced: 0, single: 1, married: 2)\n",
    "- Education of customer: categorical (primary: 0, secondary: 1, tertiary: 2, unknown: 3)\n",
    "- Customer's balance in the bank: numerical\n",
    "- Their housing loan status: categorical (no: 0, yes: 1)\n",
    "- Their personal loan status: categorical (no: 0, yes: 1)\n",
    "- The duration of the last call of the customer with the bank: numerical\n",
    "- The number of calls with costumer in the campaign: numerical\n",
    "- Number of days of the last call with the customer since the previous campaign: numerical\n",
    "- The outcome of the previous campaign for the customer: categorical (unknown: 0, failure: 1, success: 2, other: 3)\n",
    "- If the customer submitted the long-term account or not (Target value)"
   ]
  },
  {
   "cell_type": "markdown",
   "metadata": {},
   "source": [
    "### Part 2.2"
   ]
  },
  {
   "cell_type": "markdown",
   "metadata": {},
   "source": [
    "To convert categorical columns to numerical, we simply use `map()` pandas method."
   ]
  },
  {
   "cell_type": "code",
   "execution_count": 67,
   "metadata": {},
   "outputs": [],
   "source": [
    "replacements={\"admin.\": 0, \"blue-collar\": 1, \"entrepreneur\": 2, \"housemaid\": 3, \"management\": 4, \"retired\": 5, \"self-employed\": 6, \"services\": 7, \"student\": 8, \"technician\": 9, \"unemployed\": 10, \"unknown\": 11}\n",
    "df[\"job\"]=df[\"job\"].map(replacements)\n",
    "\n",
    "replacements={\"divorced\": 0, \"single\": 1, \"married\": 2}\n",
    "df[\"marital\"]=df['marital'].map(replacements)\n",
    "\n",
    "replacements={\"primary\": 0, \"secondary\": 1, \"tertiary\": 2, \"unknown\": 3}\n",
    "df[\"education\"]=df['education'].map(replacements)\n",
    "\n",
    "replacements={\"no\": 0, \"yes\": 1}\n",
    "df[\"housing\"]=df['housing'].map(replacements)\n",
    "df[\"loan\"]=df['loan'].map(replacements)\n",
    "\n",
    "replacements={\"unknown\": 0, \"failure\": 1, \"success\": 2, \"other\": 3}\n",
    "df[\"poutcome\"]=df['poutcome'].map(replacements)"
   ]
  },
  {
   "cell_type": "markdown",
   "metadata": {},
   "source": [
    "We could also use the following cell to encode the categorical columns."
   ]
  },
  {
   "cell_type": "code",
   "execution_count": 52,
   "metadata": {},
   "outputs": [],
   "source": [
    "# df[\"job\"] = df[\"job\"].astype(\"category\").cat.codes\n",
    "# df[\"marital\"] = df[\"marital\"].astype(\"category\").cat.codes\n",
    "# df[\"education\"] = df[\"education\"].astype(\"category\").cat.codes\n",
    "# df[\"housing\"] = df[\"housing\"].astype(\"category\").cat.codes\n",
    "# df[\"loan\"] = df[\"loan\"].astype(\"category\").cat.codes\n",
    "# df[\"poutcome\"] = df[\"poutcome\"].astype(\"category\").cat.codes\n"
   ]
  },
  {
   "cell_type": "markdown",
   "metadata": {},
   "source": [
    "## Part 3\n",
    "### Part 3.1\n",
    "\n",
    "To get the number of NaN cells for each column, we use `isna()` pandas method."
   ]
  },
  {
   "cell_type": "code",
   "execution_count": 61,
   "metadata": {},
   "outputs": [
    {
     "data": {
      "text/plain": [
       "age          537\n",
       "job            0\n",
       "marital      120\n",
       "education      0\n",
       "balance      357\n",
       "housing      219\n",
       "loan           0\n",
       "duration     133\n",
       "campaign       0\n",
       "pdays          0\n",
       "poutcome       0\n",
       "y            434\n",
       "dtype: int64"
      ]
     },
     "execution_count": 61,
     "metadata": {},
     "output_type": "execute_result"
    }
   ],
   "source": [
    "df.isna().sum()"
   ]
  },
  {
   "cell_type": "markdown",
   "metadata": {},
   "source": [
    "To get the mean of each column, we used `mean()` pandas method."
   ]
  },
  {
   "cell_type": "code",
   "execution_count": 62,
   "metadata": {},
   "outputs": [
    {
     "name": "stderr",
     "output_type": "stream",
     "text": [
      "/tmp/ipykernel_1639568/4192548252.py:1: FutureWarning: Dropping of nuisance columns in DataFrame reductions (with 'numeric_only=None') is deprecated; in a future version this will raise TypeError.  Select only valid columns before calling the reduction.\n",
      "  columns_mean=df.mean()\n"
     ]
    },
    {
     "data": {
      "text/plain": [
       "age            41.617470\n",
       "job             4.411192\n",
       "marital         1.503522\n",
       "education       1.231365\n",
       "balance      1136.750240\n",
       "housing         0.566016\n",
       "loan            0.152842\n",
       "duration      264.724020\n",
       "campaign        2.793630\n",
       "pdays          39.766645\n",
       "poutcome        0.296173\n",
       "dtype: float64"
      ]
     },
     "execution_count": 62,
     "metadata": {},
     "output_type": "execute_result"
    }
   ],
   "source": [
    "columns_mean=df.mean()\n",
    "columns_mean"
   ]
  },
  {
   "cell_type": "markdown",
   "metadata": {},
   "source": [
    "In order to replace the NaN columns with the mean values we use `fillna()` pandas method. "
   ]
  },
  {
   "cell_type": "code",
   "execution_count": 68,
   "metadata": {},
   "outputs": [],
   "source": [
    "df[\"age\"] = df[\"age\"].fillna(columns_mean[\"age\"])\n",
    "df[\"balance\"] = df[\"balance\"].fillna(columns_mean[\"balance\"])\n",
    "df[\"duration\"] = df[\"duration\"].fillna(columns_mean[\"duration\"])"
   ]
  },
  {
   "cell_type": "code",
   "execution_count": 69,
   "metadata": {},
   "outputs": [
    {
     "data": {
      "text/plain": [
       "age            0\n",
       "job            0\n",
       "marital      120\n",
       "education      0\n",
       "balance        0\n",
       "housing      219\n",
       "loan           0\n",
       "duration       0\n",
       "campaign       0\n",
       "pdays          0\n",
       "poutcome       0\n",
       "y            434\n",
       "dtype: int64"
      ]
     },
     "execution_count": 69,
     "metadata": {},
     "output_type": "execute_result"
    }
   ],
   "source": [
    "df.isna().sum()"
   ]
  },
  {
   "cell_type": "markdown",
   "metadata": {},
   "source": [
    "### Part 3.2\n",
    "Replacing NaN cells with the mean of that columns although is simple and straightforward has the following disadvantages:\n",
    "\n",
    "- Adversely affects the correlation of variables\n",
    "- Reduces variance and standard deviation, because the number of data increases but the sum of $ (x-\\mu)^2 $ remain constant.\n",
    "- As a result, the distribuation of data won't be normal\n",
    "\n",
    "It is better to use the k nearest neighbors clustering method to get better accuracy."
   ]
  },
  {
   "cell_type": "markdown",
   "metadata": {},
   "source": [
    "### Part 3.3"
   ]
  },
  {
   "cell_type": "markdown",
   "metadata": {},
   "source": [
    "Now, we copy the rows with missing `y` value into `df_test` and copy the rest to `df_train` dataframes."
   ]
  },
  {
   "cell_type": "code",
   "execution_count": 70,
   "metadata": {},
   "outputs": [],
   "source": [
    "df_test = df[df[\"y\"].isnull()].copy()\n",
    "df_train = df[df[\"y\"].notnull()].copy()"
   ]
  },
  {
   "cell_type": "markdown",
   "metadata": {},
   "source": [
    "Now we can replace the `y` column with numbers (0 and 1) on the `df_train` dataframe."
   ]
  },
  {
   "cell_type": "code",
   "execution_count": 71,
   "metadata": {},
   "outputs": [],
   "source": [
    "replacements={\"no\": 0, \"yes\": 1}\n",
    "df_train[\"y\"]=df_train['y'].map(replacements)"
   ]
  },
  {
   "cell_type": "markdown",
   "metadata": {},
   "source": [
    "# Part 4"
   ]
  },
  {
   "cell_type": "code",
   "execution_count": 82,
   "metadata": {},
   "outputs": [
    {
     "data": {
      "text/plain": [
       "2188"
      ]
     },
     "execution_count": 82,
     "metadata": {},
     "output_type": "execute_result"
    }
   ],
   "source": [
    "df_train[df_train[\"housing\"]==1][\"housing\"].count()"
   ]
  },
  {
   "cell_type": "code",
   "execution_count": 83,
   "metadata": {},
   "outputs": [
    {
     "data": {
      "text/plain": [
       "1698"
      ]
     },
     "execution_count": 83,
     "metadata": {},
     "output_type": "execute_result"
    }
   ],
   "source": [
    "df_train[df_train[\"housing\"]==0][\"housing\"].count()"
   ]
  },
  {
   "cell_type": "markdown",
   "metadata": {},
   "source": [
    "2188 of cutomers have got the housing loan and 1698 have not."
   ]
  },
  {
   "cell_type": "code",
   "execution_count": 86,
   "metadata": {},
   "outputs": [
    {
     "data": {
      "text/plain": [
       "464"
      ]
     },
     "execution_count": 86,
     "metadata": {},
     "output_type": "execute_result"
    }
   ],
   "source": [
    "df_train[df_train[\"y\"]==1][\"y\"].count()"
   ]
  },
  {
   "cell_type": "code",
   "execution_count": 85,
   "metadata": {},
   "outputs": [
    {
     "data": {
      "text/plain": [
       "3623"
      ]
     },
     "execution_count": 85,
     "metadata": {},
     "output_type": "execute_result"
    }
   ],
   "source": [
    "df_train[df_train[\"y\"]==0][\"y\"].count()"
   ]
  },
  {
   "cell_type": "markdown",
   "metadata": {},
   "source": [
    "464 of customers submitted long-term account and 3623 did not."
   ]
  },
  {
   "cell_type": "markdown",
   "metadata": {},
   "source": [
    "# Part 5"
   ]
  },
  {
   "cell_type": "code",
   "execution_count": 91,
   "metadata": {},
   "outputs": [
    {
     "name": "stderr",
     "output_type": "stream",
     "text": [
      "/tmp/ipykernel_1639568/3514067166.py:1: UserWarning: Boolean Series key will be reindexed to match DataFrame index.\n",
      "  df_train[df_train[\"poutcome\"]==2][df_train[\"age\"]>=35][df_train[\"marital\"]==1][\"y\"].count()\n"
     ]
    },
    {
     "data": {
      "text/plain": [
       "14"
      ]
     },
     "execution_count": 91,
     "metadata": {},
     "output_type": "execute_result"
    }
   ],
   "source": [
    "df_train[df_train[\"poutcome\"]==2][df_train[\"age\"]>=35][df_train[\"marital\"]==1][\"y\"].count()"
   ]
  },
  {
   "cell_type": "markdown",
   "metadata": {},
   "source": [
    "14 customers are single and older than 35 who wone the previous campaign."
   ]
  },
  {
   "cell_type": "markdown",
   "metadata": {},
   "source": [
    "## Part 6"
   ]
  },
  {
   "cell_type": "code",
   "execution_count": 127,
   "metadata": {},
   "outputs": [
    {
     "name": "stdout",
     "output_type": "stream",
     "text": [
      "time: 1.5058517456054688 milliseconds\n"
     ]
    }
   ],
   "source": [
    "tic=time()\n",
    "df_train[df_train[\"education\"]==1][\"balance\"].mean()\n",
    "\n",
    "\n",
    "toc=time()\n",
    "print(\"time:\", (toc-tic)*1000, 'milliseconds')"
   ]
  },
  {
   "cell_type": "markdown",
   "metadata": {},
   "source": [
    "The mean balance of customers who have secondary education is 950.70. With vectorization, the computation takes 1.5 milliseconds."
   ]
  },
  {
   "cell_type": "markdown",
   "metadata": {},
   "source": [
    "## Part 7"
   ]
  },
  {
   "cell_type": "code",
   "execution_count": 115,
   "metadata": {},
   "outputs": [
    {
     "name": "stdout",
     "output_type": "stream",
     "text": [
      "950.7017237980879\n",
      "time: 176.76973342895508 milliseconds\n"
     ]
    }
   ],
   "source": [
    "tic=time()\n",
    "sum_balance=0\n",
    "balance_count=0\n",
    "for _, row in df_train.iterrows():\n",
    "    if row[\"education\"]==1:\n",
    "        sum_balance+=row[\"balance\"]\n",
    "        balance_count+=1\n",
    "\n",
    "print(sum_balance/balance_count)\n",
    "\n",
    "toc=time()\n",
    "print(\"time:\", (toc-tic)*1000, 'milliseconds')"
   ]
  },
  {
   "cell_type": "markdown",
   "metadata": {},
   "source": [
    "Without vectorization, the computation takes 176.8 milliseconds, which is 118 times slower."
   ]
  },
  {
   "cell_type": "markdown",
   "metadata": {},
   "source": [
    "## Part 8\n",
    "### Part 8.1"
   ]
  },
  {
   "cell_type": "markdown",
   "metadata": {},
   "source": [
    "The histogram of the columns are ploted using matplotlib."
   ]
  },
  {
   "cell_type": "code",
   "execution_count": 124,
   "metadata": {},
   "outputs": [
    {
     "data": {
      "image/png": "[encoded data removed]",
      "text/plain": [
       "<Figure size 432x288 with 1 Axes>"
      ]
     },
     "metadata": {
      "needs_background": "light"
     },
     "output_type": "display_data"
    }
   ],
   "source": [
    "plt.hist(df[\"age\"])\n",
    "plt.title(\"Age Distribution\")\n",
    "plt.show()"
   ]
  },
  {
   "cell_type": "code",
   "execution_count": 125,
   "metadata": {},
   "outputs": [
    {
     "data": {
      "image/png": "[encoded data removed]",
      "text/plain": [
       "<Figure size 432x288 with 1 Axes>"
      ]
     },
     "metadata": {
      "needs_background": "light"
     },
     "output_type": "display_data"
    }
   ],
   "source": [
    "plt.hist(df[\"balance\"])\n",
    "plt.title(\"Balance Distribution\")\n",
    "plt.show()"
   ]
  },
  {
   "cell_type": "code",
   "execution_count": 131,
   "metadata": {},
   "outputs": [
    {
     "data": {
      "image/png": "[encoded data removed]",
      "text/plain": [
       "<Figure size 432x288 with 1 Axes>"
      ]
     },
     "metadata": {
      "needs_background": "light"
     },
     "output_type": "display_data"
    }
   ],
   "source": [
    "plt.hist(df[\"campaign\"])\n",
    "plt.title(\"Campaign Distribution\")\n",
    "plt.show()"
   ]
  },
  {
   "cell_type": "code",
   "execution_count": 126,
   "metadata": {},
   "outputs": [
    {
     "data": {
      "image/png": "[encoded data removed]",
      "text/plain": [
       "<Figure size 432x288 with 1 Axes>"
      ]
     },
     "metadata": {
      "needs_background": "light"
     },
     "output_type": "display_data"
    }
   ],
   "source": [
    "plt.hist(df[\"duration\"])\n",
    "plt.title(\"Duration Distribution\")\n",
    "plt.show()"
   ]
  },
  {
   "cell_type": "code",
   "execution_count": 132,
   "metadata": {},
   "outputs": [
    {
     "data": {
      "image/png": "[encoded data removed]",
      "text/plain": [
       "<Figure size 432x288 with 1 Axes>"
      ]
     },
     "metadata": {
      "needs_background": "light"
     },
     "output_type": "display_data"
    }
   ],
   "source": [
    "plt.hist(df[\"pdays\"])\n",
    "plt.title(\"Days since previous campaign Distribution\")\n",
    "plt.show()"
   ]
  },
  {
   "cell_type": "markdown",
   "metadata": {},
   "source": [
    "### Part 8.2"
   ]
  },
  {
   "cell_type": "markdown",
   "metadata": {},
   "source": [
    "Now for the rest of the assignment, we remove the categorical columns."
   ]
  },
  {
   "cell_type": "code",
   "execution_count": 128,
   "metadata": {},
   "outputs": [],
   "source": [
    "del df_train[\"job\"]\n",
    "del df_train[\"marital\"]\n",
    "del df_train[\"education\"]\n",
    "del df_train[\"housing\"]\n",
    "del df_train[\"loan\"]\n",
    "del df_train[\"poutcome\"]"
   ]
  },
  {
   "cell_type": "code",
   "execution_count": 133,
   "metadata": {},
   "outputs": [
    {
     "data": {
      "text/html": [
       "<div>\n",
       "<style scoped>\n",
       "    .dataframe tbody tr th:only-of-type {\n",
       "        vertical-align: middle;\n",
       "    }\n",
       "\n",
       "    .dataframe tbody tr th {\n",
       "        vertical-align: top;\n",
       "    }\n",
       "\n",
       "    .dataframe thead th {\n",
       "        text-align: right;\n",
       "    }\n",
       "</style>\n",
       "<table border=\"1\" class=\"dataframe\">\n",
       "  <thead>\n",
       "    <tr style=\"text-align: right;\">\n",
       "      <th></th>\n",
       "      <th>age</th>\n",
       "      <th>balance</th>\n",
       "      <th>duration</th>\n",
       "      <th>campaign</th>\n",
       "      <th>pdays</th>\n",
       "      <th>y</th>\n",
       "    </tr>\n",
       "  </thead>\n",
       "  <tbody>\n",
       "    <tr>\n",
       "      <th>0</th>\n",
       "      <td>30.00000</td>\n",
       "      <td>1787.00000</td>\n",
       "      <td>79.00000</td>\n",
       "      <td>1</td>\n",
       "      <td>-1</td>\n",
       "      <td>0</td>\n",
       "    </tr>\n",
       "    <tr>\n",
       "      <th>1</th>\n",
       "      <td>33.00000</td>\n",
       "      <td>4789.00000</td>\n",
       "      <td>264.72402</td>\n",
       "      <td>1</td>\n",
       "      <td>339</td>\n",
       "      <td>0</td>\n",
       "    </tr>\n",
       "    <tr>\n",
       "      <th>2</th>\n",
       "      <td>41.61747</td>\n",
       "      <td>135.00000</td>\n",
       "      <td>185.00000</td>\n",
       "      <td>1</td>\n",
       "      <td>330</td>\n",
       "      <td>0</td>\n",
       "    </tr>\n",
       "    <tr>\n",
       "      <th>3</th>\n",
       "      <td>30.00000</td>\n",
       "      <td>1476.00000</td>\n",
       "      <td>199.00000</td>\n",
       "      <td>4</td>\n",
       "      <td>-1</td>\n",
       "      <td>0</td>\n",
       "    </tr>\n",
       "    <tr>\n",
       "      <th>4</th>\n",
       "      <td>59.00000</td>\n",
       "      <td>1136.75024</td>\n",
       "      <td>226.00000</td>\n",
       "      <td>1</td>\n",
       "      <td>-1</td>\n",
       "      <td>0</td>\n",
       "    </tr>\n",
       "  </tbody>\n",
       "</table>\n",
       "</div>"
      ],
      "text/plain": [
       "        age     balance   duration  campaign  pdays  y\n",
       "0  30.00000  1787.00000   79.00000         1     -1  0\n",
       "1  33.00000  4789.00000  264.72402         1    339  0\n",
       "2  41.61747   135.00000  185.00000         1    330  0\n",
       "3  30.00000  1476.00000  199.00000         4     -1  0\n",
       "4  59.00000  1136.75024  226.00000         1     -1  0"
      ]
     },
     "execution_count": 133,
     "metadata": {},
     "output_type": "execute_result"
    }
   ],
   "source": [
    "df_train.head()"
   ]
  },
  {
   "cell_type": "markdown",
   "metadata": {},
   "source": [
    "## Part 9"
   ]
  },
  {
   "cell_type": "markdown",
   "metadata": {},
   "source": [
    "Here we normalize the data by replacing $x$ with $ (x-\\mu)/\\sigma $ where $\\mu$ is the mean of the particular column and $\\sigma$ is the standard deviation."
   ]
  },
  {
   "cell_type": "code",
   "execution_count": 135,
   "metadata": {},
   "outputs": [],
   "source": [
    "def normalize_column(df,column_name):\n",
    "    mean_ = df[column_name].mean()\n",
    "    std_ = df[column_name].std()\n",
    "    df[column_name] = (df[column_name] - mean_)/std_\n",
    "    return df"
   ]
  },
  {
   "cell_type": "code",
   "execution_count": 143,
   "metadata": {},
   "outputs": [],
   "source": [
    "df_train_normal=df_train.copy()\n",
    "for columns_name in ['age', 'balance', 'duration', 'campaign', 'pdays']:\n",
    "    df_train_normal=normalize_column(df_train_normal,columns_name)"
   ]
  },
  {
   "cell_type": "markdown",
   "metadata": {},
   "source": [
    "## Part 10"
   ]
  },
  {
   "cell_type": "markdown",
   "metadata": {},
   "source": [
    "To realize which parameter is good for the classification, we use the probability density function (PDF) of the normal distribution for the mean and standard deviation of each feature for both negative and positive targets."
   ]
  },
  {
   "cell_type": "code",
   "execution_count": 147,
   "metadata": {},
   "outputs": [],
   "source": [
    "negative_columns_mean=df_train_normal[df_train_normal[\"y\"]==0].mean()\n",
    "negative_columns_std=df_train_normal[df_train_normal[\"y\"]==0].std()\n",
    "\n",
    "positive_columns_mean=df_train_normal[df_train_normal[\"y\"]==1].mean()\n",
    "positive_columns_std=df_train_normal[df_train_normal[\"y\"]==1].std()"
   ]
  },
  {
   "cell_type": "markdown",
   "metadata": {},
   "source": [
    "We define a function to plot the PDF of normal distribution for negative and positive samples."
   ]
  },
  {
   "cell_type": "code",
   "execution_count": 191,
   "metadata": {},
   "outputs": [],
   "source": [
    "def plot_neg_pos_dist(column_no):\n",
    "    x=df_train_normal[df_train_normal.columns[column_no]].to_numpy()\n",
    "    negative_dist=norm.pdf(x,negative_columns_mean[column_no],negative_columns_std[column_no])\n",
    "    positive_dist=norm.pdf(x,positive_columns_mean[column_no],positive_columns_std[column_no])\n",
    "    plt.plot(x,negative_dist,'.')\n",
    "    plt.plot(x,positive_dist,'.')\n",
    "    plt.title(df_train_normal.columns[column_no])\n",
    "    plt.show()"
   ]
  },
  {
   "cell_type": "code",
   "execution_count": 192,
   "metadata": {},
   "outputs": [
    {
     "data": {
      "image/png": "[encoded data removed]",
      "text/plain": [
       "<Figure size 432x288 with 1 Axes>"
      ]
     },
     "metadata": {
      "needs_background": "light"
     },
     "output_type": "display_data"
    },
    {
     "data": {
      "image/png": "[encoded data removed]",
      "text/plain": [
       "<Figure size 432x288 with 1 Axes>"
      ]
     },
     "metadata": {
      "needs_background": "light"
     },
     "output_type": "display_data"
    },
    {
     "data": {
      "image/png": "[encoded data removed]",
      "text/plain": [
       "<Figure size 432x288 with 1 Axes>"
      ]
     },
     "metadata": {
      "needs_background": "light"
     },
     "output_type": "display_data"
    },
    {
     "data": {
      "image/png": "[encoded data removed]",
      "text/plain": [
       "<Figure size 432x288 with 1 Axes>"
      ]
     },
     "metadata": {
      "needs_background": "light"
     },
     "output_type": "display_data"
    },
    {
     "data": {
      "image/png": "[encoded data removed]",
      "text/plain": [
       "<Figure size 432x288 with 1 Axes>"
      ]
     },
     "metadata": {
      "needs_background": "light"
     },
     "output_type": "display_data"
    }
   ],
   "source": [
    "for i in range(len(df_train_normal.columns)-1):\n",
    "    plot_neg_pos_dist(i)"
   ]
  },
  {
   "cell_type": "markdown",
   "metadata": {},
   "source": [
    "As it can be inferred from the distribution of features, only the duration of the last call of the customer with the bank has a meaningful relationship with the positive and negative target. Therefore, we will use this feature for classification."
   ]
  },
  {
   "cell_type": "code",
   "execution_count": null,
   "metadata": {},
   "outputs": [],
   "source": []
  }
 ],
 "metadata": {
  "interpreter": {
   "hash": "916dbcbb3f70747c44a77c7bcd40155683ae19c65e1c03b4aa3499c5328201f1"
  },
  "kernelspec": {
   "display_name": "Python 3.8.10 64-bit",
   "language": "python",
   "name": "python3"
  },
  "language_info": {
   "codemirror_mode": {
    "name": "ipython",
    "version": 3
   },
   "file_extension": ".py",
   "mimetype": "text/x-python",
   "name": "python",
   "nbconvert_exporter": "python",
   "pygments_lexer": "ipython3",
   "version": "3.8.10"
  },
  "orig_nbformat": 4
 },
 "nbformat": 4,
 "nbformat_minor": 2
}
